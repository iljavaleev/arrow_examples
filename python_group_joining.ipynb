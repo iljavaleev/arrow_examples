{
 "cells": [
  {
   "cell_type": "code",
   "execution_count": 2,
   "metadata": {},
   "outputs": [],
   "source": [
    "import pandas as pd\n",
    "import numpy as np\n",
    "import polars as pl\n"
   ]
  },
  {
   "cell_type": "code",
   "execution_count": 40,
   "metadata": {},
   "outputs": [],
   "source": [
    "df = pd.read_csv('data/nyc_taxi_2019-01.csv', \n",
    "                 usecols=['passenger_count', 'trip_distance', 'total_amount'])"
   ]
  },
  {
   "cell_type": "code",
   "execution_count": 3,
   "metadata": {},
   "outputs": [],
   "source": [
    "df = pl.read_csv('data/nyc_taxi_2019-01.csv', \n",
    "                 columns=['passenger_count', 'trip_distance', 'total_amount'])"
   ]
  },
  {
   "cell_type": "code",
   "execution_count": 41,
   "metadata": {},
   "outputs": [
    {
     "name": "stdout",
     "output_type": "stream",
     "text": [
      "748 ms ± 12.2 ms per loop (mean ± std. dev. of 7 runs, 1 loop each)\n"
     ]
    }
   ],
   "source": [
    "%%timeit\n",
    "# the average cost of the 20 longest (in distance) taxirides in January 2019 (descending)\n",
    "(\n",
    "    df\n",
    "    .sort_values(by=[\"trip_distance\"], ascending=False)[:20][\"total_amount\"]\n",
    "    .mean()\n",
    ")"
   ]
  },
  {
   "cell_type": "code",
   "execution_count": 21,
   "metadata": {},
   "outputs": [
    {
     "name": "stdout",
     "output_type": "stream",
     "text": [
      "178 ms ± 1.76 ms per loop (mean ± std. dev. of 7 runs, 10 loops each)\n"
     ]
    }
   ],
   "source": [
    "%%timeit\n",
    "(\n",
    "    df\n",
    "    .sort(by=[\"trip_distance\"], descending=True)[:20]\n",
    "    .select(pl.col(\"total_amount\"))\n",
    "    .mean()\n",
    ")"
   ]
  },
  {
   "cell_type": "code",
   "execution_count": 42,
   "metadata": {},
   "outputs": [
    {
     "name": "stdout",
     "output_type": "stream",
     "text": [
      "719 ms ± 14.9 ms per loop (mean ± std. dev. of 7 runs, 1 loop each)\n"
     ]
    }
   ],
   "source": [
    "%%timeit\n",
    "# the average cost of the 20 longest (in distance) taxirides in January 2019 (ascending)\n",
    "(\n",
    "    df\n",
    "    .sort_values(by=[\"trip_distance\"])[-20:][\"total_amount\"]\n",
    "    .mean()\n",
    ")"
   ]
  },
  {
   "cell_type": "code",
   "execution_count": 22,
   "metadata": {},
   "outputs": [
    {
     "name": "stdout",
     "output_type": "stream",
     "text": [
      "173 ms ± 1.93 ms per loop (mean ± std. dev. of 7 runs, 10 loops each)\n"
     ]
    }
   ],
   "source": [
    "%%timeit\n",
    "(\n",
    "    df\n",
    "    .sort(by=[\"trip_distance\"], descending=False)[-20:]\n",
    "    .select(pl.col(\"total_amount\"))\n",
    "    .mean()\n",
    ")"
   ]
  },
  {
   "cell_type": "code",
   "execution_count": 43,
   "metadata": {},
   "outputs": [
    {
     "name": "stdout",
     "output_type": "stream",
     "text": [
      "344 ms ± 14 ms per loop (mean ± std. dev. of 7 runs, 1 loop each)\n"
     ]
    }
   ],
   "source": [
    "%%timeit\n",
    "# Sort by ascending passenger count and descending trip distance\n",
    "# Average price paid for the top 50 rides\n",
    "\n",
    "(\n",
    "    df\n",
    "    .sort_values(\n",
    "        by=[\"passenger_count\", \"trip_distance\"], \n",
    "        ascending=[True, False])[:50][\"total_amount\"]\n",
    "    .mean()\n",
    ")"
   ]
  },
  {
   "cell_type": "code",
   "execution_count": 25,
   "metadata": {},
   "outputs": [
    {
     "name": "stdout",
     "output_type": "stream",
     "text": [
      "257 ms ± 4.91 ms per loop (mean ± std. dev. of 7 runs, 1 loop each)\n"
     ]
    }
   ],
   "source": [
    "%%timeit\n",
    "(\n",
    "    df\n",
    "    .sort(by=[\"passenger_count\", \"trip_distance\"], descending=[False, True])[:50]\n",
    "    .select(pl.col(\"total_amount\"))\n",
    "    .mean()\n",
    ")"
   ]
  },
  {
   "cell_type": "code",
   "execution_count": 44,
   "metadata": {},
   "outputs": [
    {
     "name": "stdout",
     "output_type": "stream",
     "text": [
      "1.17 s ± 27.9 ms per loop (mean ± std. dev. of 7 runs, 1 loop each)\n"
     ]
    }
   ],
   "source": [
    "%%timeit\n",
    "# In which five rides did people pay the most per mile? \n",
    "# How far did people go on those trips?\n",
    "(\n",
    "    df\n",
    "    .replace(0, np.nan)\n",
    "    .dropna()\n",
    "    .assign(cost_per_mile=df[\"total_amount\"]/df[\"trip_distance\"])\n",
    "    .sort_values(by=\"cost_per_mile\", ascending=False)[:5]\n",
    "    [[\"trip_distance\", \"cost_per_mile\"]]\n",
    ")"
   ]
  },
  {
   "cell_type": "code",
   "execution_count": 5,
   "metadata": {},
   "outputs": [
    {
     "name": "stdout",
     "output_type": "stream",
     "text": [
      "197 ms ± 4.9 ms per loop (mean ± std. dev. of 7 runs, 1 loop each)\n"
     ]
    }
   ],
   "source": [
    "%%timeit\n",
    "(\n",
    "    df.filter((pl.col(\"total_amount\") != 0) & (pl.col(\"trip_distance\") != 0))\n",
    "    .with_columns(\n",
    "        (pl.col(\"total_amount\")/pl.col(\"trip_distance\")).alias(\"cost_per_mile\"))\n",
    "    .sort(by=\"cost_per_mile\", descending=True)[:5]\n",
    "    .select(\"trip_distance\", \"cost_per_mile\")\n",
    ")"
   ]
  },
  {
   "cell_type": "code",
   "execution_count": 46,
   "metadata": {},
   "outputs": [
    {
     "name": "stdout",
     "output_type": "stream",
     "text": [
      "1.01 s ± 24.8 ms per loop (mean ± std. dev. of 7 runs, 1 loop each)\n"
     ]
    }
   ],
   "source": [
    "%%timeit\n",
    "# Assume that multipassenger rides are split evenly among the passengers.\n",
    "# In which 10 multipassenger rides did each individual pay the greatest amount?\n",
    "\n",
    "(\n",
    "    df[(df['total_amount'] != 0) & (df['passenger_count'] != 0)]\n",
    "    .assign(cost_per_passenger=df[\"total_amount\"]/df[\"passenger_count\"])\n",
    "    .sort_values(by=\"cost_per_passenger\", ascending=False)[:10]\n",
    ")"
   ]
  },
  {
   "cell_type": "code",
   "execution_count": 7,
   "metadata": {},
   "outputs": [
    {
     "name": "stdout",
     "output_type": "stream",
     "text": [
      "182 ms ± 5.29 ms per loop (mean ± std. dev. of 7 runs, 1 loop each)\n"
     ]
    }
   ],
   "source": [
    "%%timeit\n",
    "(\n",
    "    df.filter((pl.col(\"total_amount\") != 0) & (pl.col(\"passenger_count\") != 0))\n",
    "    .with_columns(\n",
    "        (pl.col(\"total_amount\")/pl.col(\"passenger_count\")).alias(\"cost_per_passenger\"))\n",
    "    .sort(by=\"cost_per_passenger\", descending=True)[:10]\n",
    ")"
   ]
  },
  {
   "cell_type": "code",
   "execution_count": 47,
   "metadata": {},
   "outputs": [],
   "source": [
    "df=None"
   ]
  },
  {
   "cell_type": "code",
   "execution_count": 1,
   "metadata": {},
   "outputs": [],
   "source": [
    "import pyarrow as pa\n",
    "import pyarrow.csv\n",
    "import pyarrow.compute as pc"
   ]
  },
  {
   "cell_type": "code",
   "execution_count": 2,
   "metadata": {},
   "outputs": [],
   "source": [
    "co = pa.csv.ConvertOptions(include_columns=['passenger_count', 'trip_distance', 'total_amount'])\n",
    "df = pa.csv.read_csv('data/nyc_taxi_2019-01.csv', convert_options=co)\n"
   ]
  },
  {
   "cell_type": "code",
   "execution_count": null,
   "metadata": {},
   "outputs": [
    {
     "name": "stdout",
     "output_type": "stream",
     "text": [
      "1.14 s ± 27.6 ms per loop (mean ± std. dev. of 7 runs, 1 loop each)\n"
     ]
    }
   ],
   "source": [
    "%%timeit\n",
    "pa.compute.mean(\n",
    "    pa.compute.take(\n",
    "    df,\n",
    "    pa.compute.sort_indices(df, sort_keys=[(\"trip_distance\", \"descending\")])\n",
    "    )[\"total_amount\"][:20]\n",
    ")"
   ]
  },
  {
   "cell_type": "markdown",
   "metadata": {},
   "source": [
    "# Part 2"
   ]
  },
  {
   "cell_type": "code",
   "execution_count": 8,
   "metadata": {},
   "outputs": [],
   "source": [
    "df = pd.read_csv('data/nyc_taxi_2019-01.csv', \n",
    "                 usecols=['passenger_count', 'trip_distance', 'total_amount'])"
   ]
  },
  {
   "cell_type": "code",
   "execution_count": 25,
   "metadata": {},
   "outputs": [],
   "source": [
    "df = pl.read_csv('data/nyc_taxi_2019-01.csv', \n",
    "                 columns=['passenger_count', 'trip_distance', 'total_amount'])"
   ]
  },
  {
   "cell_type": "code",
   "execution_count": 2,
   "metadata": {},
   "outputs": [],
   "source": [
    "co = pa.csv.ConvertOptions(include_columns=['passenger_count', 'trip_distance', 'total_amount'])\n",
    "df = pa.csv.read_csv('data/nyc_taxi_2019-01.csv', convert_options=co)"
   ]
  },
  {
   "cell_type": "code",
   "execution_count": 22,
   "metadata": {},
   "outputs": [
    {
     "name": "stdout",
     "output_type": "stream",
     "text": [
      "88.1 ms ± 153 μs per loop (mean ± std. dev. of 7 runs, 10 loops each)\n"
     ]
    }
   ],
   "source": [
    "%%timeit\n",
    "# For each number of passengers, find the mean cost of a taxi ride. Sort this\n",
    "# result from lowest (i.e., cheapest) to highest (i.e., most expensive)\n",
    "\n",
    "(\n",
    "    df.groupby(\"passenger_count\")\n",
    "    .agg(mean_cost=(\"total_amount\", \"mean\"))\n",
    "    .sort_values(by=\"mean_cost\", ascending=True)\n",
    ")"
   ]
  },
  {
   "cell_type": "code",
   "execution_count": null,
   "metadata": {},
   "outputs": [
    {
     "name": "stdout",
     "output_type": "stream",
     "text": [
      "14.9 ms ± 631 μs per loop (mean ± std. dev. of 7 runs, 100 loops each)\n"
     ]
    }
   ],
   "source": [
    "%%timeit\n",
    "(\n",
    "    df.group_by(pl.col(\"passenger_count\"))\n",
    "    .agg(pl.col(\"total_amount\").mean().alias(\"mean_cost\"))\n",
    "    .sort(by=\"mean_cost\")\n",
    ")"
   ]
  },
  {
   "cell_type": "code",
   "execution_count": 11,
   "metadata": {},
   "outputs": [
    {
     "name": "stdout",
     "output_type": "stream",
     "text": [
      "8.65 ms ± 371 μs per loop (mean ± std. dev. of 7 runs, 100 loops each)\n"
     ]
    }
   ],
   "source": [
    "%%timeit\n",
    "s = pa.TableGroupBy(df, \"passenger_count\").aggregate([(\"total_amount\", \"mean\")])\n",
    "pc.take(\n",
    "    s,\n",
    "    pc.sort_indices(\n",
    "        s, sort_keys=[(\"total_amount_mean\", \"descending\")])\n",
    ")\n"
   ]
  },
  {
   "cell_type": "code",
   "execution_count": 23,
   "metadata": {},
   "outputs": [
    {
     "name": "stdout",
     "output_type": "stream",
     "text": [
      "88.9 ms ± 1.13 ms per loop (mean ± std. dev. of 7 runs, 10 loops each)\n"
     ]
    }
   ],
   "source": [
    "%%timeit\n",
    "# Sort again by increasing the number of passengers\n",
    "(\n",
    "    df.groupby(\"passenger_count\")\n",
    "    .agg(mean_cost=(\"total_amount\", \"mean\"))\n",
    "    .sort_values(by=[\"passenger_count\"], ascending=True)\n",
    ")"
   ]
  },
  {
   "cell_type": "code",
   "execution_count": null,
   "metadata": {},
   "outputs": [
    {
     "name": "stdout",
     "output_type": "stream",
     "text": [
      "14.4 ms ± 311 μs per loop (mean ± std. dev. of 7 runs, 100 loops each)\n"
     ]
    }
   ],
   "source": [
    "%%timeit\n",
    "(\n",
    "    df.group_by(pl.col(\"passenger_count\"))\n",
    "    .agg(pl.col(\"total_amount\").mean().alias(\"mean_cost\"))\n",
    "    .sort(by=\"passenger_count\")\n",
    ")"
   ]
  },
  {
   "cell_type": "code",
   "execution_count": 47,
   "metadata": {},
   "outputs": [
    {
     "name": "stdout",
     "output_type": "stream",
     "text": [
      "8.67 ms ± 386 μs per loop (mean ± std. dev. of 7 runs, 100 loops each)\n"
     ]
    }
   ],
   "source": [
    "%%timeit\n",
    "(\n",
    "    df.group_by(\"passenger_count\")\n",
    "    .aggregate([(\"total_amount\", \"mean\")])\n",
    "    .sort_by([(\"passenger_count\", \"descending\")])\n",
    ")"
   ]
  },
  {
   "cell_type": "code",
   "execution_count": null,
   "metadata": {},
   "outputs": [
    {
     "name": "stdout",
     "output_type": "stream",
     "text": [
      "201 ms ± 3.06 ms per loop (mean ± std. dev. of 7 runs, 1 loop each)\n"
     ]
    }
   ],
   "source": [
    "%%timeit\n",
    "# Create a new column, trip_distance_group in which the values are short (< 2\n",
    "# miles), medium ( 2 miles and 10 miles), and long (> 10 miles). What is the\n",
    "# average number of passengers per trip length category? Sort this result from\n",
    "# highest (most passengers) to lowest (fewest passengers)\n",
    "\n",
    "(\n",
    "    df\n",
    "    .assign(\n",
    "        trip_distance_group = pd.cut(df['trip_distance'], \n",
    "        bins=[0, 2, 10, float(\"inf\")], \n",
    "        labels=['short', 'medium', 'long'], \n",
    "        include_lowest=True))\n",
    "    .groupby(\"trip_distance_group\", observed=True)\n",
    "    .agg(mean_pass=(\"passenger_count\", \"mean\"))\n",
    "    .sort_values(by=\"mean_pass\", ascending=False)\n",
    " )\n",
    " "
   ]
  },
  {
   "cell_type": "code",
   "execution_count": null,
   "metadata": {},
   "outputs": [
    {
     "name": "stdout",
     "output_type": "stream",
     "text": [
      "294 ms ± 5.66 ms per loop (mean ± std. dev. of 7 runs, 1 loop each)\n"
     ]
    }
   ],
   "source": [
    "%%timeit\n",
    "(\n",
    "    df.with_columns(\n",
    "        pl.col(\"trip_distance\")\n",
    "        .cut([2, 10], labels=[\"short\", \"medium\", \"long\"])\n",
    "        .alias(\"trip_distance_group\"))\n",
    "    .group_by(pl.col(\"trip_distance_group\"))\n",
    "    .agg(pl.col(\"passenger_count\").mean().alias(\"mean_pass\"))\n",
    "    .sort(by=\"mean_pass\")\n",
    ")"
   ]
  },
  {
   "cell_type": "code",
   "execution_count": null,
   "metadata": {},
   "outputs": [
    {
     "name": "stdout",
     "output_type": "stream",
     "text": [
      "116 ms ± 443 μs per loop (mean ± std. dev. of 7 runs, 10 loops each)\n"
     ]
    }
   ],
   "source": [
    "%%timeit\n",
    "a = pc.less_equal(df[\"trip_distance\"], 2).combine_chunks()\n",
    "b = pc.greater(df[\"trip_distance\"], 10).combine_chunks()\n",
    "arrs = pa.StructArray.from_arrays([a, b], [\"1\", \"2\"])\n",
    "(\n",
    "    df\n",
    "    .append_column(\n",
    "        pa.field(\"trip_distance_group\", pa.string()), \n",
    "        pc.case_when(arrs, \"short\", \"long\", \"medium\"))\n",
    "    .group_by(\"trip_distance_group\")\n",
    "    .aggregate([(\"passenger_count\", \"mean\")])\n",
    "    .sort_by([(\"passenger_count_mean\", \"descending\")])\n",
    ")"
   ]
  },
  {
   "cell_type": "code",
   "execution_count": 181,
   "metadata": {},
   "outputs": [
    {
     "name": "stdout",
     "output_type": "stream",
     "text": [
      "6.64 s ± 97.1 ms per loop (mean ± std. dev. of 7 runs, 1 loop each)\n"
     ]
    }
   ],
   "source": [
    "%%timeit\n",
    "# Create a single data frame containing rides from both January 2019 and Janu-\n",
    "# ary 2020, with a column year indicating which year the ride comes from. Use\n",
    "# groupby to compare the average cost of a taxi in January from each of these two\n",
    "# years\n",
    "import pandas as pd\n",
    "files = [\"data/nyc_taxi_2019-01.csv\", \"data/nyc_taxi_2020-01.csv\"]\n",
    "df_file_gen = (pd.read_csv(f, usecols=['tpep_pickup_datetime','passenger_count', 'trip_distance', 'total_amount']) for f in files)\n",
    "df = pd.concat(df_file_gen, ignore_index=True)"
   ]
  },
  {
   "cell_type": "code",
   "execution_count": 185,
   "metadata": {},
   "outputs": [
    {
     "name": "stdout",
     "output_type": "stream",
     "text": [
      "443 ms ± 24.4 ms per loop (mean ± std. dev. of 7 runs, 1 loop each)\n"
     ]
    }
   ],
   "source": [
    "%%timeit\n",
    "import polars as pl\n",
    "files = [\"data/nyc_taxi_2019-01.csv\", \"data/nyc_taxi_2020-01.csv\"]\n",
    "df = pl.scan_csv('data/nyc_taxi_*.csv', try_parse_dates=True).select(['tpep_pickup_datetime', 'passenger_count', 'trip_distance', 'total_amount']).collect()"
   ]
  },
  {
   "cell_type": "code",
   "execution_count": 178,
   "metadata": {},
   "outputs": [
    {
     "name": "stdout",
     "output_type": "stream",
     "text": [
      "3.67 s ± 16.6 ms per loop (mean ± std. dev. of 7 runs, 1 loop each)\n"
     ]
    }
   ],
   "source": [
    "%%timeit\n",
    "(\n",
    "    df\n",
    "    .assign(year=pd.DatetimeIndex(df['tpep_pickup_datetime']).year)\n",
    "    .drop(columns=[\"tpep_pickup_datetime\"])\n",
    "    .groupby(\"year\")\n",
    "    .aggregate(mean=(\"total_amount\", \"mean\"))\n",
    "    .query(\"year == 2019 or year==2020\")\n",
    ")"
   ]
  },
  {
   "cell_type": "code",
   "execution_count": 183,
   "metadata": {},
   "outputs": [
    {
     "name": "stdout",
     "output_type": "stream",
     "text": [
      "46.3 ms ± 3.64 ms per loop (mean ± std. dev. of 7 runs, 10 loops each)\n"
     ]
    }
   ],
   "source": [
    "%%timeit\n",
    "(\n",
    "    df\n",
    "    .with_columns(pl.col(\"tpep_pickup_datetime\").dt.year().alias(\"year\"))\n",
    "    .drop(\"tpep_pickup_datetime\")\n",
    "    .group_by(pl.col(\"year\"))\n",
    "    .agg(pl.col(\"total_amount\").mean().alias(\"mean\"))\n",
    "    .filter((pl.col(\"year\") == 2019) | (pl.col(\"year\") == 2020))\n",
    ")"
   ]
  },
  {
   "cell_type": "code",
   "execution_count": 180,
   "metadata": {},
   "outputs": [
    {
     "name": "stdout",
     "output_type": "stream",
     "text": [
      "4.04 s ± 56.4 ms per loop (mean ± std. dev. of 7 runs, 1 loop each)\n"
     ]
    }
   ],
   "source": [
    "%%timeit\n",
    "# Create a two-level grouping, first by year and then by passenger_count\n",
    "(\n",
    "    df\n",
    "    .assign(year=pd.DatetimeIndex(df['tpep_pickup_datetime']).year)\n",
    "    .drop(columns=[\"tpep_pickup_datetime\"])\n",
    "    .groupby([\"year\", \"passenger_count\"])\n",
    "    .aggregate(mean=(\"total_amount\", \"mean\"))\n",
    "    .query(\"year == 2019 or year==2020\")\n",
    ")"
   ]
  },
  {
   "cell_type": "code",
   "execution_count": 184,
   "metadata": {},
   "outputs": [
    {
     "name": "stdout",
     "output_type": "stream",
     "text": [
      "87.6 ms ± 1.99 ms per loop (mean ± std. dev. of 7 runs, 10 loops each)\n"
     ]
    }
   ],
   "source": [
    "%%timeit\n",
    "(\n",
    "    df\n",
    "    .with_columns(\n",
    "        pl.coalesce(pl.col(\"passenger_count\"), 0).alias(\"passenger_count\"),\n",
    "        pl.col(\"tpep_pickup_datetime\").dt.year().alias(\"year\"),\n",
    "    )\n",
    "    .drop(\"tpep_pickup_datetime\")\n",
    "    .group_by([\"year\", \"passenger_count\"])\n",
    "    .agg(pl.col(\"total_amount\").mean().alias(\"mean\"))\n",
    "    .filter((pl.col(\"year\") == 2019) | (pl.col(\"year\") == 2020))\n",
    "    .sort(by=[\"year\", \"passenger_count\"])\n",
    ")"
   ]
  },
  {
   "cell_type": "code",
   "execution_count": 189,
   "metadata": {},
   "outputs": [
    {
     "name": "stdout",
     "output_type": "stream",
     "text": [
      "400 ms ± 11.4 ms per loop (mean ± std. dev. of 7 runs, 1 loop each)\n"
     ]
    }
   ],
   "source": [
    "%%timeit\n",
    "import pyarrow.csv\n",
    "files = [\"data/nyc_taxi_2019-01.csv\", \"data/nyc_taxi_2020-01.csv\"]\n",
    "opts = pyarrow.csv.ConvertOptions(\n",
    "    include_columns=['tpep_pickup_datetime', \n",
    "                     'passenger_count', 'trip_distance', 'total_amount'])\n",
    "tables = (pyarrow.csv.read_csv(f, convert_options=opts) for f in files)\n",
    "df = pa.concat_tables(tables)"
   ]
  },
  {
   "cell_type": "code",
   "execution_count": 187,
   "metadata": {},
   "outputs": [
    {
     "name": "stdout",
     "output_type": "stream",
     "text": [
      "115 ms ± 3.29 ms per loop (mean ± std. dev. of 7 runs, 10 loops each)\n"
     ]
    }
   ],
   "source": [
    "%%timeit\n",
    "import pyarrow.compute as pc\n",
    "(\n",
    "    df\n",
    "    .append_column(\n",
    "        pa.field(\"year\", pa.int64()), pc.year(df[\"tpep_pickup_datetime\"])\n",
    "    )\n",
    "    .append_column(\n",
    "        pa.field(\"passenger_count_\", pa.int64()), \n",
    "        pc.coalesce(df[\"passenger_count\"], 0)\n",
    "    )\n",
    "    .drop_columns([\"passenger_count\", \"tpep_pickup_datetime\"])\n",
    "    .group_by(\"year\")\n",
    "    .aggregate([(\"total_amount\", \"mean\", pc.CountOptions(mode=\"only_valid\"))])\n",
    "    .filter((pc.field(\"year\") == 2019) | (pc.field(\"year\") == 2020))\n",
    ")"
   ]
  },
  {
   "cell_type": "code",
   "execution_count": 188,
   "metadata": {},
   "outputs": [
    {
     "name": "stdout",
     "output_type": "stream",
     "text": [
      "117 ms ± 837 μs per loop (mean ± std. dev. of 7 runs, 10 loops each)\n"
     ]
    }
   ],
   "source": [
    "%%timeit\n",
    "(\n",
    "    df\n",
    "    .append_column(\n",
    "        pa.field(\"year\", pa.int64()), pc.year(df[\"tpep_pickup_datetime\"])\n",
    "    )\n",
    "    .append_column(\n",
    "        pa.field(\"passenger_count_\", pa.int64()), \n",
    "        pc.coalesce(df[\"passenger_count\"], 0)\n",
    "    )\n",
    "    .drop_columns([\"passenger_count\", \"tpep_pickup_datetime\"])\n",
    "    .group_by([\"year\", \"passenger_count_\"])\n",
    "    .aggregate([(\"total_amount\", \"mean\", pc.CountOptions(mode=\"only_valid\"))])\n",
    "    .filter((pc.field(\"year\") == 2019) | (pc.field(\"year\") == 2020))\n",
    "    .sort_by([(\"year\", \"ascending\"),(\"passenger_count_\", \"ascending\")])\n",
    ")"
   ]
  },
  {
   "cell_type": "markdown",
   "metadata": {},
   "source": [
    "Part 3. Tourist spending per country"
   ]
  },
  {
   "cell_type": "code",
   "execution_count": 1,
   "metadata": {},
   "outputs": [],
   "source": [
    "import pandas as pd\n",
    "df = pd.read_csv(\"data/oecd_tourism.csv\", \n",
    "                 usecols=[\"LOCATION\", \"SUBJECT\", \"TIME\", \"Value\"])"
   ]
  },
  {
   "cell_type": "code",
   "execution_count": 2,
   "metadata": {},
   "outputs": [
    {
     "name": "stdout",
     "output_type": "stream",
     "text": [
      "919 μs ± 4.39 μs per loop (mean ± std. dev. of 7 runs, 1,000 loops each)\n"
     ]
    }
   ],
   "source": [
    "%%timeit\n",
    "# Find the five countries that received the greatest amount of tourist dollars, \n",
    "# on average, across years in the data set\n",
    "\n",
    "(\n",
    "    df\n",
    "    .loc[df[\"SUBJECT\"] == \"INT_REC\"]\n",
    "    .groupby(by=[\"LOCATION\"])\n",
    "    .agg(total=(\"Value\", \"sum\"))\n",
    "    .sort_values(by=[\"total\"], ascending=False)[:5]\n",
    ")"
   ]
  },
  {
   "cell_type": "code",
   "execution_count": 3,
   "metadata": {},
   "outputs": [
    {
     "name": "stdout",
     "output_type": "stream",
     "text": [
      "931 μs ± 13.9 μs per loop (mean ± std. dev. of 7 runs, 1,000 loops each)\n"
     ]
    }
   ],
   "source": [
    "%%timeit\n",
    "# Find the five countries whose citizens spent the least amount of tourist \n",
    "# dollars, on average, across years in the data set.\n",
    "\n",
    "(\n",
    "    df\n",
    "    .loc[df[\"SUBJECT\"] == \"INT-EXP\"]\n",
    "    .groupby(by=[\"LOCATION\"])\n",
    "    .agg(total=(\"Value\", \"sum\"))\n",
    "    .sort_values(by=[\"total\"], ascending=True)[:5]\n",
    ")"
   ]
  },
  {
   "cell_type": "code",
   "execution_count": 4,
   "metadata": {},
   "outputs": [],
   "source": [
    "# Load oecd_locations.csv into a data frame, using \n",
    "# the abbreviated data as an index\n",
    "df_ = pd.read_csv(\"data/oecd_locations.csv\", names=[\"LOCATION\", \"COUNTRY\"], \n",
    "                  index_col=\"LOCATION\")"
   ]
  },
  {
   "cell_type": "code",
   "execution_count": 7,
   "metadata": {},
   "outputs": [
    {
     "name": "stdout",
     "output_type": "stream",
     "text": [
      "608 μs ± 11 μs per loop (mean ± std. dev. of 7 runs, 1,000 loops each)\n"
     ]
    }
   ],
   "source": [
    "%%timeit\n",
    "# Join these two data frames together into a new one. In the new data frame,\n",
    "# there is no LOCATION column. Instead, there is a name column with the full\n",
    "# name of the country\n",
    "df_f = (df\n",
    "      .join(df_, on=\"LOCATION\")\n",
    "      .dropna()\n",
    "      .drop(columns=[\"LOCATION\"])\n",
    "      .rename(columns={\"COUNTRY\":\"name\"})\n",
    "    )"
   ]
  },
  {
   "cell_type": "code",
   "execution_count": 9,
   "metadata": {},
   "outputs": [
    {
     "name": "stdout",
     "output_type": "stream",
     "text": [
      "1.74 ms ± 29.7 μs per loop (mean ± std. dev. of 7 runs, 1,000 loops each)\n"
     ]
    }
   ],
   "source": [
    "%%timeit\n",
    "# Rerun the queries from steps 2 and 3, finding the five countries that spent \n",
    "# and received the most, on average, from tourism. But this time, get the \n",
    "# name of each country, rather than its abbreviation, for your reports\n",
    "(\n",
    "    df_f\n",
    "    .loc[df_f[\"SUBJECT\"] == \"INT_REC\"]\n",
    "    .groupby(by=[\"name\"])\n",
    "    .agg(total=(\"Value\", \"sum\"))\n",
    "    .sort_values(by=[\"total\"], ascending=False)[:5]\n",
    ")\n",
    "(\n",
    "    df_f\n",
    "    .loc[df_f[\"SUBJECT\"] == \"INT-EXP\"]\n",
    "    .groupby(by=[\"name\"])\n",
    "    .agg(total=(\"Value\", \"sum\"))\n",
    "    .sort_values(by=[\"total\"], ascending=True)[:5]\n",
    ")"
   ]
  },
  {
   "cell_type": "code",
   "execution_count": null,
   "metadata": {},
   "outputs": [],
   "source": [
    "# !pip install matplotlib\n",
    "# import matplotlib"
   ]
  },
  {
   "cell_type": "code",
   "execution_count": null,
   "metadata": {},
   "outputs": [
    {
     "name": "stdout",
     "output_type": "stream",
     "text": [
      "885 μs ± 10.9 μs per loop (mean ± std. dev. of 7 runs, 1,000 loops each)\n"
     ]
    }
   ],
   "source": [
    "%%timeit\n",
    "# Get the mean tourism income per year rather than by country. Do you see any\n",
    "# evidence of less tourism income during the time of the Great Recession, which\n",
    "# started in 2008\n",
    "(\n",
    "    df.loc[df[\"SUBJECT\"] == \"INT_REC\"]\n",
    "    .groupby(by=[\"TIME\"])\n",
    "    .agg(total=(\"Value\", \"mean\"))\n",
    "    .sort_values(by=[\"TIME\"], ascending=False)\n",
    "    # .plot(y=\"total\", use_index=True)\n",
    ")\n"
   ]
  },
  {
   "cell_type": "code",
   "execution_count": 13,
   "metadata": {},
   "outputs": [],
   "source": [
    "import polars as pl\n",
    "df = pl.read_csv(\"data/oecd_tourism.csv\", \n",
    "                 columns=[\"LOCATION\", \"SUBJECT\", \"TIME\", \"Value\"])"
   ]
  },
  {
   "cell_type": "code",
   "execution_count": 14,
   "metadata": {},
   "outputs": [
    {
     "name": "stdout",
     "output_type": "stream",
     "text": [
      "439 μs ± 3.68 μs per loop (mean ± std. dev. of 7 runs, 1,000 loops each)\n"
     ]
    }
   ],
   "source": [
    "%%timeit\n",
    "# Find the five countries that received the greatest amount of tourist dollars, \n",
    "# on average, across years in the data set\n",
    "(\n",
    "    df.filter(pl.col(\"SUBJECT\") == \"INT_REC\")\n",
    "    .group_by(pl.col(\"LOCATION\"))\n",
    "    .agg(pl.col(\"Value\").sum().alias(\"total\"))\n",
    "    .sort(pl.col(\"total\"), descending=True)[:5]\n",
    ")"
   ]
  },
  {
   "cell_type": "code",
   "execution_count": 15,
   "metadata": {},
   "outputs": [
    {
     "name": "stdout",
     "output_type": "stream",
     "text": [
      "438 μs ± 4.43 μs per loop (mean ± std. dev. of 7 runs, 1,000 loops each)\n"
     ]
    }
   ],
   "source": [
    "%%timeit\n",
    "# Find the five countries whose citizens spent the least amount of tourist \n",
    "# dollars, on average, across years in the data set.\n",
    "\n",
    "(\n",
    "    df.filter(pl.col(\"SUBJECT\") == \"INT-EXP\")\n",
    "    .group_by(pl.col(\"LOCATION\"))\n",
    "    .agg(pl.col(\"Value\").sum().alias(\"total\"))\n",
    "    .sort(pl.col(\"total\"))[:5]\n",
    ")"
   ]
  },
  {
   "cell_type": "code",
   "execution_count": 18,
   "metadata": {},
   "outputs": [],
   "source": [
    "# Load oecd_locations.csv into a data frame, using \n",
    "# the abbreviated data as an index\n",
    "df_ = pl.read_csv(\"data/oecd_locations.csv\", new_columns=[\"LOCATION\", \"COUNTRY\"])"
   ]
  },
  {
   "cell_type": "code",
   "execution_count": 20,
   "metadata": {},
   "outputs": [
    {
     "name": "stdout",
     "output_type": "stream",
     "text": [
      "308 μs ± 4.46 μs per loop (mean ± std. dev. of 7 runs, 1,000 loops each)\n"
     ]
    }
   ],
   "source": [
    "%%timeit\n",
    "# Join these two data frames together into a new one. In the new data frame,\n",
    "# there is no LOCATION column. Instead, there is a name column with the full\n",
    "# name of the country\n",
    "df_f = (df\n",
    "        .join(df_, on=\"LOCATION\")\n",
    "        .drop_nulls()\n",
    "        .drop(\"LOCATION\")\n",
    "        .rename({\"COUNTRY\":\"name\"})\n",
    "    )"
   ]
  },
  {
   "cell_type": "code",
   "execution_count": 21,
   "metadata": {},
   "outputs": [
    {
     "name": "stdout",
     "output_type": "stream",
     "text": [
      "555 μs ± 3.48 μs per loop (mean ± std. dev. of 7 runs, 1,000 loops each)\n"
     ]
    }
   ],
   "source": [
    "%%timeit\n",
    "# Rerun the queries from steps 2 and 3, finding the five countries that spent \n",
    "# and received the most, on average, from tourism. But this time, get the \n",
    "# name of each country, rather than its abbreviation, for your reports\n",
    "(\n",
    "    df_f.filter(pl.col(\"SUBJECT\") == \"INT_REC\")\n",
    "    .group_by(pl.col(\"name\"))\n",
    "    .agg(pl.col(\"Value\").sum().alias(\"total\"))\n",
    "    .sort(pl.col(\"total\"), descending=True)[:5]\n",
    ")\n",
    "(\n",
    "    df_f.filter(pl.col(\"SUBJECT\") == \"INT-EXP\")\n",
    "    .group_by(pl.col(\"name\"))\n",
    "    .agg(pl.col(\"Value\").sum().alias(\"total\"))\n",
    "    .sort(pl.col(\"total\"))[:5]\n",
    ")"
   ]
  },
  {
   "cell_type": "code",
   "execution_count": 22,
   "metadata": {},
   "outputs": [
    {
     "name": "stdout",
     "output_type": "stream",
     "text": [
      "335 μs ± 10 μs per loop (mean ± std. dev. of 7 runs, 1,000 loops each)\n"
     ]
    }
   ],
   "source": [
    "%%timeit\n",
    "# Get the mean tourism income per year rather than by country. Do you see any\n",
    "# evidence of less tourism income during the time of the Great Recession, which\n",
    "# started in 2008\n",
    "\n",
    "(\n",
    "    df.filter(pl.col(\"SUBJECT\") == \"INT_REC\")\n",
    "    .group_by(pl.col(\"TIME\"))\n",
    "    .agg(pl.col(\"Value\").mean().alias(\"total\"))\n",
    "    .sort(pl.col(\"TIME\"), descending=True)\n",
    ")"
   ]
  },
  {
   "cell_type": "code",
   "execution_count": 23,
   "metadata": {},
   "outputs": [],
   "source": [
    "import pyarrow as pa\n",
    "import pyarrow.csv\n",
    "import pyarrow.compute as pc\n",
    "opts = pyarrow.csv.ConvertOptions(\n",
    "    include_columns=[\"LOCATION\", \"SUBJECT\", \"TIME\", \"Value\"])\n",
    "df = pyarrow.csv.read_csv(\"data/oecd_tourism.csv\", convert_options=opts)"
   ]
  },
  {
   "cell_type": "code",
   "execution_count": 24,
   "metadata": {},
   "outputs": [
    {
     "name": "stdout",
     "output_type": "stream",
     "text": [
      "142 μs ± 1.59 μs per loop (mean ± std. dev. of 7 runs, 10,000 loops each)\n"
     ]
    }
   ],
   "source": [
    "%%timeit\n",
    "# Find the five countries that received the greatest amount of tourist dollars, \n",
    "# on average, across years in the data set\n",
    "\n",
    "(\n",
    "    df.filter(pc.field(\"SUBJECT\") == \"INT_REC\")\n",
    "    .group_by([\"LOCATION\"])\n",
    "    .aggregate([(\"Value\", \"sum\")])\n",
    "    .sort_by([(\"Value_sum\", \"descending\")])[:5]\n",
    ")"
   ]
  },
  {
   "cell_type": "code",
   "execution_count": 25,
   "metadata": {},
   "outputs": [
    {
     "name": "stdout",
     "output_type": "stream",
     "text": [
      "142 μs ± 2.89 μs per loop (mean ± std. dev. of 7 runs, 10,000 loops each)\n"
     ]
    }
   ],
   "source": [
    "%%timeit\n",
    "# Find the five countries whose citizens spent the least amount of tourist \n",
    "# dollars, on average, across years in the data set.\n",
    "\n",
    "(\n",
    "    df.filter(pc.field(\"SUBJECT\") == \"INT-EXP\")\n",
    "    .group_by([\"LOCATION\"])\n",
    "    .aggregate([(\"Value\", \"sum\")])\n",
    "    .sort_by([(\"Value_sum\", \"ascending\")])[:5]\n",
    ")"
   ]
  },
  {
   "cell_type": "code",
   "execution_count": 26,
   "metadata": {},
   "outputs": [],
   "source": [
    "# Load oecd_locations.csv into a data frame\n",
    "opts = pyarrow.csv.ReadOptions(\n",
    "    column_names=[\"LOCATION\", \"COUNTRY\"])\n",
    "df_f = pyarrow.csv.read_csv(\"data/oecd_locations.csv\", read_options=opts)"
   ]
  },
  {
   "cell_type": "code",
   "execution_count": 28,
   "metadata": {},
   "outputs": [
    {
     "name": "stdout",
     "output_type": "stream",
     "text": [
      "192 μs ± 2.99 μs per loop (mean ± std. dev. of 7 runs, 10,000 loops each)\n"
     ]
    }
   ],
   "source": [
    "%%timeit\n",
    "# Join these two data frames together into a new one. In the new data frame,\n",
    "# there is no LOCATION column. Instead, there is a name column with the full\n",
    "# name of the country\n",
    "\n",
    "new_df = (\n",
    "    df\n",
    "    .join(df_f, keys=\"LOCATION\", right_keys=\"LOCATION\")\n",
    "    .drop_null()\n",
    "    .drop(\"LOCATION\")\n",
    "    .rename_columns({\"COUNTRY\":\"name\"})\n",
    ")"
   ]
  },
  {
   "cell_type": "code",
   "execution_count": 29,
   "metadata": {},
   "outputs": [
    {
     "name": "stdout",
     "output_type": "stream",
     "text": [
      "246 μs ± 8.71 μs per loop (mean ± std. dev. of 7 runs, 1,000 loops each)\n"
     ]
    }
   ],
   "source": [
    "%%timeit\n",
    "# Rerun the queries from steps 2 and 3, finding the five countries that spent \n",
    "# and received the most, on average, from tourism. But this time, get the \n",
    "# name of each country, rather than its abbreviation, for your reports\n",
    "(\n",
    "    new_df.filter(pc.field(\"SUBJECT\") == \"INT_REC\")\n",
    "    .group_by([\"name\"])\n",
    "    .aggregate([(\"Value\", \"sum\")])\n",
    "    .sort_by([(\"Value_sum\", \"descending\")])[:5]\n",
    ")\n",
    "(   \n",
    "    new_df.filter(pc.field(\"SUBJECT\") == \"INT-EXP\")\n",
    "    .group_by([\"name\"])\n",
    "    .aggregate([(\"Value\", \"sum\")])\n",
    "    .sort_by([(\"Value_sum\", \"ascending\")])[:5]\n",
    ")"
   ]
  },
  {
   "cell_type": "code",
   "execution_count": 30,
   "metadata": {},
   "outputs": [
    {
     "name": "stdout",
     "output_type": "stream",
     "text": [
      "111 μs ± 1.7 μs per loop (mean ± std. dev. of 7 runs, 10,000 loops each)\n"
     ]
    }
   ],
   "source": [
    "%%timeit\n",
    "# Get the mean tourism income per year rather than by country. Do you see any\n",
    "# evidence of less tourism income during the time of the Great Recession, which\n",
    "# started in 2008\n",
    "\n",
    "(\n",
    "    new_df.filter(pc.field(\"SUBJECT\") == \"INT_REC\")\n",
    "    .group_by([\"TIME\"])\n",
    "    .aggregate([(\"Value\", \"mean\")])\n",
    "    .sort_by([(\"TIME\", \"ascending\")])\n",
    ")\n"
   ]
  },
  {
   "cell_type": "code",
   "execution_count": null,
   "metadata": {},
   "outputs": [],
   "source": []
  }
 ],
 "metadata": {
  "kernelspec": {
   "display_name": "Python 3",
   "language": "python",
   "name": "python3"
  },
  "language_info": {
   "codemirror_mode": {
    "name": "ipython",
    "version": 3
   },
   "file_extension": ".py",
   "mimetype": "text/x-python",
   "name": "python",
   "nbconvert_exporter": "python",
   "pygments_lexer": "ipython3",
   "version": "3.12.8"
  }
 },
 "nbformat": 4,
 "nbformat_minor": 2
}
