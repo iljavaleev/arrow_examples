{
 "cells": [
  {
   "cell_type": "markdown",
   "metadata": {},
   "source": [
    "CHAPTER 5"
   ]
  },
  {
   "cell_type": "code",
   "execution_count": 1,
   "metadata": {},
   "outputs": [],
   "source": [
    "import pandas as pd"
   ]
  },
  {
   "cell_type": "code",
   "execution_count": 70,
   "metadata": {},
   "outputs": [],
   "source": [
    "path = \"data/nyc-parking-violations-2020.csv\"\n",
    "df = pd.read_csv(path, usecols=[\n",
    "    \"Plate ID\", \"Registration State\", \"Vehicle Make\", \"Vehicle Color\", \n",
    "    \"Violation Time\", \"Street Name\"])"
   ]
  },
  {
   "cell_type": "code",
   "execution_count": 72,
   "metadata": {},
   "outputs": [
    {
     "name": "stdout",
     "output_type": "stream",
     "text": [
      "1.72 s ± 11.3 ms per loop (mean ± std. dev. of 7 runs, 1 loop each)\n"
     ]
    }
   ],
   "source": [
    "%%timeit\n",
    "total = len(df.index)\n",
    "without_any_nans = len(df.dropna().index)\n",
    "(total - without_any_nans) * 100"
   ]
  },
  {
   "cell_type": "code",
   "execution_count": 74,
   "metadata": {},
   "outputs": [
    {
     "name": "stdout",
     "output_type": "stream",
     "text": [
      "2.87 s ± 15.1 ms per loop (mean ± std. dev. of 7 runs, 1 loop each)\n"
     ]
    }
   ],
   "source": [
    "%%timeit\n",
    "# loss with subset features\n",
    "subset = [\"Plate ID\", \"Registration State\", \"Vehicle Make\", \"Street Name\"]\n",
    "(len(df) - len(df.dropna(subset=subset))) * 100\n",
    "\n",
    "subset = [\"Plate ID\", \"Registration State\", \"Street Name\"]\n",
    "(len(df.index) - len(df.dropna(subset=subset).index)) * 100"
   ]
  },
  {
   "cell_type": "code",
   "execution_count": 76,
   "metadata": {},
   "outputs": [
    {
     "name": "stdout",
     "output_type": "stream",
     "text": [
      "1.32 s ± 13.2 ms per loop (mean ± std. dev. of 7 runs, 1 loop each)\n"
     ]
    }
   ],
   "source": [
    "%%timeit\n",
    "# How many rows would you eliminate if you required at least three non-null \n",
    "# values from the four columns Plate ID, Registration State, Vehicle Make, and\n",
    "# Street Name\n",
    "\n",
    "rows_with_at_least_3_non_nans = len(\n",
    "    df[\n",
    "        (\n",
    "            df['Plate ID'].notnull().astype(int) + \n",
    "            df['Registration State'].notnull().astype(int) + \n",
    "            df['Vehicle Make'].notnull().astype(int) + \n",
    "            df['Street Name'].notnull().astype(int)\n",
    "        ) >= 3\n",
    "    ]\n",
    ")\n",
    "total - rows_with_at_least_3_non_nans"
   ]
  },
  {
   "cell_type": "code",
   "execution_count": 77,
   "metadata": {},
   "outputs": [
    {
     "name": "stdout",
     "output_type": "stream",
     "text": [
      "1.41 s ± 15.9 ms per loop (mean ± std. dev. of 7 runs, 1 loop each)\n"
     ]
    }
   ],
   "source": [
    "%%timeit\n",
    "# Which of the columns you've imported has the greatest number of NaN values\n",
    "df.isnull().astype(int).sum()"
   ]
  },
  {
   "cell_type": "code",
   "execution_count": 78,
   "metadata": {},
   "outputs": [
    {
     "name": "stdout",
     "output_type": "stream",
     "text": [
      "1.92 s ± 16.2 ms per loop (mean ± std. dev. of 7 runs, 1 loop each)\n"
     ]
    }
   ],
   "source": [
    "%%timeit\n",
    "# Null data is bad, but there is plenty of bad non-null data, too. For example,\n",
    "# many cars with BLANKPLATE as a plate ID were ticketed. Turn these into NaN \n",
    "# values, and rerun the previous query.\n",
    "\n",
    "df['Plate ID'] = df['Plate ID'].replace('BLANKPLATE', pd.NA)\n",
    "df.isnull().astype(int).sum()"
   ]
  },
  {
   "cell_type": "code",
   "execution_count": 79,
   "metadata": {},
   "outputs": [],
   "source": [
    "import polars as pl"
   ]
  },
  {
   "cell_type": "code",
   "execution_count": 80,
   "metadata": {},
   "outputs": [],
   "source": [
    "path = \"data/nyc-parking-violations-2020.csv\"\n",
    "df = pl.read_csv(path, columns=[\n",
    "    \"Plate ID\", \"Registration State\", \"Vehicle Make\", \"Vehicle Color\", \n",
    "    \"Violation Time\", \"Street Name\"])"
   ]
  },
  {
   "cell_type": "code",
   "execution_count": 81,
   "metadata": {},
   "outputs": [
    {
     "name": "stdout",
     "output_type": "stream",
     "text": [
      "22.8 ms ± 709 μs per loop (mean ± std. dev. of 7 runs, 10 loops each)\n"
     ]
    }
   ],
   "source": [
    "%%timeit\n",
    "total = len(df)\n",
    "without_any_nans = len(df.drop_nulls())\n",
    "(total - without_any_nans) * 100"
   ]
  },
  {
   "cell_type": "code",
   "execution_count": 83,
   "metadata": {},
   "outputs": [
    {
     "name": "stdout",
     "output_type": "stream",
     "text": [
      "44 ms ± 2.32 ms per loop (mean ± std. dev. of 7 runs, 10 loops each)\n"
     ]
    }
   ],
   "source": [
    "%%timeit\n",
    "# loss with subset features\n",
    "subset = [\"Plate ID\", \"Registration State\", \"Vehicle Make\", \"Street Name\"]\n",
    "(len(df) - len(df.drop_nulls(subset=subset))) * 100\n",
    "\n",
    "subset = [\"Plate ID\", \"Registration State\", \"Street Name\"]\n",
    "(len(df) - len(df.drop_nulls(subset=subset))) * 100"
   ]
  },
  {
   "cell_type": "code",
   "execution_count": 85,
   "metadata": {},
   "outputs": [
    {
     "name": "stdout",
     "output_type": "stream",
     "text": [
      "192 ms ± 11.5 ms per loop (mean ± std. dev. of 7 runs, 10 loops each)\n"
     ]
    }
   ],
   "source": [
    "%%timeit\n",
    "# How many rows would you eliminate if you required at least three non-null \n",
    "# values from the four columns Plate ID, Registration State, Vehicle Make, and\n",
    "# Street Name\n",
    "\n",
    "rows_with_at_least_3_non_nans = len(\n",
    "    df.filter(\n",
    "        (\n",
    "            df['Plate ID'].is_not_null().cast(int) + \n",
    "            df['Registration State'].is_not_null().cast(int) + \n",
    "            df['Vehicle Make'].is_not_null().cast(int) + \n",
    "            df['Street Name'].is_not_null().cast(int)\n",
    "        ) >= 3)\n",
    ")\n",
    "len(df) - rows_with_at_least_3_non_nans"
   ]
  },
  {
   "cell_type": "code",
   "execution_count": 86,
   "metadata": {},
   "outputs": [
    {
     "name": "stdout",
     "output_type": "stream",
     "text": [
      "846 ns ± 9.27 ns per loop (mean ± std. dev. of 7 runs, 1,000,000 loops each)\n"
     ]
    }
   ],
   "source": [
    "%%timeit\n",
    "# Which of the columns you've imported has the greatest number of NaN values\n",
    "df.null_count()"
   ]
  },
  {
   "cell_type": "code",
   "execution_count": 87,
   "metadata": {},
   "outputs": [
    {
     "name": "stdout",
     "output_type": "stream",
     "text": [
      "40.6 ms ± 87.9 μs per loop (mean ± std. dev. of 7 runs, 10 loops each)\n"
     ]
    }
   ],
   "source": [
    "%%timeit\n",
    "# Null data is bad, but there is plenty of bad non-null data, too. For example,\n",
    "# many cars with BLANKPLATE as a plate ID were ticketed. Turn these into NaN \n",
    "# values, and rerun the previous query.\n",
    "\n",
    "(\n",
    "    df\n",
    "    .with_columns(df['Plate ID'].replace('BLANKPLATE', None).alias('Plate ID'))\n",
    "    .null_count()\n",
    ")"
   ]
  },
  {
   "cell_type": "markdown",
   "metadata": {},
   "source": [
    "2. The goal of this exercise is to find the average age of celebrities who died February–July 2016"
   ]
  },
  {
   "cell_type": "code",
   "execution_count": 109,
   "metadata": {},
   "outputs": [],
   "source": [
    "path = \"data/celebrity_deaths_2016.csv\"\n",
    "df = pd.read_csv(path, usecols=[\"dateofdeath\", \"age\"], parse_dates=[\"dateofdeath\"])"
   ]
  },
  {
   "cell_type": "code",
   "execution_count": 110,
   "metadata": {},
   "outputs": [],
   "source": [
    "# add new column with month\n",
    "df[\"month\"] = df[\"dateofdeath\"].map(lambda x: x.month)"
   ]
  },
  {
   "cell_type": "code",
   "execution_count": 111,
   "metadata": {},
   "outputs": [],
   "source": [
    "# change index to month\n",
    "df.reset_index(inplace=True)\n",
    "df = df.set_index(keys=['month'], drop=True).drop(columns=[\"index\"])"
   ]
  },
  {
   "cell_type": "code",
   "execution_count": 112,
   "metadata": {},
   "outputs": [],
   "source": [
    "# sort df by index\n",
    "df.sort_index(inplace=True)"
   ]
  },
  {
   "cell_type": "code",
   "execution_count": 113,
   "metadata": {},
   "outputs": [],
   "source": [
    "# clean all nonintegers in age column\n",
    "df[\"age\"] = df[\"age\"].replace(r\"[a-zA-Z/ ._-]*\", \"\", regex=True).str.slice(0, 2)\n",
    "\n",
    "df[\"age\"] = pd.to_numeric(df[\"age\"], errors='coerce')\n",
    "df.dropna(inplace=True)"
   ]
  },
  {
   "cell_type": "code",
   "execution_count": 114,
   "metadata": {},
   "outputs": [],
   "source": [
    "# age to int\n",
    "df[\"age\"] = df[\"age\"].astype(int)"
   ]
  },
  {
   "cell_type": "code",
   "execution_count": 115,
   "metadata": {},
   "outputs": [
    {
     "data": {
      "text/plain": [
       "np.float64(75.30396873120866)"
      ]
     },
     "execution_count": 115,
     "metadata": {},
     "output_type": "execute_result"
    }
   ],
   "source": [
    "# find avg age from feb to july\n",
    "df.loc[2:7, \"age\"].mean()"
   ]
  },
  {
   "cell_type": "code",
   "execution_count": 116,
   "metadata": {},
   "outputs": [
    {
     "data": {
      "text/plain": [
       "np.float64(75.2947935368043)"
      ]
     },
     "execution_count": 116,
     "metadata": {},
     "output_type": "execute_result"
    }
   ],
   "source": [
    "import datetime as dt\n",
    "# mean age value in period [2016-02-15, 2016-07-15]\n",
    "df.reset_index(inplace=True, drop=False)\n",
    "df.set_index(keys=[\"dateofdeath\"], drop=True, inplace=True)\n",
    "\n",
    "start = df.index.searchsorted(dt.datetime(2016, 2, 15))\n",
    "end = df.index.searchsorted(dt.datetime(2016, 7, 15))\n",
    "df[start:end]['age'].mean()"
   ]
  },
  {
   "cell_type": "code",
   "execution_count": null,
   "metadata": {},
   "outputs": [
    {
     "data": {
      "text/plain": [
       "causeofdeath\n",
       "cancer               248\n",
       "heart attack         125\n",
       "traffic collision     56\n",
       "lung cancer           51\n",
       "pneumonia             50\n",
       "Name: count, dtype: int64"
      ]
     },
     "execution_count": 100,
     "metadata": {},
     "output_type": "execute_result"
    }
   ],
   "source": [
    "#top 5 cause of death\n",
    "df = pd.read_csv(path, usecols=[\"dateofdeath\", \"age\", \"causeofdeath\"], parse_dates=[\"dateofdeath\"])\n",
    "df[\"causeofdeath\"].value_counts()[:5]"
   ]
  },
  {
   "cell_type": "code",
   "execution_count": 101,
   "metadata": {},
   "outputs": [
    {
     "data": {
      "text/plain": [
       "causeofdeath\n",
       "unknown               5008\n",
       " cancer                248\n",
       " heart attack          125\n",
       " traffic collision      56\n",
       " lung cancer            51\n",
       "Name: count, dtype: int64"
      ]
     },
     "execution_count": 101,
     "metadata": {},
     "output_type": "execute_result"
    }
   ],
   "source": [
    "#top 5 cause of death with unknown\n",
    "df[\"causeofdeath\"].replace(pd.NA, \"unknown\").value_counts()[:5]"
   ]
  },
  {
   "cell_type": "code",
   "execution_count": 1,
   "metadata": {},
   "outputs": [],
   "source": [
    "import polars as pl"
   ]
  },
  {
   "cell_type": "code",
   "execution_count": 28,
   "metadata": {},
   "outputs": [],
   "source": [
    "path = \"data/celebrity_deaths_2016.csv\"\n",
    "df = pl.read_csv(\n",
    "    path, columns=[\"dateofdeath\", \"age\"], \n",
    "    try_parse_dates=True, \n",
    "    ignore_errors=True, \n",
    "    schema=pl.Schema(\n",
    "        {\n",
    "            \"dateofdeath\": pl.Date,\n",
    "            \"name\": pl.String, \n",
    "            \"age\": pl.String,\n",
    "            \"bio\": pl.String,\n",
    "            \"causeofdeath\": pl.String\n",
    "        }))"
   ]
  },
  {
   "cell_type": "code",
   "execution_count": 29,
   "metadata": {},
   "outputs": [
    {
     "data": {
      "text/html": [
       "<div><style>\n",
       ".dataframe > thead > tr,\n",
       ".dataframe > tbody > tr {\n",
       "  text-align: right;\n",
       "  white-space: pre-wrap;\n",
       "}\n",
       "</style>\n",
       "<small>shape: (6_543, 3)</small><table border=\"1\" class=\"dataframe\"><thead><tr><th>dateofdeath</th><th>age</th><th>month</th></tr><tr><td>date</td><td>str</td><td>i8</td></tr></thead><tbody><tr><td>2016-01-01</td><td>&quot;71&quot;</td><td>1</td></tr><tr><td>2016-01-01</td><td>&quot;74&quot;</td><td>1</td></tr><tr><td>2016-01-01</td><td>&quot;79&quot;</td><td>1</td></tr><tr><td>2016-01-01</td><td>&quot;45&quot;</td><td>1</td></tr><tr><td>2016-01-01</td><td>&quot;83&quot;</td><td>1</td></tr><tr><td>&hellip;</td><td>&hellip;</td><td>&hellip;</td></tr><tr><td>2016-12-27</td><td>&quot;74&quot;</td><td>12</td></tr><tr><td>2016-12-27</td><td>&quot;85&quot;</td><td>12</td></tr><tr><td>2016-12-27</td><td>&quot;83&quot;</td><td>12</td></tr><tr><td>2016-12-27</td><td>&quot;23&quot;</td><td>12</td></tr><tr><td>2016-12-27</td><td>&quot;84&quot;</td><td>12</td></tr></tbody></table></div>"
      ],
      "text/plain": [
       "shape: (6_543, 3)\n",
       "┌─────────────┬─────┬───────┐\n",
       "│ dateofdeath ┆ age ┆ month │\n",
       "│ ---         ┆ --- ┆ ---   │\n",
       "│ date        ┆ str ┆ i8    │\n",
       "╞═════════════╪═════╪═══════╡\n",
       "│ 2016-01-01  ┆ 71  ┆ 1     │\n",
       "│ 2016-01-01  ┆ 74  ┆ 1     │\n",
       "│ 2016-01-01  ┆ 79  ┆ 1     │\n",
       "│ 2016-01-01  ┆ 45  ┆ 1     │\n",
       "│ 2016-01-01  ┆ 83  ┆ 1     │\n",
       "│ …           ┆ …   ┆ …     │\n",
       "│ 2016-12-27  ┆ 74  ┆ 12    │\n",
       "│ 2016-12-27  ┆ 85  ┆ 12    │\n",
       "│ 2016-12-27  ┆ 83  ┆ 12    │\n",
       "│ 2016-12-27  ┆ 23  ┆ 12    │\n",
       "│ 2016-12-27  ┆ 84  ┆ 12    │\n",
       "└─────────────┴─────┴───────┘"
      ]
     },
     "execution_count": 29,
     "metadata": {},
     "output_type": "execute_result"
    }
   ],
   "source": [
    "# add new column with month\n",
    "df = df.with_columns(pl.col(\"dateofdeath\").dt.month().alias(\"month\"))\n",
    "df"
   ]
  },
  {
   "cell_type": "code",
   "execution_count": 30,
   "metadata": {},
   "outputs": [
    {
     "data": {
      "text/html": [
       "<div><style>\n",
       ".dataframe > thead > tr,\n",
       ".dataframe > tbody > tr {\n",
       "  text-align: right;\n",
       "  white-space: pre-wrap;\n",
       "}\n",
       "</style>\n",
       "<small>shape: (6_543, 3)</small><table border=\"1\" class=\"dataframe\"><thead><tr><th>dateofdeath</th><th>age</th><th>month</th></tr><tr><td>date</td><td>str</td><td>i8</td></tr></thead><tbody><tr><td>2016-01-01</td><td>&quot;71&quot;</td><td>1</td></tr><tr><td>2016-01-01</td><td>&quot;74&quot;</td><td>1</td></tr><tr><td>2016-01-01</td><td>&quot;79&quot;</td><td>1</td></tr><tr><td>2016-01-01</td><td>&quot;45&quot;</td><td>1</td></tr><tr><td>2016-01-01</td><td>&quot;83&quot;</td><td>1</td></tr><tr><td>&hellip;</td><td>&hellip;</td><td>&hellip;</td></tr><tr><td>2016-12-27</td><td>&quot;74&quot;</td><td>12</td></tr><tr><td>2016-12-27</td><td>&quot;85&quot;</td><td>12</td></tr><tr><td>2016-12-27</td><td>&quot;83&quot;</td><td>12</td></tr><tr><td>2016-12-27</td><td>&quot;23&quot;</td><td>12</td></tr><tr><td>2016-12-27</td><td>&quot;84&quot;</td><td>12</td></tr></tbody></table></div>"
      ],
      "text/plain": [
       "shape: (6_543, 3)\n",
       "┌─────────────┬─────┬───────┐\n",
       "│ dateofdeath ┆ age ┆ month │\n",
       "│ ---         ┆ --- ┆ ---   │\n",
       "│ date        ┆ str ┆ i8    │\n",
       "╞═════════════╪═════╪═══════╡\n",
       "│ 2016-01-01  ┆ 71  ┆ 1     │\n",
       "│ 2016-01-01  ┆ 74  ┆ 1     │\n",
       "│ 2016-01-01  ┆ 79  ┆ 1     │\n",
       "│ 2016-01-01  ┆ 45  ┆ 1     │\n",
       "│ 2016-01-01  ┆ 83  ┆ 1     │\n",
       "│ …           ┆ …   ┆ …     │\n",
       "│ 2016-12-27  ┆ 74  ┆ 12    │\n",
       "│ 2016-12-27  ┆ 85  ┆ 12    │\n",
       "│ 2016-12-27  ┆ 83  ┆ 12    │\n",
       "│ 2016-12-27  ┆ 23  ┆ 12    │\n",
       "│ 2016-12-27  ┆ 84  ┆ 12    │\n",
       "└─────────────┴─────┴───────┘"
      ]
     },
     "execution_count": 30,
     "metadata": {},
     "output_type": "execute_result"
    }
   ],
   "source": [
    "# sort by month\n",
    "df.sort(by=[\"month\"])"
   ]
  },
  {
   "cell_type": "code",
   "execution_count": 53,
   "metadata": {},
   "outputs": [],
   "source": [
    "# clean all nonintegers in age column\n",
    "df = (\n",
    "        df\n",
    "        .with_columns(pl.col(\"age\").replace(r\"^[0-9]*\", None).str.slice(0,2)\n",
    "                      .cast(int, wrap_numerical=True)).drop_nulls()\n",
    "    )\n"
   ]
  },
  {
   "cell_type": "code",
   "execution_count": 55,
   "metadata": {},
   "outputs": [
    {
     "data": {
      "text/html": [
       "<div><style>\n",
       ".dataframe > thead > tr,\n",
       ".dataframe > tbody > tr {\n",
       "  text-align: right;\n",
       "  white-space: pre-wrap;\n",
       "}\n",
       "</style>\n",
       "<small>shape: (1, 1)</small><table border=\"1\" class=\"dataframe\"><thead><tr><th>age</th></tr><tr><td>f64</td></tr></thead><tbody><tr><td>75.417978</td></tr></tbody></table></div>"
      ],
      "text/plain": [
       "shape: (1, 1)\n",
       "┌───────────┐\n",
       "│ age       │\n",
       "│ ---       │\n",
       "│ f64       │\n",
       "╞═══════════╡\n",
       "│ 75.417978 │\n",
       "└───────────┘"
      ]
     },
     "execution_count": 55,
     "metadata": {},
     "output_type": "execute_result"
    }
   ],
   "source": [
    "# find avg age from feb to july\n",
    "df.filter((pl.col(\"month\")>=2) & (pl.col(\"month\") <= 7)).select(\"age\").mean()"
   ]
  },
  {
   "cell_type": "code",
   "execution_count": null,
   "metadata": {},
   "outputs": [
    {
     "data": {
      "text/html": [
       "<div><style>\n",
       ".dataframe > thead > tr,\n",
       ".dataframe > tbody > tr {\n",
       "  text-align: right;\n",
       "  white-space: pre-wrap;\n",
       "}\n",
       "</style>\n",
       "<small>shape: (1, 1)</small><table border=\"1\" class=\"dataframe\"><thead><tr><th>age</th></tr><tr><td>f64</td></tr></thead><tbody><tr><td>75.414281</td></tr></tbody></table></div>"
      ],
      "text/plain": [
       "shape: (1, 1)\n",
       "┌───────────┐\n",
       "│ age       │\n",
       "│ ---       │\n",
       "│ f64       │\n",
       "╞═══════════╡\n",
       "│ 75.414281 │\n",
       "└───────────┘"
      ]
     },
     "execution_count": 57,
     "metadata": {},
     "output_type": "execute_result"
    }
   ],
   "source": [
    "import datetime as dt\n",
    "# mean age value in period [2016-02-15, 2016-07-15]\n",
    "start = dt.datetime(2016, 2, 15)\n",
    "end = dt.datetime(2016, 7, 15)\n",
    "df.filter((pl.col(\"dateofdeath\")>=start) & (pl.col(\"dateofdeath\") <= end)).select(\"age\").mean()\n"
   ]
  },
  {
   "cell_type": "code",
   "execution_count": 62,
   "metadata": {},
   "outputs": [
    {
     "data": {
      "text/html": [
       "<div><style>\n",
       ".dataframe > thead > tr,\n",
       ".dataframe > tbody > tr {\n",
       "  text-align: right;\n",
       "  white-space: pre-wrap;\n",
       "}\n",
       "</style>\n",
       "<small>shape: (5, 2)</small><table border=\"1\" class=\"dataframe\"><thead><tr><th>causeofdeath</th><th>count</th></tr><tr><td>str</td><td>u32</td></tr></thead><tbody><tr><td>&quot; cancer&quot;</td><td>248</td></tr><tr><td>&quot; heart attack&quot;</td><td>125</td></tr><tr><td>&quot; traffic collision&quot;</td><td>56</td></tr><tr><td>&quot; lung cancer&quot;</td><td>51</td></tr><tr><td>&quot; pneumonia&quot;</td><td>50</td></tr></tbody></table></div>"
      ],
      "text/plain": [
       "shape: (5, 2)\n",
       "┌────────────────────┬───────┐\n",
       "│ causeofdeath       ┆ count │\n",
       "│ ---                ┆ ---   │\n",
       "│ str                ┆ u32   │\n",
       "╞════════════════════╪═══════╡\n",
       "│  cancer            ┆ 248   │\n",
       "│  heart attack      ┆ 125   │\n",
       "│  traffic collision ┆ 56    │\n",
       "│  lung cancer       ┆ 51    │\n",
       "│  pneumonia         ┆ 50    │\n",
       "└────────────────────┴───────┘"
      ]
     },
     "execution_count": 62,
     "metadata": {},
     "output_type": "execute_result"
    }
   ],
   "source": [
    "#top 5 cause of death\n",
    "df = pl.read_csv(path, columns=[\"causeofdeath\"])\n",
    "df[\"causeofdeath\"].drop_nulls().value_counts(sort=True)[:5]"
   ]
  },
  {
   "cell_type": "code",
   "execution_count": 91,
   "metadata": {},
   "outputs": [
    {
     "data": {
      "text/html": [
       "<div><style>\n",
       ".dataframe > thead > tr,\n",
       ".dataframe > tbody > tr {\n",
       "  text-align: right;\n",
       "  white-space: pre-wrap;\n",
       "}\n",
       "</style>\n",
       "<small>shape: (5, 2)</small><table border=\"1\" class=\"dataframe\"><thead><tr><th>causeofdeath</th><th>count</th></tr><tr><td>str</td><td>u32</td></tr></thead><tbody><tr><td>&quot;unknown&quot;</td><td>5008</td></tr><tr><td>&quot; cancer&quot;</td><td>248</td></tr><tr><td>&quot; heart attack&quot;</td><td>125</td></tr><tr><td>&quot; traffic collision&quot;</td><td>56</td></tr><tr><td>&quot; lung cancer&quot;</td><td>51</td></tr></tbody></table></div>"
      ],
      "text/plain": [
       "shape: (5, 2)\n",
       "┌────────────────────┬───────┐\n",
       "│ causeofdeath       ┆ count │\n",
       "│ ---                ┆ ---   │\n",
       "│ str                ┆ u32   │\n",
       "╞════════════════════╪═══════╡\n",
       "│ unknown            ┆ 5008  │\n",
       "│  cancer            ┆ 248   │\n",
       "│  heart attack      ┆ 125   │\n",
       "│  traffic collision ┆ 56    │\n",
       "│  lung cancer       ┆ 51    │\n",
       "└────────────────────┴───────┘"
      ]
     },
     "execution_count": 91,
     "metadata": {},
     "output_type": "execute_result"
    }
   ],
   "source": [
    "#top 5 cause of death with unknown\n",
    "df[\"causeofdeath\"].fill_null(\"unknown\").value_counts(sort=True)[:5]"
   ]
  },
  {
   "cell_type": "markdown",
   "metadata": {},
   "source": [
    "3. Fill in missing data from the famous Titanic data set"
   ]
  },
  {
   "cell_type": "code",
   "execution_count": 3,
   "metadata": {},
   "outputs": [
    {
     "name": "stdout",
     "output_type": "stream",
     "text": [
      "Collecting xlrd\n",
      "  Downloading xlrd-2.0.1-py2.py3-none-any.whl.metadata (3.4 kB)\n",
      "Downloading xlrd-2.0.1-py2.py3-none-any.whl (96 kB)\n",
      "Installing collected packages: xlrd\n",
      "Successfully installed xlrd-2.0.1\n",
      "Note: you may need to restart the kernel to use updated packages.\n"
     ]
    }
   ],
   "source": [
    "%pip install xlrd\n"
   ]
  },
  {
   "cell_type": "code",
   "execution_count": 46,
   "metadata": {},
   "outputs": [],
   "source": [
    "path = \"data/titanic3.xls\"\n",
    "df = pd.read_excel(path)\n",
    "\n",
    "# df.to_csv('data/titanic3.csv', index=False) # for arrow"
   ]
  },
  {
   "cell_type": "code",
   "execution_count": 47,
   "metadata": {},
   "outputs": [
    {
     "data": {
      "text/plain": [
       "pclass          0\n",
       "survived        0\n",
       "name            0\n",
       "sex             0\n",
       "age           263\n",
       "sibsp           0\n",
       "parch           0\n",
       "ticket          0\n",
       "fare            1\n",
       "cabin        1014\n",
       "embarked        2\n",
       "boat          823\n",
       "body         1188\n",
       "home.dest     564\n",
       "dtype: int64"
      ]
     },
     "execution_count": 47,
     "metadata": {},
     "output_type": "execute_result"
    }
   ],
   "source": [
    "# which columns contain null values\n",
    "df.isna().sum()"
   ]
  },
  {
   "cell_type": "code",
   "execution_count": 48,
   "metadata": {},
   "outputs": [
    {
     "name": "stdout",
     "output_type": "stream",
     "text": [
      "<class 'pandas.core.frame.DataFrame'>\n",
      "RangeIndex: 1309 entries, 0 to 1308\n",
      "Data columns (total 14 columns):\n",
      " #   Column     Non-Null Count  Dtype  \n",
      "---  ------     --------------  -----  \n",
      " 0   pclass     1309 non-null   int64  \n",
      " 1   survived   1309 non-null   int64  \n",
      " 2   name       1309 non-null   object \n",
      " 3   sex        1309 non-null   object \n",
      " 4   age        1046 non-null   float64\n",
      " 5   sibsp      1309 non-null   int64  \n",
      " 6   parch      1309 non-null   int64  \n",
      " 7   ticket     1309 non-null   object \n",
      " 8   fare       1308 non-null   float64\n",
      " 9   cabin      295 non-null    object \n",
      " 10  embarked   1307 non-null   object \n",
      " 11  boat       486 non-null    object \n",
      " 12  body       121 non-null    float64\n",
      " 13  home.dest  745 non-null    object \n",
      "dtypes: float64(3), int64(4), object(7)\n",
      "memory usage: 143.3+ KB\n"
     ]
    }
   ],
   "source": [
    "df.info()"
   ]
  },
  {
   "cell_type": "code",
   "execution_count": 49,
   "metadata": {},
   "outputs": [],
   "source": [
    "df[\"age\"] = df[\"age\"].interpolate()"
   ]
  },
  {
   "cell_type": "code",
   "execution_count": 50,
   "metadata": {},
   "outputs": [],
   "source": [
    "df[df[\"fare\"].isna()]  = df[df[\"fare\"] < 400]['fare'].mean().astype(int)"
   ]
  },
  {
   "cell_type": "code",
   "execution_count": 51,
   "metadata": {},
   "outputs": [],
   "source": [
    "df = df.dropna(subset=[\"embarked\"])"
   ]
  },
  {
   "cell_type": "code",
   "execution_count": 52,
   "metadata": {},
   "outputs": [],
   "source": [
    "# df[\"home.dest\"] = df[\"home.dest\"].fillna(df[\"home.dest\"].mode()[0])\n"
   ]
  },
  {
   "cell_type": "code",
   "execution_count": 55,
   "metadata": {},
   "outputs": [
    {
     "name": "stdout",
     "output_type": "stream",
     "text": [
      "home.dest\n",
      "New York, NY                            29\n",
      "London                                  14\n",
      "Cornwall / Akron, OH                     9\n",
      "Wiltshire, England Niagara Falls, NY     8\n",
      "Sweden Winnipeg, MN                      7\n",
      "                                        ..\n",
      "Devonport, England                       1\n",
      "Tokyo, Japan                             1\n",
      "North Evington, England                  1\n",
      "St Ives, Cornwall / Houghton, MI         1\n",
      "Antwerp, Belgium / Stanton, OH           1\n",
      "Name: count, Length: 293, dtype: int64\n",
      "home.dest\n",
      "New York, NY                             33\n",
      "Paris, France                             7\n",
      "Haverford, PA / Cooperstown, NY           5\n",
      "Ottawa, ON                                5\n",
      "Paris / Montreal, PQ                      4\n",
      "                                         ..\n",
      "?Havana, Cuba                             1\n",
      "St James, Long Island, NY                 1\n",
      "Gallipolis, Ohio / ? Paris / New York     1\n",
      "Albany, NY                                1\n",
      "Austria Niagara Falls, NY                 1\n",
      "Name: count, Length: 70, dtype: int64\n",
      "home.dest\n",
      "Ireland Chicago, IL                                   4\n",
      "Ireland New York, NY                                  4\n",
      "Ireland                                               3\n",
      "Fond du Lac, WI                                       2\n",
      "Co Longford, Ireland New York, NY                     2\n",
      "Co Athlone, Ireland New York, NY                      2\n",
      "New York, NY                                          2\n",
      "Aughnacliff, Co Longford, Ireland New York, NY        1\n",
      "Kilmacowen, Co Sligo, Ireland New York, NY            1\n",
      "Ireland Brooklyn, NY                                  1\n",
      "Philadelphia, PA                                      1\n",
      "Co Limerick, Ireland Sherbrooke, PQ                   1\n",
      "Co Sligo, Ireland Hartford, CT                        1\n",
      "Co Sligo, Ireland New York, NY                        1\n",
      "Ireland Philadelphia, PA                              1\n",
      "Green Bay, WI                                         1\n",
      "Co Cork, Ireland Charlestown, MA                      1\n",
      "Kingwilliamstown, Co Cork, Ireland New York, NY       1\n",
      "Co Cork, Ireland Roxbury, MA                          1\n",
      "Kingwilliamstown, Co Cork, Ireland Glens Falls, NY    1\n",
      "Halifax, NS                                           1\n",
      "Cambridge, MA                                         1\n",
      "Glasgow / Bangor, ME                                  1\n",
      "Harrisburg, PA                                        1\n",
      "Co Clare, Ireland Washington, DC                      1\n",
      "Name: count, dtype: int64\n",
      "home.dest\n",
      "31    1\n",
      "Name: count, dtype: int64\n"
     ]
    },
    {
     "data": {
      "text/plain": [
       "S     home.dest\n",
       "New York, NY                        ...\n",
       "C     home.dest\n",
       "New York, NY                        ...\n",
       "Q     home.dest\n",
       "Ireland Chicago, IL                 ...\n",
       "31          home.dest\n",
       "31    1\n",
       "Name: count, dtype: int64\n",
       "dtype: object"
      ]
     },
     "execution_count": 55,
     "metadata": {},
     "output_type": "execute_result"
    }
   ],
   "source": [
    "'''\n",
    "replace NaN values in the home.dest column with the most common value \n",
    "from that person's embarked column\n",
    "'''\n",
    "most_common_destinations = pd.Series()\n",
    "\n",
    "for name in df['embarked'].dropna().unique():\n",
    "    a = df[df['embarked']==name]['home.dest'].value_counts()\n",
    "    print(a)\n",
    "    most_common_destinations.loc[name] = a\n",
    "        \n",
    "    \n",
    "most_common_destinations      "
   ]
  },
  {
   "cell_type": "code",
   "execution_count": 150,
   "metadata": {},
   "outputs": [
    {
     "data": {
      "text/html": [
       "<div>\n",
       "<style scoped>\n",
       "    .dataframe tbody tr th:only-of-type {\n",
       "        vertical-align: middle;\n",
       "    }\n",
       "\n",
       "    .dataframe tbody tr th {\n",
       "        vertical-align: top;\n",
       "    }\n",
       "\n",
       "    .dataframe thead th {\n",
       "        text-align: right;\n",
       "    }\n",
       "</style>\n",
       "<table border=\"1\" class=\"dataframe\">\n",
       "  <thead>\n",
       "    <tr style=\"text-align: right;\">\n",
       "      <th></th>\n",
       "      <th>home.dest</th>\n",
       "      <th>embarked</th>\n",
       "    </tr>\n",
       "  </thead>\n",
       "  <tbody>\n",
       "    <tr>\n",
       "      <th>0</th>\n",
       "      <td>St Louis, MO</td>\n",
       "      <td>S</td>\n",
       "    </tr>\n",
       "    <tr>\n",
       "      <th>1</th>\n",
       "      <td>Montreal, PQ / Chesterville, ON</td>\n",
       "      <td>S</td>\n",
       "    </tr>\n",
       "    <tr>\n",
       "      <th>2</th>\n",
       "      <td>Montreal, PQ / Chesterville, ON</td>\n",
       "      <td>S</td>\n",
       "    </tr>\n",
       "    <tr>\n",
       "      <th>3</th>\n",
       "      <td>Montreal, PQ / Chesterville, ON</td>\n",
       "      <td>S</td>\n",
       "    </tr>\n",
       "    <tr>\n",
       "      <th>4</th>\n",
       "      <td>Montreal, PQ / Chesterville, ON</td>\n",
       "      <td>S</td>\n",
       "    </tr>\n",
       "    <tr>\n",
       "      <th>...</th>\n",
       "      <td>...</td>\n",
       "      <td>...</td>\n",
       "    </tr>\n",
       "    <tr>\n",
       "      <th>1304</th>\n",
       "      <td>NaN</td>\n",
       "      <td>C</td>\n",
       "    </tr>\n",
       "    <tr>\n",
       "      <th>1305</th>\n",
       "      <td>NaN</td>\n",
       "      <td>C</td>\n",
       "    </tr>\n",
       "    <tr>\n",
       "      <th>1306</th>\n",
       "      <td>NaN</td>\n",
       "      <td>C</td>\n",
       "    </tr>\n",
       "    <tr>\n",
       "      <th>1307</th>\n",
       "      <td>NaN</td>\n",
       "      <td>C</td>\n",
       "    </tr>\n",
       "    <tr>\n",
       "      <th>1308</th>\n",
       "      <td>NaN</td>\n",
       "      <td>S</td>\n",
       "    </tr>\n",
       "  </tbody>\n",
       "</table>\n",
       "<p>1307 rows × 2 columns</p>\n",
       "</div>"
      ],
      "text/plain": [
       "                            home.dest embarked\n",
       "0                        St Louis, MO        S\n",
       "1     Montreal, PQ / Chesterville, ON        S\n",
       "2     Montreal, PQ / Chesterville, ON        S\n",
       "3     Montreal, PQ / Chesterville, ON        S\n",
       "4     Montreal, PQ / Chesterville, ON        S\n",
       "...                               ...      ...\n",
       "1304                              NaN        C\n",
       "1305                              NaN        C\n",
       "1306                              NaN        C\n",
       "1307                              NaN        C\n",
       "1308                              NaN        S\n",
       "\n",
       "[1307 rows x 2 columns]"
      ]
     },
     "execution_count": 150,
     "metadata": {},
     "output_type": "execute_result"
    }
   ],
   "source": [
    "df[['home.dest', 'embarked']]"
   ]
  },
  {
   "cell_type": "code",
   "execution_count": 159,
   "metadata": {},
   "outputs": [],
   "source": [
    "df['home.dest'] = df['home.dest'].fillna(df['embarked'])"
   ]
  },
  {
   "cell_type": "code",
   "execution_count": 152,
   "metadata": {},
   "outputs": [
    {
     "data": {
      "text/html": [
       "<div>\n",
       "<style scoped>\n",
       "    .dataframe tbody tr th:only-of-type {\n",
       "        vertical-align: middle;\n",
       "    }\n",
       "\n",
       "    .dataframe tbody tr th {\n",
       "        vertical-align: top;\n",
       "    }\n",
       "\n",
       "    .dataframe thead th {\n",
       "        text-align: right;\n",
       "    }\n",
       "</style>\n",
       "<table border=\"1\" class=\"dataframe\">\n",
       "  <thead>\n",
       "    <tr style=\"text-align: right;\">\n",
       "      <th></th>\n",
       "      <th>home.dest</th>\n",
       "      <th>embarked</th>\n",
       "    </tr>\n",
       "  </thead>\n",
       "  <tbody>\n",
       "    <tr>\n",
       "      <th>0</th>\n",
       "      <td>St Louis, MO</td>\n",
       "      <td>S</td>\n",
       "    </tr>\n",
       "    <tr>\n",
       "      <th>1</th>\n",
       "      <td>Montreal, PQ / Chesterville, ON</td>\n",
       "      <td>S</td>\n",
       "    </tr>\n",
       "    <tr>\n",
       "      <th>2</th>\n",
       "      <td>Montreal, PQ / Chesterville, ON</td>\n",
       "      <td>S</td>\n",
       "    </tr>\n",
       "    <tr>\n",
       "      <th>3</th>\n",
       "      <td>Montreal, PQ / Chesterville, ON</td>\n",
       "      <td>S</td>\n",
       "    </tr>\n",
       "    <tr>\n",
       "      <th>4</th>\n",
       "      <td>Montreal, PQ / Chesterville, ON</td>\n",
       "      <td>S</td>\n",
       "    </tr>\n",
       "    <tr>\n",
       "      <th>...</th>\n",
       "      <td>...</td>\n",
       "      <td>...</td>\n",
       "    </tr>\n",
       "    <tr>\n",
       "      <th>1304</th>\n",
       "      <td>C</td>\n",
       "      <td>C</td>\n",
       "    </tr>\n",
       "    <tr>\n",
       "      <th>1305</th>\n",
       "      <td>C</td>\n",
       "      <td>C</td>\n",
       "    </tr>\n",
       "    <tr>\n",
       "      <th>1306</th>\n",
       "      <td>C</td>\n",
       "      <td>C</td>\n",
       "    </tr>\n",
       "    <tr>\n",
       "      <th>1307</th>\n",
       "      <td>C</td>\n",
       "      <td>C</td>\n",
       "    </tr>\n",
       "    <tr>\n",
       "      <th>1308</th>\n",
       "      <td>S</td>\n",
       "      <td>S</td>\n",
       "    </tr>\n",
       "  </tbody>\n",
       "</table>\n",
       "<p>1307 rows × 2 columns</p>\n",
       "</div>"
      ],
      "text/plain": [
       "                            home.dest embarked\n",
       "0                        St Louis, MO        S\n",
       "1     Montreal, PQ / Chesterville, ON        S\n",
       "2     Montreal, PQ / Chesterville, ON        S\n",
       "3     Montreal, PQ / Chesterville, ON        S\n",
       "4     Montreal, PQ / Chesterville, ON        S\n",
       "...                               ...      ...\n",
       "1304                                C        C\n",
       "1305                                C        C\n",
       "1306                                C        C\n",
       "1307                                C        C\n",
       "1308                                S        S\n",
       "\n",
       "[1307 rows x 2 columns]"
      ]
     },
     "execution_count": 152,
     "metadata": {},
     "output_type": "execute_result"
    }
   ],
   "source": [
    "df[['home.dest', 'embarked']]"
   ]
  },
  {
   "cell_type": "code",
   "execution_count": 160,
   "metadata": {},
   "outputs": [],
   "source": [
    "df['home.dest'] = df['home.dest'].replace(most_common_destinations)"
   ]
  },
  {
   "cell_type": "code",
   "execution_count": 161,
   "metadata": {},
   "outputs": [
    {
     "data": {
      "text/html": [
       "<div>\n",
       "<style scoped>\n",
       "    .dataframe tbody tr th:only-of-type {\n",
       "        vertical-align: middle;\n",
       "    }\n",
       "\n",
       "    .dataframe tbody tr th {\n",
       "        vertical-align: top;\n",
       "    }\n",
       "\n",
       "    .dataframe thead th {\n",
       "        text-align: right;\n",
       "    }\n",
       "</style>\n",
       "<table border=\"1\" class=\"dataframe\">\n",
       "  <thead>\n",
       "    <tr style=\"text-align: right;\">\n",
       "      <th></th>\n",
       "      <th>home.dest</th>\n",
       "      <th>embarked</th>\n",
       "    </tr>\n",
       "  </thead>\n",
       "  <tbody>\n",
       "    <tr>\n",
       "      <th>0</th>\n",
       "      <td>St Louis, MO</td>\n",
       "      <td>S</td>\n",
       "    </tr>\n",
       "    <tr>\n",
       "      <th>1</th>\n",
       "      <td>Montreal, PQ / Chesterville, ON</td>\n",
       "      <td>S</td>\n",
       "    </tr>\n",
       "    <tr>\n",
       "      <th>2</th>\n",
       "      <td>Montreal, PQ / Chesterville, ON</td>\n",
       "      <td>S</td>\n",
       "    </tr>\n",
       "    <tr>\n",
       "      <th>3</th>\n",
       "      <td>Montreal, PQ / Chesterville, ON</td>\n",
       "      <td>S</td>\n",
       "    </tr>\n",
       "    <tr>\n",
       "      <th>4</th>\n",
       "      <td>Montreal, PQ / Chesterville, ON</td>\n",
       "      <td>S</td>\n",
       "    </tr>\n",
       "    <tr>\n",
       "      <th>...</th>\n",
       "      <td>...</td>\n",
       "      <td>...</td>\n",
       "    </tr>\n",
       "    <tr>\n",
       "      <th>1304</th>\n",
       "      <td>New York, NY</td>\n",
       "      <td>C</td>\n",
       "    </tr>\n",
       "    <tr>\n",
       "      <th>1305</th>\n",
       "      <td>New York, NY</td>\n",
       "      <td>C</td>\n",
       "    </tr>\n",
       "    <tr>\n",
       "      <th>1306</th>\n",
       "      <td>New York, NY</td>\n",
       "      <td>C</td>\n",
       "    </tr>\n",
       "    <tr>\n",
       "      <th>1307</th>\n",
       "      <td>New York, NY</td>\n",
       "      <td>C</td>\n",
       "    </tr>\n",
       "    <tr>\n",
       "      <th>1308</th>\n",
       "      <td>New York, NY</td>\n",
       "      <td>S</td>\n",
       "    </tr>\n",
       "  </tbody>\n",
       "</table>\n",
       "<p>1307 rows × 2 columns</p>\n",
       "</div>"
      ],
      "text/plain": [
       "                            home.dest embarked\n",
       "0                        St Louis, MO        S\n",
       "1     Montreal, PQ / Chesterville, ON        S\n",
       "2     Montreal, PQ / Chesterville, ON        S\n",
       "3     Montreal, PQ / Chesterville, ON        S\n",
       "4     Montreal, PQ / Chesterville, ON        S\n",
       "...                               ...      ...\n",
       "1304                     New York, NY        C\n",
       "1305                     New York, NY        C\n",
       "1306                     New York, NY        C\n",
       "1307                     New York, NY        C\n",
       "1308                     New York, NY        S\n",
       "\n",
       "[1307 rows x 2 columns]"
      ]
     },
     "execution_count": 161,
     "metadata": {},
     "output_type": "execute_result"
    }
   ],
   "source": [
    "df[['home.dest', 'embarked']]"
   ]
  },
  {
   "cell_type": "code",
   "execution_count": 167,
   "metadata": {},
   "outputs": [],
   "source": [
    "df = None"
   ]
  },
  {
   "cell_type": "code",
   "execution_count": 1,
   "metadata": {},
   "outputs": [
    {
     "name": "stdout",
     "output_type": "stream",
     "text": [
      "Collecting polars\n",
      "  Downloading polars-1.21.0-cp39-abi3-macosx_11_0_arm64.whl.metadata (14 kB)\n",
      "Downloading polars-1.21.0-cp39-abi3-macosx_11_0_arm64.whl (28.0 MB)\n",
      "\u001b[2K   \u001b[90m━━━━━━━━━━━━━━━━━━━━━━━━━━━━━━━━━━━━━━━━\u001b[0m \u001b[32m28.0/28.0 MB\u001b[0m \u001b[31m6.1 MB/s\u001b[0m eta \u001b[36m0:00:00\u001b[0m00:01\u001b[0m00:01\u001b[0mm\n",
      "\u001b[?25hInstalling collected packages: polars\n",
      "Successfully installed polars-1.21.0\n",
      "Note: you may need to restart the kernel to use updated packages.\n"
     ]
    }
   ],
   "source": [
    "%pip install polars"
   ]
  },
  {
   "cell_type": "code",
   "execution_count": 2,
   "metadata": {},
   "outputs": [],
   "source": [
    "import polars as po"
   ]
  },
  {
   "cell_type": "code",
   "execution_count": 56,
   "metadata": {},
   "outputs": [],
   "source": [
    "df = po.read_csv(\"data/titanic3.csv\")"
   ]
  },
  {
   "cell_type": "code",
   "execution_count": 44,
   "metadata": {},
   "outputs": [],
   "source": [
    "d1 = df.group_by(\"embarked\", \"home.dest\").len().drop_nulls()\n",
    "d2 = d1.select(po.col(\"embarked\"), po.col(\"len\")).group_by(\"embarked\").max()"
   ]
  },
  {
   "cell_type": "code",
   "execution_count": 45,
   "metadata": {},
   "outputs": [
    {
     "data": {
      "text/html": [
       "<div><style>\n",
       ".dataframe > thead > tr,\n",
       ".dataframe > tbody > tr {\n",
       "  text-align: right;\n",
       "  white-space: pre-wrap;\n",
       "}\n",
       "</style>\n",
       "<small>shape: (4, 3)</small><table border=\"1\" class=\"dataframe\"><thead><tr><th>embarked</th><th>home.dest</th><th>len</th></tr><tr><td>str</td><td>str</td><td>u32</td></tr></thead><tbody><tr><td>&quot;S&quot;</td><td>&quot;New York, NY&quot;</td><td>29</td></tr><tr><td>&quot;Q&quot;</td><td>&quot;Ireland New York, NY&quot;</td><td>4</td></tr><tr><td>&quot;Q&quot;</td><td>&quot;Ireland Chicago, IL&quot;</td><td>4</td></tr><tr><td>&quot;C&quot;</td><td>&quot;New York, NY&quot;</td><td>33</td></tr></tbody></table></div>"
      ],
      "text/plain": [
       "shape: (4, 3)\n",
       "┌──────────┬──────────────────────┬─────┐\n",
       "│ embarked ┆ home.dest            ┆ len │\n",
       "│ ---      ┆ ---                  ┆ --- │\n",
       "│ str      ┆ str                  ┆ u32 │\n",
       "╞══════════╪══════════════════════╪═════╡\n",
       "│ S        ┆ New York, NY         ┆ 29  │\n",
       "│ Q        ┆ Ireland New York, NY ┆ 4   │\n",
       "│ Q        ┆ Ireland Chicago, IL  ┆ 4   │\n",
       "│ C        ┆ New York, NY         ┆ 33  │\n",
       "└──────────┴──────────────────────┴─────┘"
      ]
     },
     "execution_count": 45,
     "metadata": {},
     "output_type": "execute_result"
    }
   ],
   "source": [
    "d1.join(d2, on=[\"len\", \"embarked\"])"
   ]
  },
  {
   "cell_type": "code",
   "execution_count": 60,
   "metadata": {},
   "outputs": [],
   "source": [
    "import pandas as pd\n",
    "df = pd.read_csv('data/nyc-parking-violations-2020.csv', usecols=[\"Plate ID\", \"Registration State\", \n",
    "\"Vehicle Make\", \"Vehicle Color\", \"Street Name\"])"
   ]
  },
  {
   "cell_type": "code",
   "execution_count": 61,
   "metadata": {},
   "outputs": [
    {
     "data": {
      "text/plain": [
       "1897"
      ]
     },
     "execution_count": 61,
     "metadata": {},
     "output_type": "execute_result"
    }
   ],
   "source": [
    "# distinct vehicle colors\n",
    "len(df[\"Vehicle Color\"].drop_duplicates())"
   ]
  },
  {
   "cell_type": "code",
   "execution_count": 62,
   "metadata": {},
   "outputs": [
    {
     "data": {
      "text/plain": [
       "Vehicle Color\n",
       "WH       2344858\n",
       "GY       2307704\n",
       "BK       2066374\n",
       "WHITE    1061234\n",
       "BL        775124\n",
       "RD        483298\n",
       "BLACK     465110\n",
       "GREY      306787\n",
       "BROWN     292348\n",
       "SILVE     191477\n",
       "GR        182929\n",
       "BLUE      178298\n",
       "RED       161693\n",
       "TN        120576\n",
       "BR        102204\n",
       "YW         98700\n",
       "BLK        91539\n",
       "OTHER      60245\n",
       "GREEN      58765\n",
       "GL         54851\n",
       "GRY        46527\n",
       "MR         42812\n",
       "GRAY       40854\n",
       "WHT        35433\n",
       "YELLO      32792\n",
       "WHI        29760\n",
       "OR         28100\n",
       "BK.        27830\n",
       "WT         25583\n",
       "WT.        24593\n",
       "Name: count, dtype: int64"
      ]
     },
     "execution_count": 62,
     "metadata": {},
     "output_type": "execute_result"
    }
   ],
   "source": [
    "# top 30 colors\n",
    "df[\"Vehicle Color\"].value_counts()[:30]"
   ]
  },
  {
   "cell_type": "code",
   "execution_count": 63,
   "metadata": {},
   "outputs": [],
   "source": [
    "# dictionary\n",
    "colormap = {'WH': 'WHITE', 'GY':'GRAY',\n",
    "'BK':'BLACK', 'BL':'BLUE',\n",
    "'RD':'RED', 'GR':'GRAY',\n",
    "'TN':'TAN', 'BR':'BROWN',\n",
    "'YW':'YELLO', 'BLK':'BLACK',\n",
    "'GRY':'GRAY', 'WHT':'WHITE',\n",
    "'WHI':'WHITE', 'OR':'ORANG',\n",
    "'BK.':'BLACK', 'WT':'WHITE',\n",
    "'WT.':'WHITE'}\n"
   ]
  },
  {
   "cell_type": "code",
   "execution_count": 64,
   "metadata": {},
   "outputs": [
    {
     "data": {
      "text/plain": [
       "1880"
      ]
     },
     "execution_count": 64,
     "metadata": {},
     "output_type": "execute_result"
    }
   ],
   "source": [
    "df[\"Vehicle Color\"] = df[\"Vehicle Color\"].replace(colormap)\n",
    "len(df[\"Vehicle Color\"].drop_duplicates())"
   ]
  },
  {
   "cell_type": "code",
   "execution_count": null,
   "metadata": {},
   "outputs": [],
   "source": [
    "df[:50]"
   ]
  },
  {
   "cell_type": "code",
   "execution_count": 66,
   "metadata": {},
   "outputs": [
    {
     "name": "stdout",
     "output_type": "stream",
     "text": [
      "5211\n"
     ]
    },
    {
     "data": {
      "text/plain": [
       "Vehicle Make\n",
       "TOYOT    1395273\n",
       "HONDA    1343265\n",
       "FORD     1328063\n",
       "NISSA    1119587\n",
       "CHEVR     711464\n",
       "FRUEH     530846\n",
       "ME/BE     530473\n",
       "JEEP      490977\n",
       "BMW       488545\n",
       "DODGE     462646\n",
       "HYUND     357747\n",
       "LEXUS     293752\n",
       "ACURA     247954\n",
       "INTER     231149\n",
       "INFIN     230237\n",
       "GMC       214300\n",
       "SUBAR     206609\n",
       "VOLKS     192747\n",
       "AUDI      182256\n",
       "HIN       181538\n",
       "KIA       163151\n",
       "CHRYS     153200\n",
       "ISUZU     146872\n",
       "MAZDA     141137\n",
       "ROVER     102892\n",
       "CADIL     102236\n",
       "MITSU      94846\n",
       "VOLVO      92175\n",
       "NS/OT      86825\n",
       "LINCO      81403\n",
       "Name: count, dtype: int64"
      ]
     },
     "execution_count": 66,
     "metadata": {},
     "output_type": "execute_result"
    }
   ],
   "source": [
    "print(len(df['Vehicle Make'].drop_duplicates()))\n",
    "df['Vehicle Make'].value_counts()[:30]"
   ]
  },
  {
   "cell_type": "code",
   "execution_count": 67,
   "metadata": {},
   "outputs": [],
   "source": [
    "import re\n",
    "def clean(value: str) -> str:\n",
    "    if not isinstance(value, str):\n",
    "        return np.nan\n",
    "    return re.sub(r'[^\\w\\s]','', str(value).upper())"
   ]
  },
  {
   "cell_type": "code",
   "execution_count": 68,
   "metadata": {},
   "outputs": [],
   "source": [
    "df['Vehicle Make'] = df['Vehicle Make'].apply(clean)"
   ]
  },
  {
   "cell_type": "code",
   "execution_count": 72,
   "metadata": {},
   "outputs": [
    {
     "data": {
      "text/plain": [
       "np.int64(62420)"
      ]
     },
     "execution_count": 72,
     "metadata": {},
     "output_type": "execute_result"
    }
   ],
   "source": [
    "df[\"Vehicle Make\"].isnull().sum()"
   ]
  },
  {
   "cell_type": "code",
   "execution_count": 73,
   "metadata": {},
   "outputs": [
    {
     "data": {
      "text/plain": [
       "57758"
      ]
     },
     "execution_count": 73,
     "metadata": {},
     "output_type": "execute_result"
    }
   ],
   "source": [
    "len(df[\"Street Name\"].drop_duplicates())"
   ]
  },
  {
   "cell_type": "code",
   "execution_count": 40,
   "metadata": {},
   "outputs": [
    {
     "data": {
      "text/plain": [
       "Street Name\n",
       "Broadway                180225\n",
       "3rd Ave                 133003\n",
       "5th Ave                  78211\n",
       "2nd Ave                  75533\n",
       "Madison Ave              75419\n",
       "Lexington Ave            62859\n",
       "1st Ave                  58491\n",
       "Queens Blvd              58423\n",
       "8th Ave                  54641\n",
       "WB ATLANTIC AVE @ CL     54298\n",
       "WB SEAGIRT BLVD @ CR     53142\n",
       "7th Ave                  51583\n",
       "6th Ave                  50750\n",
       "EB HORACE HARDING EX     50263\n",
       "Amsterdam Ave            46657\n",
       "EB CONDUIT BLVD @ GL     46185\n",
       "SB MAIN ST @ 82ND DR     45274\n",
       "NB SPRINGFIELD BLVD      44446\n",
       "Jamaica Ave              42859\n",
       "EB E 233RD ST @ KATO     42727\n",
       "37th Ave                 39865\n",
       "Park Ave                 36140\n",
       "WB ATLANTIC AVE @ SH     34989\n",
       "Roosevelt Ave            34702\n",
       "WB GOETHALS RD N @ J     34210\n",
       "WB LINDEN BLVD @ LIN     34187\n",
       "SB FRANCIS LEWIS BLV     34026\n",
       "Fulton St                33491\n",
       "EB HILLSIDE AVE @ 25     33382\n",
       "Columbus Ave             32971\n",
       "SB WEST ST @ LEROY S     32225\n",
       "White Plains Rd          31940\n",
       "WB HEMPSTEAD AVE @ 9     28145\n",
       "WB QUEENS BLVD @ 62N     27895\n",
       "St Nicholas Ave          27889\n",
       "9th Ave                  27822\n",
       "Main St                  27762\n",
       "Coney Island Ave         27735\n",
       "EB E TREMONT AVE @ B     27461\n",
       "SB HOWARD AVE @ E NE     27183\n",
       "EB E GUN HILL RD @ T     26621\n",
       "HORACE HARDING EXPWY     26606\n",
       "EB E HOUSTON ST @ AV     26344\n",
       "SB LITTLE NECK PKWY      25937\n",
       "Northern Blvd            25657\n",
       "NB CONEY ISLAND AVE      25603\n",
       "EB ATLANTIC AVE @ 13     25225\n",
       "SB SPRINGFIELD BLVD      25194\n",
       "NB PENNSYLVANIA AVE      25032\n",
       "Myrtle Ave               24830\n",
       "Name: count, dtype: int64"
      ]
     },
     "execution_count": 40,
     "metadata": {},
     "output_type": "execute_result"
    }
   ],
   "source": [
    "df[\"Street Name\"].value_counts().head(50)"
   ]
  },
  {
   "cell_type": "code",
   "execution_count": 74,
   "metadata": {},
   "outputs": [],
   "source": [
    "import numpy as np\n",
    "def clean_streets(value: str) -> str:\n",
    "    if not isinstance(value, str):\n",
    "        return np.nan\n",
    "    return value[:value.rfind('@')].strip().upper()"
   ]
  },
  {
   "cell_type": "code",
   "execution_count": 75,
   "metadata": {},
   "outputs": [],
   "source": [
    "df[\"Street Name\"] = df[\"Street Name\"].apply(clean_streets)"
   ]
  },
  {
   "cell_type": "code",
   "execution_count": 76,
   "metadata": {},
   "outputs": [
    {
     "data": {
      "text/plain": [
       "np.int64(1417)"
      ]
     },
     "execution_count": 76,
     "metadata": {},
     "output_type": "execute_result"
    }
   ],
   "source": [
    "df[\"Street Name\"].isnull().sum()"
   ]
  },
  {
   "cell_type": "code",
   "execution_count": 77,
   "metadata": {},
   "outputs": [],
   "source": [
    "df.dropna(subset=[\"Street Name\"], inplace=True)"
   ]
  },
  {
   "cell_type": "code",
   "execution_count": 80,
   "metadata": {},
   "outputs": [
    {
     "data": {
      "text/plain": [
       "68"
      ]
     },
     "execution_count": 80,
     "metadata": {},
     "output_type": "execute_result"
    }
   ],
   "source": [
    "len(df[\"Registration State\"].drop_duplicates())"
   ]
  },
  {
   "cell_type": "code",
   "execution_count": 92,
   "metadata": {},
   "outputs": [
    {
     "data": {
      "text/plain": [
       "np.int64(24530)"
      ]
     },
     "execution_count": 92,
     "metadata": {},
     "output_type": "execute_result"
    }
   ],
   "source": [
    "df[\"Registration State\"].str.isnumeric().sum()"
   ]
  },
  {
   "cell_type": "code",
   "execution_count": 93,
   "metadata": {},
   "outputs": [],
   "source": [
    "def clean_states(value: str) -> str:\n",
    "    if not isinstance(value, str):\n",
    "        return np.nan\n",
    "    return value.strip().upper()\n"
   ]
  },
  {
   "cell_type": "code",
   "execution_count": 94,
   "metadata": {},
   "outputs": [],
   "source": [
    "df[\"Registration State\"] = df[\"Registration State\"].apply(clean_states)"
   ]
  },
  {
   "cell_type": "code",
   "execution_count": 95,
   "metadata": {},
   "outputs": [
    {
     "data": {
      "text/html": [
       "<div>\n",
       "<style scoped>\n",
       "    .dataframe tbody tr th:only-of-type {\n",
       "        vertical-align: middle;\n",
       "    }\n",
       "\n",
       "    .dataframe tbody tr th {\n",
       "        vertical-align: top;\n",
       "    }\n",
       "\n",
       "    .dataframe thead th {\n",
       "        text-align: right;\n",
       "    }\n",
       "</style>\n",
       "<table border=\"1\" class=\"dataframe\">\n",
       "  <thead>\n",
       "    <tr style=\"text-align: right;\">\n",
       "      <th></th>\n",
       "      <th>Plate ID</th>\n",
       "      <th>Registration State</th>\n",
       "      <th>Vehicle Make</th>\n",
       "      <th>Street Name</th>\n",
       "      <th>Vehicle Color</th>\n",
       "    </tr>\n",
       "  </thead>\n",
       "  <tbody>\n",
       "    <tr>\n",
       "      <th>0</th>\n",
       "      <td>J58JKX</td>\n",
       "      <td>NJ</td>\n",
       "      <td>HONDA</td>\n",
       "      <td>43 S</td>\n",
       "      <td>BLACK</td>\n",
       "    </tr>\n",
       "    <tr>\n",
       "      <th>1</th>\n",
       "      <td>KRE6058</td>\n",
       "      <td>PA</td>\n",
       "      <td>MEBE</td>\n",
       "      <td>UNION S</td>\n",
       "      <td>BLACK</td>\n",
       "    </tr>\n",
       "    <tr>\n",
       "      <th>2</th>\n",
       "      <td>444326R</td>\n",
       "      <td>NJ</td>\n",
       "      <td>LEXUS</td>\n",
       "      <td>CLERMONT AVENU</td>\n",
       "      <td>BLACK</td>\n",
       "    </tr>\n",
       "    <tr>\n",
       "      <th>3</th>\n",
       "      <td>F728330</td>\n",
       "      <td>OH</td>\n",
       "      <td>CHEVR</td>\n",
       "      <td>DIVISION AV</td>\n",
       "      <td>NaN</td>\n",
       "    </tr>\n",
       "    <tr>\n",
       "      <th>4</th>\n",
       "      <td>FMY9090</td>\n",
       "      <td>NY</td>\n",
       "      <td>JEEP</td>\n",
       "      <td>GRAND S</td>\n",
       "      <td>GREY</td>\n",
       "    </tr>\n",
       "    <tr>\n",
       "      <th>...</th>\n",
       "      <td>...</td>\n",
       "      <td>...</td>\n",
       "      <td>...</td>\n",
       "      <td>...</td>\n",
       "      <td>...</td>\n",
       "    </tr>\n",
       "    <tr>\n",
       "      <th>12495729</th>\n",
       "      <td>62161MM</td>\n",
       "      <td>NY</td>\n",
       "      <td>FORD</td>\n",
       "      <td>3RD AV</td>\n",
       "      <td>BROWN</td>\n",
       "    </tr>\n",
       "    <tr>\n",
       "      <th>12495730</th>\n",
       "      <td>GYE7330</td>\n",
       "      <td>NY</td>\n",
       "      <td>HONDA</td>\n",
       "      <td>PELHAM PARK D</td>\n",
       "      <td>BLACK</td>\n",
       "    </tr>\n",
       "    <tr>\n",
       "      <th>12495731</th>\n",
       "      <td>HNY4802</td>\n",
       "      <td>NY</td>\n",
       "      <td>FORD</td>\n",
       "      <td>LYDIG AV</td>\n",
       "      <td>GRAY</td>\n",
       "    </tr>\n",
       "    <tr>\n",
       "      <th>12495732</th>\n",
       "      <td>T687081C</td>\n",
       "      <td>NY</td>\n",
       "      <td>TOYOT</td>\n",
       "      <td>E 68 STREE</td>\n",
       "      <td>BLACK</td>\n",
       "    </tr>\n",
       "    <tr>\n",
       "      <th>12495733</th>\n",
       "      <td>3497ZN</td>\n",
       "      <td>WA</td>\n",
       "      <td>UTILI</td>\n",
       "      <td>W/S/O 182 STREE</td>\n",
       "      <td>WHITE</td>\n",
       "    </tr>\n",
       "  </tbody>\n",
       "</table>\n",
       "<p>12494317 rows × 5 columns</p>\n",
       "</div>"
      ],
      "text/plain": [
       "          Plate ID Registration State Vehicle Make      Street Name  \\\n",
       "0           J58JKX                 NJ        HONDA             43 S   \n",
       "1          KRE6058                 PA         MEBE          UNION S   \n",
       "2          444326R                 NJ        LEXUS   CLERMONT AVENU   \n",
       "3          F728330                 OH        CHEVR      DIVISION AV   \n",
       "4          FMY9090                 NY         JEEP          GRAND S   \n",
       "...            ...                ...          ...              ...   \n",
       "12495729   62161MM                 NY         FORD           3RD AV   \n",
       "12495730   GYE7330                 NY        HONDA    PELHAM PARK D   \n",
       "12495731   HNY4802                 NY         FORD         LYDIG AV   \n",
       "12495732  T687081C                 NY        TOYOT       E 68 STREE   \n",
       "12495733    3497ZN                 WA        UTILI  W/S/O 182 STREE   \n",
       "\n",
       "         Vehicle Color  \n",
       "0                BLACK  \n",
       "1                BLACK  \n",
       "2                BLACK  \n",
       "3                  NaN  \n",
       "4                 GREY  \n",
       "...                ...  \n",
       "12495729         BROWN  \n",
       "12495730         BLACK  \n",
       "12495731          GRAY  \n",
       "12495732         BLACK  \n",
       "12495733         WHITE  \n",
       "\n",
       "[12494317 rows x 5 columns]"
      ]
     },
     "execution_count": 95,
     "metadata": {},
     "output_type": "execute_result"
    }
   ],
   "source": [
    "df"
   ]
  },
  {
   "cell_type": "code",
   "execution_count": 96,
   "metadata": {},
   "outputs": [],
   "source": [
    "df = None"
   ]
  },
  {
   "cell_type": "code",
   "execution_count": 8,
   "metadata": {},
   "outputs": [
    {
     "name": "stdout",
     "output_type": "stream",
     "text": [
      "[-1, 10, 10]\n"
     ]
    }
   ],
   "source": [
    "from pyarrow import compute as pc\n",
    "print(pc.case_when([{'0': True, '1': False}, {'0': False, '1': True}, {'0': False, '1': True}], [-1,3, 11], 10).to_pylist())"
   ]
  },
  {
   "cell_type": "code",
   "execution_count": null,
   "metadata": {},
   "outputs": [],
   "source": []
  }
 ],
 "metadata": {
  "kernelspec": {
   "display_name": "Python 3",
   "language": "python",
   "name": "python3"
  },
  "language_info": {
   "codemirror_mode": {
    "name": "ipython",
    "version": 3
   },
   "file_extension": ".py",
   "mimetype": "text/x-python",
   "name": "python",
   "nbconvert_exporter": "python",
   "pygments_lexer": "ipython3",
   "version": "3.12.8"
  }
 },
 "nbformat": 4,
 "nbformat_minor": 2
}
