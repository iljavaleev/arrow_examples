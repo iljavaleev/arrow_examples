{
 "cells": [
  {
   "cell_type": "markdown",
   "metadata": {},
   "source": [
    "CHAPTER 5"
   ]
  },
  {
   "cell_type": "code",
   "execution_count": 4,
   "metadata": {},
   "outputs": [],
   "source": [
    "import pandas as pd"
   ]
  },
  {
   "cell_type": "code",
   "execution_count": 2,
   "metadata": {},
   "outputs": [],
   "source": [
    "path = \"data/nyc-parking-violations-2020.csv\"\n",
    "df = pd.read_csv(path, usecols=[\"Plate ID\", \"Registration State\", \"Vehicle Make\", \"Vehicle Color\", \"Violation Time\", \"Street Name\"])"
   ]
  },
  {
   "cell_type": "code",
   "execution_count": 5,
   "metadata": {},
   "outputs": [
    {
     "data": {
      "text/plain": [
       "12495734"
      ]
     },
     "execution_count": 5,
     "metadata": {},
     "output_type": "execute_result"
    }
   ],
   "source": [
    "# rows total\n",
    "total = len(df.index)\n",
    "total"
   ]
  },
  {
   "cell_type": "code",
   "execution_count": 6,
   "metadata": {},
   "outputs": [
    {
     "data": {
      "text/plain": [
       "12048375"
      ]
     },
     "execution_count": 6,
     "metadata": {},
     "output_type": "execute_result"
    }
   ],
   "source": [
    "# rows without any nans\n",
    "without_any_nans = len(df.dropna().index)\n",
    "without_any_nans"
   ]
  },
  {
   "cell_type": "code",
   "execution_count": 7,
   "metadata": {},
   "outputs": [
    {
     "data": {
      "text/plain": [
       "44735900"
      ]
     },
     "execution_count": 7,
     "metadata": {},
     "output_type": "execute_result"
    }
   ],
   "source": [
    "# diff with 100$ cost\n",
    "(total - without_any_nans) * 100\n"
   ]
  },
  {
   "cell_type": "code",
   "execution_count": 9,
   "metadata": {},
   "outputs": [
    {
     "name": "stdout",
     "output_type": "stream",
     "text": [
      "Loss: 6378500\n",
      "Loss without car make: 161800\n"
     ]
    }
   ],
   "source": [
    "# loss with subset features\n",
    "subset = [\"Plate ID\", \"Registration State\", \"Vehicle Make\", \"Street Name\"]\n",
    "print(f'Loss: {(len(df) - len(df.dropna(subset=subset))) * 100}')\n",
    "\n",
    "subset = [\"Plate ID\", \"Registration State\", \"Street Name\"]\n",
    "print(f'Loss without car make: {(len(df.index) - len(df.dropna(subset=subset).index)) * 100}')"
   ]
  },
  {
   "cell_type": "code",
   "execution_count": 20,
   "metadata": {},
   "outputs": [
    {
     "data": {
      "text/plain": [
       "253"
      ]
     },
     "execution_count": 20,
     "metadata": {},
     "output_type": "execute_result"
    }
   ],
   "source": [
    "'''\n",
    "How many rows would you eliminate if you required at least three non-null values\n",
    "from the four columns Plate ID, Registration State, Vehicle Make, and\n",
    "Street Name\n",
    "'''\n",
    "\n",
    "rows_with_at_least_3_non_nans = len(\n",
    "    df[\n",
    "        (\n",
    "            df['Plate ID'].notnull().astype(int) + \n",
    "            df['Registration State'].notnull().astype(int) + \n",
    "            df['Vehicle Make'].notnull().astype(int) + \n",
    "            df['Street Name'].notnull().astype(int)\n",
    "        ) >= 3\n",
    "    ]\n",
    ")\n",
    "total - rows_with_at_least_3_non_nans"
   ]
  },
  {
   "cell_type": "code",
   "execution_count": 25,
   "metadata": {},
   "outputs": [
    {
     "data": {
      "text/plain": [
       "Plate ID                 202\n",
       "Registration State         0\n",
       "Vehicle Make           62420\n",
       "Violation Time           278\n",
       "Street Name             1417\n",
       "Vehicle Color         391982\n",
       "dtype: int64"
      ]
     },
     "execution_count": 25,
     "metadata": {},
     "output_type": "execute_result"
    }
   ],
   "source": [
    "'''Which of the columns you've imported has the greatest number of NaN values'''\n",
    "df.isnull().astype(int).sum()"
   ]
  },
  {
   "cell_type": "code",
   "execution_count": 26,
   "metadata": {},
   "outputs": [
    {
     "data": {
      "text/plain": [
       "Plate ID                9084\n",
       "Registration State         0\n",
       "Vehicle Make           62420\n",
       "Violation Time           278\n",
       "Street Name             1417\n",
       "Vehicle Color         391982\n",
       "dtype: int64"
      ]
     },
     "execution_count": 26,
     "metadata": {},
     "output_type": "execute_result"
    }
   ],
   "source": [
    "'''\n",
    "Null data is bad, but there is plenty of bad non-null data, too. For example,\n",
    "many cars with BLANKPLATE as a plate ID were ticketed. Turn these into NaN val-\n",
    "ues, and rerun the previous query.\n",
    "'''\n",
    "df['Plate ID'] = df['Plate ID'].replace('BLANKPLATE', pd.NA)\n",
    "df.isnull().astype(int).sum()"
   ]
  },
  {
   "cell_type": "code",
   "execution_count": 8,
   "metadata": {},
   "outputs": [],
   "source": [
    "df = None"
   ]
  },
  {
   "cell_type": "markdown",
   "metadata": {},
   "source": [
    "2. The goal of this exercise is to find the average age of celebrities who died February–July 2016"
   ]
  },
  {
   "cell_type": "code",
   "execution_count": 23,
   "metadata": {},
   "outputs": [],
   "source": [
    "path = \"data/celebrity_deaths_2016.csv\"\n",
    "df = pd.read_csv(path, usecols=[\"dateofdeath\", \"age\"], parse_dates=[\"dateofdeath\"])"
   ]
  },
  {
   "cell_type": "code",
   "execution_count": 24,
   "metadata": {},
   "outputs": [],
   "source": [
    "# add new column with month\n",
    "df[\"month\"] = df[\"dateofdeath\"].map(lambda x: x.month)"
   ]
  },
  {
   "cell_type": "code",
   "execution_count": 25,
   "metadata": {},
   "outputs": [],
   "source": [
    "# change index to month\n",
    "df.reset_index(inplace=True)\n",
    "df = df.set_index(keys=['month'], drop=True).drop(columns=[\"index\"])"
   ]
  },
  {
   "cell_type": "code",
   "execution_count": 26,
   "metadata": {},
   "outputs": [],
   "source": [
    "# sort df by index\n",
    "df.sort_index(inplace=True)"
   ]
  },
  {
   "cell_type": "code",
   "execution_count": 27,
   "metadata": {},
   "outputs": [],
   "source": [
    "# clean all nonintegers in age column\n",
    "df[\"age\"] = df[\"age\"].replace(r\"[a-zA-Z/ ._-]*\", \"\", regex=True).str.slice(0, 2)\n",
    "\n",
    "df[\"age\"] = pd.to_numeric(df[\"age\"], errors='coerce')\n",
    "df.dropna(inplace=True)\n",
    "\n",
    "# age to int\n",
    "df[\"age\"] = df[\"age\"].astype(int)"
   ]
  },
  {
   "cell_type": "code",
   "execution_count": 28,
   "metadata": {},
   "outputs": [
    {
     "data": {
      "text/plain": [
       "np.float64(75.30396873120866)"
      ]
     },
     "execution_count": 28,
     "metadata": {},
     "output_type": "execute_result"
    }
   ],
   "source": [
    "# find avg age from feb to july\n",
    "df.loc[2:7, \"age\"].mean()"
   ]
  },
  {
   "cell_type": "code",
   "execution_count": 34,
   "metadata": {},
   "outputs": [],
   "source": [
    "# mean age value in period [2016-02-15, 2016-07-15]\n",
    "df.reset_index(inplace=True, drop=False)\n",
    "df.set_index(keys=[\"dateofdeath\"], drop=True, inplace=True)\n",
    "df.drop(columns=[\"index\"], inplace=True)"
   ]
  },
  {
   "cell_type": "code",
   "execution_count": 38,
   "metadata": {},
   "outputs": [],
   "source": [
    "import datetime as dt\n",
    "start = df.index.searchsorted(dt.datetime(2016, 2, 15))\n",
    "end = df.index.searchsorted(dt.datetime(2016, 7, 15))"
   ]
  },
  {
   "cell_type": "code",
   "execution_count": null,
   "metadata": {},
   "outputs": [],
   "source": [
    "df[start:end]['age'].mean()"
   ]
  },
  {
   "cell_type": "code",
   "execution_count": 48,
   "metadata": {},
   "outputs": [],
   "source": [
    "df = pd.read_csv(path, usecols=[\"dateofdeath\", \"age\", \"causeofdeath\"], parse_dates=[\"dateofdeath\"])"
   ]
  },
  {
   "cell_type": "code",
   "execution_count": 50,
   "metadata": {},
   "outputs": [
    {
     "data": {
      "text/plain": [
       "causeofdeath\n",
       "cancer               248\n",
       "heart attack         125\n",
       "traffic collision     56\n",
       "lung cancer           51\n",
       "pneumonia             50\n",
       "Name: count, dtype: int64"
      ]
     },
     "execution_count": 50,
     "metadata": {},
     "output_type": "execute_result"
    }
   ],
   "source": [
    "#top 5 cause of death\n",
    "df[\"causeofdeath\"].value_counts()[:5]"
   ]
  },
  {
   "cell_type": "code",
   "execution_count": 53,
   "metadata": {},
   "outputs": [
    {
     "data": {
      "text/plain": [
       "causeofdeath\n",
       "unknown               5008\n",
       " cancer                248\n",
       " heart attack          125\n",
       " traffic collision      56\n",
       " lung cancer            51\n",
       "Name: count, dtype: int64"
      ]
     },
     "execution_count": 53,
     "metadata": {},
     "output_type": "execute_result"
    }
   ],
   "source": [
    "#top 5 cause of death with unknown\n",
    "df[\"causeofdeath\"].replace(pd.NA, \"unknown\").value_counts()[:5]"
   ]
  },
  {
   "cell_type": "code",
   "execution_count": 58,
   "metadata": {},
   "outputs": [],
   "source": [
    "df=None"
   ]
  },
  {
   "cell_type": "markdown",
   "metadata": {},
   "source": [
    "3. Fill in missing data from the famous Titanic data set"
   ]
  },
  {
   "cell_type": "code",
   "execution_count": 3,
   "metadata": {},
   "outputs": [
    {
     "name": "stdout",
     "output_type": "stream",
     "text": [
      "Collecting xlrd\n",
      "  Downloading xlrd-2.0.1-py2.py3-none-any.whl.metadata (3.4 kB)\n",
      "Downloading xlrd-2.0.1-py2.py3-none-any.whl (96 kB)\n",
      "Installing collected packages: xlrd\n",
      "Successfully installed xlrd-2.0.1\n",
      "Note: you may need to restart the kernel to use updated packages.\n"
     ]
    }
   ],
   "source": [
    "%pip install xlrd\n"
   ]
  },
  {
   "cell_type": "code",
   "execution_count": 46,
   "metadata": {},
   "outputs": [],
   "source": [
    "path = \"data/titanic3.xls\"\n",
    "df = pd.read_excel(path)\n",
    "\n",
    "# df.to_csv('data/titanic3.csv', index=False) # for arrow"
   ]
  },
  {
   "cell_type": "code",
   "execution_count": 47,
   "metadata": {},
   "outputs": [
    {
     "data": {
      "text/plain": [
       "pclass          0\n",
       "survived        0\n",
       "name            0\n",
       "sex             0\n",
       "age           263\n",
       "sibsp           0\n",
       "parch           0\n",
       "ticket          0\n",
       "fare            1\n",
       "cabin        1014\n",
       "embarked        2\n",
       "boat          823\n",
       "body         1188\n",
       "home.dest     564\n",
       "dtype: int64"
      ]
     },
     "execution_count": 47,
     "metadata": {},
     "output_type": "execute_result"
    }
   ],
   "source": [
    "# which columns contain null values\n",
    "df.isna().sum()"
   ]
  },
  {
   "cell_type": "code",
   "execution_count": 48,
   "metadata": {},
   "outputs": [
    {
     "name": "stdout",
     "output_type": "stream",
     "text": [
      "<class 'pandas.core.frame.DataFrame'>\n",
      "RangeIndex: 1309 entries, 0 to 1308\n",
      "Data columns (total 14 columns):\n",
      " #   Column     Non-Null Count  Dtype  \n",
      "---  ------     --------------  -----  \n",
      " 0   pclass     1309 non-null   int64  \n",
      " 1   survived   1309 non-null   int64  \n",
      " 2   name       1309 non-null   object \n",
      " 3   sex        1309 non-null   object \n",
      " 4   age        1046 non-null   float64\n",
      " 5   sibsp      1309 non-null   int64  \n",
      " 6   parch      1309 non-null   int64  \n",
      " 7   ticket     1309 non-null   object \n",
      " 8   fare       1308 non-null   float64\n",
      " 9   cabin      295 non-null    object \n",
      " 10  embarked   1307 non-null   object \n",
      " 11  boat       486 non-null    object \n",
      " 12  body       121 non-null    float64\n",
      " 13  home.dest  745 non-null    object \n",
      "dtypes: float64(3), int64(4), object(7)\n",
      "memory usage: 143.3+ KB\n"
     ]
    }
   ],
   "source": [
    "df.info()"
   ]
  },
  {
   "cell_type": "code",
   "execution_count": 49,
   "metadata": {},
   "outputs": [],
   "source": [
    "df[\"age\"] = df[\"age\"].interpolate()"
   ]
  },
  {
   "cell_type": "code",
   "execution_count": 50,
   "metadata": {},
   "outputs": [],
   "source": [
    "df[df[\"fare\"].isna()]  = df[df[\"fare\"] < 400]['fare'].mean().astype(int)"
   ]
  },
  {
   "cell_type": "code",
   "execution_count": 51,
   "metadata": {},
   "outputs": [],
   "source": [
    "df = df.dropna(subset=[\"embarked\"])"
   ]
  },
  {
   "cell_type": "code",
   "execution_count": 52,
   "metadata": {},
   "outputs": [],
   "source": [
    "# df[\"home.dest\"] = df[\"home.dest\"].fillna(df[\"home.dest\"].mode()[0])\n"
   ]
  },
  {
   "cell_type": "code",
   "execution_count": 55,
   "metadata": {},
   "outputs": [
    {
     "name": "stdout",
     "output_type": "stream",
     "text": [
      "home.dest\n",
      "New York, NY                            29\n",
      "London                                  14\n",
      "Cornwall / Akron, OH                     9\n",
      "Wiltshire, England Niagara Falls, NY     8\n",
      "Sweden Winnipeg, MN                      7\n",
      "                                        ..\n",
      "Devonport, England                       1\n",
      "Tokyo, Japan                             1\n",
      "North Evington, England                  1\n",
      "St Ives, Cornwall / Houghton, MI         1\n",
      "Antwerp, Belgium / Stanton, OH           1\n",
      "Name: count, Length: 293, dtype: int64\n",
      "home.dest\n",
      "New York, NY                             33\n",
      "Paris, France                             7\n",
      "Haverford, PA / Cooperstown, NY           5\n",
      "Ottawa, ON                                5\n",
      "Paris / Montreal, PQ                      4\n",
      "                                         ..\n",
      "?Havana, Cuba                             1\n",
      "St James, Long Island, NY                 1\n",
      "Gallipolis, Ohio / ? Paris / New York     1\n",
      "Albany, NY                                1\n",
      "Austria Niagara Falls, NY                 1\n",
      "Name: count, Length: 70, dtype: int64\n",
      "home.dest\n",
      "Ireland Chicago, IL                                   4\n",
      "Ireland New York, NY                                  4\n",
      "Ireland                                               3\n",
      "Fond du Lac, WI                                       2\n",
      "Co Longford, Ireland New York, NY                     2\n",
      "Co Athlone, Ireland New York, NY                      2\n",
      "New York, NY                                          2\n",
      "Aughnacliff, Co Longford, Ireland New York, NY        1\n",
      "Kilmacowen, Co Sligo, Ireland New York, NY            1\n",
      "Ireland Brooklyn, NY                                  1\n",
      "Philadelphia, PA                                      1\n",
      "Co Limerick, Ireland Sherbrooke, PQ                   1\n",
      "Co Sligo, Ireland Hartford, CT                        1\n",
      "Co Sligo, Ireland New York, NY                        1\n",
      "Ireland Philadelphia, PA                              1\n",
      "Green Bay, WI                                         1\n",
      "Co Cork, Ireland Charlestown, MA                      1\n",
      "Kingwilliamstown, Co Cork, Ireland New York, NY       1\n",
      "Co Cork, Ireland Roxbury, MA                          1\n",
      "Kingwilliamstown, Co Cork, Ireland Glens Falls, NY    1\n",
      "Halifax, NS                                           1\n",
      "Cambridge, MA                                         1\n",
      "Glasgow / Bangor, ME                                  1\n",
      "Harrisburg, PA                                        1\n",
      "Co Clare, Ireland Washington, DC                      1\n",
      "Name: count, dtype: int64\n",
      "home.dest\n",
      "31    1\n",
      "Name: count, dtype: int64\n"
     ]
    },
    {
     "data": {
      "text/plain": [
       "S     home.dest\n",
       "New York, NY                        ...\n",
       "C     home.dest\n",
       "New York, NY                        ...\n",
       "Q     home.dest\n",
       "Ireland Chicago, IL                 ...\n",
       "31          home.dest\n",
       "31    1\n",
       "Name: count, dtype: int64\n",
       "dtype: object"
      ]
     },
     "execution_count": 55,
     "metadata": {},
     "output_type": "execute_result"
    }
   ],
   "source": [
    "'''\n",
    "replace NaN values in the home.dest column with the most common value \n",
    "from that person's embarked column\n",
    "'''\n",
    "most_common_destinations = pd.Series()\n",
    "\n",
    "for name in df['embarked'].dropna().unique():\n",
    "    a = df[df['embarked']==name]['home.dest'].value_counts()\n",
    "    print(a)\n",
    "    most_common_destinations.loc[name] = a\n",
    "        \n",
    "    \n",
    "most_common_destinations      "
   ]
  },
  {
   "cell_type": "code",
   "execution_count": 150,
   "metadata": {},
   "outputs": [
    {
     "data": {
      "text/html": [
       "<div>\n",
       "<style scoped>\n",
       "    .dataframe tbody tr th:only-of-type {\n",
       "        vertical-align: middle;\n",
       "    }\n",
       "\n",
       "    .dataframe tbody tr th {\n",
       "        vertical-align: top;\n",
       "    }\n",
       "\n",
       "    .dataframe thead th {\n",
       "        text-align: right;\n",
       "    }\n",
       "</style>\n",
       "<table border=\"1\" class=\"dataframe\">\n",
       "  <thead>\n",
       "    <tr style=\"text-align: right;\">\n",
       "      <th></th>\n",
       "      <th>home.dest</th>\n",
       "      <th>embarked</th>\n",
       "    </tr>\n",
       "  </thead>\n",
       "  <tbody>\n",
       "    <tr>\n",
       "      <th>0</th>\n",
       "      <td>St Louis, MO</td>\n",
       "      <td>S</td>\n",
       "    </tr>\n",
       "    <tr>\n",
       "      <th>1</th>\n",
       "      <td>Montreal, PQ / Chesterville, ON</td>\n",
       "      <td>S</td>\n",
       "    </tr>\n",
       "    <tr>\n",
       "      <th>2</th>\n",
       "      <td>Montreal, PQ / Chesterville, ON</td>\n",
       "      <td>S</td>\n",
       "    </tr>\n",
       "    <tr>\n",
       "      <th>3</th>\n",
       "      <td>Montreal, PQ / Chesterville, ON</td>\n",
       "      <td>S</td>\n",
       "    </tr>\n",
       "    <tr>\n",
       "      <th>4</th>\n",
       "      <td>Montreal, PQ / Chesterville, ON</td>\n",
       "      <td>S</td>\n",
       "    </tr>\n",
       "    <tr>\n",
       "      <th>...</th>\n",
       "      <td>...</td>\n",
       "      <td>...</td>\n",
       "    </tr>\n",
       "    <tr>\n",
       "      <th>1304</th>\n",
       "      <td>NaN</td>\n",
       "      <td>C</td>\n",
       "    </tr>\n",
       "    <tr>\n",
       "      <th>1305</th>\n",
       "      <td>NaN</td>\n",
       "      <td>C</td>\n",
       "    </tr>\n",
       "    <tr>\n",
       "      <th>1306</th>\n",
       "      <td>NaN</td>\n",
       "      <td>C</td>\n",
       "    </tr>\n",
       "    <tr>\n",
       "      <th>1307</th>\n",
       "      <td>NaN</td>\n",
       "      <td>C</td>\n",
       "    </tr>\n",
       "    <tr>\n",
       "      <th>1308</th>\n",
       "      <td>NaN</td>\n",
       "      <td>S</td>\n",
       "    </tr>\n",
       "  </tbody>\n",
       "</table>\n",
       "<p>1307 rows × 2 columns</p>\n",
       "</div>"
      ],
      "text/plain": [
       "                            home.dest embarked\n",
       "0                        St Louis, MO        S\n",
       "1     Montreal, PQ / Chesterville, ON        S\n",
       "2     Montreal, PQ / Chesterville, ON        S\n",
       "3     Montreal, PQ / Chesterville, ON        S\n",
       "4     Montreal, PQ / Chesterville, ON        S\n",
       "...                               ...      ...\n",
       "1304                              NaN        C\n",
       "1305                              NaN        C\n",
       "1306                              NaN        C\n",
       "1307                              NaN        C\n",
       "1308                              NaN        S\n",
       "\n",
       "[1307 rows x 2 columns]"
      ]
     },
     "execution_count": 150,
     "metadata": {},
     "output_type": "execute_result"
    }
   ],
   "source": [
    "df[['home.dest', 'embarked']]"
   ]
  },
  {
   "cell_type": "code",
   "execution_count": 159,
   "metadata": {},
   "outputs": [],
   "source": [
    "df['home.dest'] = df['home.dest'].fillna(df['embarked'])"
   ]
  },
  {
   "cell_type": "code",
   "execution_count": 152,
   "metadata": {},
   "outputs": [
    {
     "data": {
      "text/html": [
       "<div>\n",
       "<style scoped>\n",
       "    .dataframe tbody tr th:only-of-type {\n",
       "        vertical-align: middle;\n",
       "    }\n",
       "\n",
       "    .dataframe tbody tr th {\n",
       "        vertical-align: top;\n",
       "    }\n",
       "\n",
       "    .dataframe thead th {\n",
       "        text-align: right;\n",
       "    }\n",
       "</style>\n",
       "<table border=\"1\" class=\"dataframe\">\n",
       "  <thead>\n",
       "    <tr style=\"text-align: right;\">\n",
       "      <th></th>\n",
       "      <th>home.dest</th>\n",
       "      <th>embarked</th>\n",
       "    </tr>\n",
       "  </thead>\n",
       "  <tbody>\n",
       "    <tr>\n",
       "      <th>0</th>\n",
       "      <td>St Louis, MO</td>\n",
       "      <td>S</td>\n",
       "    </tr>\n",
       "    <tr>\n",
       "      <th>1</th>\n",
       "      <td>Montreal, PQ / Chesterville, ON</td>\n",
       "      <td>S</td>\n",
       "    </tr>\n",
       "    <tr>\n",
       "      <th>2</th>\n",
       "      <td>Montreal, PQ / Chesterville, ON</td>\n",
       "      <td>S</td>\n",
       "    </tr>\n",
       "    <tr>\n",
       "      <th>3</th>\n",
       "      <td>Montreal, PQ / Chesterville, ON</td>\n",
       "      <td>S</td>\n",
       "    </tr>\n",
       "    <tr>\n",
       "      <th>4</th>\n",
       "      <td>Montreal, PQ / Chesterville, ON</td>\n",
       "      <td>S</td>\n",
       "    </tr>\n",
       "    <tr>\n",
       "      <th>...</th>\n",
       "      <td>...</td>\n",
       "      <td>...</td>\n",
       "    </tr>\n",
       "    <tr>\n",
       "      <th>1304</th>\n",
       "      <td>C</td>\n",
       "      <td>C</td>\n",
       "    </tr>\n",
       "    <tr>\n",
       "      <th>1305</th>\n",
       "      <td>C</td>\n",
       "      <td>C</td>\n",
       "    </tr>\n",
       "    <tr>\n",
       "      <th>1306</th>\n",
       "      <td>C</td>\n",
       "      <td>C</td>\n",
       "    </tr>\n",
       "    <tr>\n",
       "      <th>1307</th>\n",
       "      <td>C</td>\n",
       "      <td>C</td>\n",
       "    </tr>\n",
       "    <tr>\n",
       "      <th>1308</th>\n",
       "      <td>S</td>\n",
       "      <td>S</td>\n",
       "    </tr>\n",
       "  </tbody>\n",
       "</table>\n",
       "<p>1307 rows × 2 columns</p>\n",
       "</div>"
      ],
      "text/plain": [
       "                            home.dest embarked\n",
       "0                        St Louis, MO        S\n",
       "1     Montreal, PQ / Chesterville, ON        S\n",
       "2     Montreal, PQ / Chesterville, ON        S\n",
       "3     Montreal, PQ / Chesterville, ON        S\n",
       "4     Montreal, PQ / Chesterville, ON        S\n",
       "...                               ...      ...\n",
       "1304                                C        C\n",
       "1305                                C        C\n",
       "1306                                C        C\n",
       "1307                                C        C\n",
       "1308                                S        S\n",
       "\n",
       "[1307 rows x 2 columns]"
      ]
     },
     "execution_count": 152,
     "metadata": {},
     "output_type": "execute_result"
    }
   ],
   "source": [
    "df[['home.dest', 'embarked']]"
   ]
  },
  {
   "cell_type": "code",
   "execution_count": 160,
   "metadata": {},
   "outputs": [],
   "source": [
    "df['home.dest'] = df['home.dest'].replace(most_common_destinations)"
   ]
  },
  {
   "cell_type": "code",
   "execution_count": 161,
   "metadata": {},
   "outputs": [
    {
     "data": {
      "text/html": [
       "<div>\n",
       "<style scoped>\n",
       "    .dataframe tbody tr th:only-of-type {\n",
       "        vertical-align: middle;\n",
       "    }\n",
       "\n",
       "    .dataframe tbody tr th {\n",
       "        vertical-align: top;\n",
       "    }\n",
       "\n",
       "    .dataframe thead th {\n",
       "        text-align: right;\n",
       "    }\n",
       "</style>\n",
       "<table border=\"1\" class=\"dataframe\">\n",
       "  <thead>\n",
       "    <tr style=\"text-align: right;\">\n",
       "      <th></th>\n",
       "      <th>home.dest</th>\n",
       "      <th>embarked</th>\n",
       "    </tr>\n",
       "  </thead>\n",
       "  <tbody>\n",
       "    <tr>\n",
       "      <th>0</th>\n",
       "      <td>St Louis, MO</td>\n",
       "      <td>S</td>\n",
       "    </tr>\n",
       "    <tr>\n",
       "      <th>1</th>\n",
       "      <td>Montreal, PQ / Chesterville, ON</td>\n",
       "      <td>S</td>\n",
       "    </tr>\n",
       "    <tr>\n",
       "      <th>2</th>\n",
       "      <td>Montreal, PQ / Chesterville, ON</td>\n",
       "      <td>S</td>\n",
       "    </tr>\n",
       "    <tr>\n",
       "      <th>3</th>\n",
       "      <td>Montreal, PQ / Chesterville, ON</td>\n",
       "      <td>S</td>\n",
       "    </tr>\n",
       "    <tr>\n",
       "      <th>4</th>\n",
       "      <td>Montreal, PQ / Chesterville, ON</td>\n",
       "      <td>S</td>\n",
       "    </tr>\n",
       "    <tr>\n",
       "      <th>...</th>\n",
       "      <td>...</td>\n",
       "      <td>...</td>\n",
       "    </tr>\n",
       "    <tr>\n",
       "      <th>1304</th>\n",
       "      <td>New York, NY</td>\n",
       "      <td>C</td>\n",
       "    </tr>\n",
       "    <tr>\n",
       "      <th>1305</th>\n",
       "      <td>New York, NY</td>\n",
       "      <td>C</td>\n",
       "    </tr>\n",
       "    <tr>\n",
       "      <th>1306</th>\n",
       "      <td>New York, NY</td>\n",
       "      <td>C</td>\n",
       "    </tr>\n",
       "    <tr>\n",
       "      <th>1307</th>\n",
       "      <td>New York, NY</td>\n",
       "      <td>C</td>\n",
       "    </tr>\n",
       "    <tr>\n",
       "      <th>1308</th>\n",
       "      <td>New York, NY</td>\n",
       "      <td>S</td>\n",
       "    </tr>\n",
       "  </tbody>\n",
       "</table>\n",
       "<p>1307 rows × 2 columns</p>\n",
       "</div>"
      ],
      "text/plain": [
       "                            home.dest embarked\n",
       "0                        St Louis, MO        S\n",
       "1     Montreal, PQ / Chesterville, ON        S\n",
       "2     Montreal, PQ / Chesterville, ON        S\n",
       "3     Montreal, PQ / Chesterville, ON        S\n",
       "4     Montreal, PQ / Chesterville, ON        S\n",
       "...                               ...      ...\n",
       "1304                     New York, NY        C\n",
       "1305                     New York, NY        C\n",
       "1306                     New York, NY        C\n",
       "1307                     New York, NY        C\n",
       "1308                     New York, NY        S\n",
       "\n",
       "[1307 rows x 2 columns]"
      ]
     },
     "execution_count": 161,
     "metadata": {},
     "output_type": "execute_result"
    }
   ],
   "source": [
    "df[['home.dest', 'embarked']]"
   ]
  },
  {
   "cell_type": "code",
   "execution_count": 167,
   "metadata": {},
   "outputs": [],
   "source": [
    "df = None"
   ]
  },
  {
   "cell_type": "code",
   "execution_count": 1,
   "metadata": {},
   "outputs": [
    {
     "name": "stdout",
     "output_type": "stream",
     "text": [
      "Collecting polars\n",
      "  Downloading polars-1.21.0-cp39-abi3-macosx_11_0_arm64.whl.metadata (14 kB)\n",
      "Downloading polars-1.21.0-cp39-abi3-macosx_11_0_arm64.whl (28.0 MB)\n",
      "\u001b[2K   \u001b[90m━━━━━━━━━━━━━━━━━━━━━━━━━━━━━━━━━━━━━━━━\u001b[0m \u001b[32m28.0/28.0 MB\u001b[0m \u001b[31m6.1 MB/s\u001b[0m eta \u001b[36m0:00:00\u001b[0m00:01\u001b[0m00:01\u001b[0mm\n",
      "\u001b[?25hInstalling collected packages: polars\n",
      "Successfully installed polars-1.21.0\n",
      "Note: you may need to restart the kernel to use updated packages.\n"
     ]
    }
   ],
   "source": [
    "%pip install polars"
   ]
  },
  {
   "cell_type": "code",
   "execution_count": 2,
   "metadata": {},
   "outputs": [],
   "source": [
    "import polars as po"
   ]
  },
  {
   "cell_type": "code",
   "execution_count": 56,
   "metadata": {},
   "outputs": [],
   "source": [
    "df = po.read_csv(\"data/titanic3.csv\")"
   ]
  },
  {
   "cell_type": "code",
   "execution_count": 44,
   "metadata": {},
   "outputs": [],
   "source": [
    "d1 = df.group_by(\"embarked\", \"home.dest\").len().drop_nulls()\n",
    "d2 = d1.select(po.col(\"embarked\"), po.col(\"len\")).group_by(\"embarked\").max()"
   ]
  },
  {
   "cell_type": "code",
   "execution_count": 45,
   "metadata": {},
   "outputs": [
    {
     "data": {
      "text/html": [
       "<div><style>\n",
       ".dataframe > thead > tr,\n",
       ".dataframe > tbody > tr {\n",
       "  text-align: right;\n",
       "  white-space: pre-wrap;\n",
       "}\n",
       "</style>\n",
       "<small>shape: (4, 3)</small><table border=\"1\" class=\"dataframe\"><thead><tr><th>embarked</th><th>home.dest</th><th>len</th></tr><tr><td>str</td><td>str</td><td>u32</td></tr></thead><tbody><tr><td>&quot;S&quot;</td><td>&quot;New York, NY&quot;</td><td>29</td></tr><tr><td>&quot;Q&quot;</td><td>&quot;Ireland New York, NY&quot;</td><td>4</td></tr><tr><td>&quot;Q&quot;</td><td>&quot;Ireland Chicago, IL&quot;</td><td>4</td></tr><tr><td>&quot;C&quot;</td><td>&quot;New York, NY&quot;</td><td>33</td></tr></tbody></table></div>"
      ],
      "text/plain": [
       "shape: (4, 3)\n",
       "┌──────────┬──────────────────────┬─────┐\n",
       "│ embarked ┆ home.dest            ┆ len │\n",
       "│ ---      ┆ ---                  ┆ --- │\n",
       "│ str      ┆ str                  ┆ u32 │\n",
       "╞══════════╪══════════════════════╪═════╡\n",
       "│ S        ┆ New York, NY         ┆ 29  │\n",
       "│ Q        ┆ Ireland New York, NY ┆ 4   │\n",
       "│ Q        ┆ Ireland Chicago, IL  ┆ 4   │\n",
       "│ C        ┆ New York, NY         ┆ 33  │\n",
       "└──────────┴──────────────────────┴─────┘"
      ]
     },
     "execution_count": 45,
     "metadata": {},
     "output_type": "execute_result"
    }
   ],
   "source": [
    "d1.join(d2, on=[\"len\", \"embarked\"])"
   ]
  },
  {
   "cell_type": "code",
   "execution_count": 3,
   "metadata": {},
   "outputs": [
    {
     "name": "stdout",
     "output_type": "stream",
     "text": [
      "Requirement already satisfied: arrow in /Users/ilavaleev/src/spark-3.5.4-bin-hadoop3/python/.conda/lib/python3.12/site-packages (1.3.0)\n",
      "Requirement already satisfied: python-dateutil>=2.7.0 in /Users/ilavaleev/src/spark-3.5.4-bin-hadoop3/python/.conda/lib/python3.12/site-packages (from arrow) (2.9.0.post0)\n",
      "Requirement already satisfied: types-python-dateutil>=2.8.10 in /Users/ilavaleev/src/spark-3.5.4-bin-hadoop3/python/.conda/lib/python3.12/site-packages (from arrow) (2.9.0.20241206)\n",
      "Requirement already satisfied: six>=1.5 in /Users/ilavaleev/src/spark-3.5.4-bin-hadoop3/python/.conda/lib/python3.12/site-packages (from python-dateutil>=2.7.0->arrow) (1.17.0)\n",
      "Note: you may need to restart the kernel to use updated packages.\n"
     ]
    }
   ],
   "source": [
    "%pip install arrow\n",
    "import pyarrow as pa"
   ]
  }
 ],
 "metadata": {
  "kernelspec": {
   "display_name": "Python 3",
   "language": "python",
   "name": "python3"
  },
  "language_info": {
   "codemirror_mode": {
    "name": "ipython",
    "version": 3
   },
   "file_extension": ".py",
   "mimetype": "text/x-python",
   "name": "python",
   "nbconvert_exporter": "python",
   "pygments_lexer": "ipython3",
   "version": "3.12.8"
  }
 },
 "nbformat": 4,
 "nbformat_minor": 2
}
