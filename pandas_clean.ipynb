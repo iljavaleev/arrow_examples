{
 "cells": [
  {
   "cell_type": "markdown",
   "metadata": {},
   "source": [
    "CHAPTER 5"
   ]
  },
  {
   "cell_type": "code",
   "execution_count": 1,
   "metadata": {},
   "outputs": [],
   "source": [
    "import pandas as pd"
   ]
  },
  {
   "cell_type": "code",
   "execution_count": 2,
   "metadata": {},
   "outputs": [],
   "source": [
    "path = \"data/nyc-parking-violations-2020.csv\"\n",
    "df = pd.read_csv(path, usecols=[\"Plate ID\", \"Registration State\", \"Vehicle Make\", \"Vehicle Color\", \"Violation Time\", \"Street Name\"])"
   ]
  },
  {
   "cell_type": "code",
   "execution_count": 5,
   "metadata": {},
   "outputs": [
    {
     "data": {
      "text/plain": [
       "12495734"
      ]
     },
     "execution_count": 5,
     "metadata": {},
     "output_type": "execute_result"
    }
   ],
   "source": [
    "# rows total\n",
    "total = len(df.index)\n",
    "total"
   ]
  },
  {
   "cell_type": "code",
   "execution_count": 6,
   "metadata": {},
   "outputs": [
    {
     "data": {
      "text/plain": [
       "12048375"
      ]
     },
     "execution_count": 6,
     "metadata": {},
     "output_type": "execute_result"
    }
   ],
   "source": [
    "# rows without any nans\n",
    "without_any_nans = len(df.dropna().index)\n",
    "without_any_nans"
   ]
  },
  {
   "cell_type": "code",
   "execution_count": 7,
   "metadata": {},
   "outputs": [
    {
     "data": {
      "text/plain": [
       "44735900"
      ]
     },
     "execution_count": 7,
     "metadata": {},
     "output_type": "execute_result"
    }
   ],
   "source": [
    "# diff with 100$ cost\n",
    "(total - without_any_nans) * 100\n"
   ]
  },
  {
   "cell_type": "code",
   "execution_count": 9,
   "metadata": {},
   "outputs": [
    {
     "name": "stdout",
     "output_type": "stream",
     "text": [
      "Loss: 6378500\n",
      "Loss without car make: 161800\n"
     ]
    }
   ],
   "source": [
    "# loss with subset features\n",
    "subset = [\"Plate ID\", \"Registration State\", \"Vehicle Make\", \"Street Name\"]\n",
    "print(f'Loss: {(len(df) - len(df.dropna(subset=subset))) * 100}')\n",
    "\n",
    "subset = [\"Plate ID\", \"Registration State\", \"Street Name\"]\n",
    "print(f'Loss without car make: {(len(df.index) - len(df.dropna(subset=subset).index)) * 100}')"
   ]
  },
  {
   "cell_type": "code",
   "execution_count": 20,
   "metadata": {},
   "outputs": [
    {
     "data": {
      "text/plain": [
       "253"
      ]
     },
     "execution_count": 20,
     "metadata": {},
     "output_type": "execute_result"
    }
   ],
   "source": [
    "'''\n",
    "How many rows would you eliminate if you required at least three non-null values\n",
    "from the four columns Plate ID, Registration State, Vehicle Make, and\n",
    "Street Name\n",
    "'''\n",
    "\n",
    "rows_with_at_least_3_non_nans = len(\n",
    "    df[\n",
    "        (\n",
    "            df['Plate ID'].notnull().astype(int) + \n",
    "            df['Registration State'].notnull().astype(int) + \n",
    "            df['Vehicle Make'].notnull().astype(int) + \n",
    "            df['Street Name'].notnull().astype(int)\n",
    "        ) >= 3\n",
    "    ]\n",
    ")\n",
    "total - rows_with_at_least_3_non_nans"
   ]
  },
  {
   "cell_type": "code",
   "execution_count": 25,
   "metadata": {},
   "outputs": [
    {
     "data": {
      "text/plain": [
       "Plate ID                 202\n",
       "Registration State         0\n",
       "Vehicle Make           62420\n",
       "Violation Time           278\n",
       "Street Name             1417\n",
       "Vehicle Color         391982\n",
       "dtype: int64"
      ]
     },
     "execution_count": 25,
     "metadata": {},
     "output_type": "execute_result"
    }
   ],
   "source": [
    "'''Which of the columns you've imported has the greatest number of NaN values'''\n",
    "df.isnull().astype(int).sum()"
   ]
  },
  {
   "cell_type": "code",
   "execution_count": 26,
   "metadata": {},
   "outputs": [
    {
     "data": {
      "text/plain": [
       "Plate ID                9084\n",
       "Registration State         0\n",
       "Vehicle Make           62420\n",
       "Violation Time           278\n",
       "Street Name             1417\n",
       "Vehicle Color         391982\n",
       "dtype: int64"
      ]
     },
     "execution_count": 26,
     "metadata": {},
     "output_type": "execute_result"
    }
   ],
   "source": [
    "'''\n",
    "Null data is bad, but there is plenty of bad non-null data, too. For example,\n",
    "many cars with BLANKPLATE as a plate ID were ticketed. Turn these into NaN val-\n",
    "ues, and rerun the previous query.\n",
    "'''\n",
    "df['Plate ID'] = df['Plate ID'].replace('BLANKPLATE', pd.NA)\n",
    "df.isnull().astype(int).sum()"
   ]
  },
  {
   "cell_type": "code",
   "execution_count": 8,
   "metadata": {},
   "outputs": [],
   "source": [
    "df = None"
   ]
  },
  {
   "cell_type": "code",
   "execution_count": null,
   "metadata": {},
   "outputs": [],
   "source": []
  }
 ],
 "metadata": {
  "kernelspec": {
   "display_name": "Python 3",
   "language": "python",
   "name": "python3"
  },
  "language_info": {
   "codemirror_mode": {
    "name": "ipython",
    "version": 3
   },
   "file_extension": ".py",
   "mimetype": "text/x-python",
   "name": "python",
   "nbconvert_exporter": "python",
   "pygments_lexer": "ipython3",
   "version": "3.12.8"
  }
 },
 "nbformat": 4,
 "nbformat_minor": 2
}
