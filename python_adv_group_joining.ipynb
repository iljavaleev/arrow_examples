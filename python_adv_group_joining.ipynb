{
 "cells": [
  {
   "cell_type": "code",
   "execution_count": 28,
   "metadata": {},
   "outputs": [
    {
     "name": "stdout",
     "output_type": "stream",
     "text": [
      "11.5 ms ± 201 μs per loop (mean ± std. dev. of 7 runs, 100 loops each)\n"
     ]
    }
   ],
   "source": [
    "%%timeit\n",
    "# Take the eight CSV files and turn them into a data frame.\n",
    "\n",
    "# We are only interested in the first three columns from each CSV file: the date\n",
    "# and time, the max temperature, and the min temperature.\n",
    "\n",
    "# Add city and state columns that contain the city and state from the filename\n",
    "# and allow us to distinguish between rows.\n",
    "\n",
    "\n",
    "import pandas as pd\n",
    "from pathlib import Path\n",
    "path = \"data/weather\"\n",
    "files = Path(path).glob('*.csv')\n",
    "\n",
    "df_parts = []\n",
    "names = [\"date_time\", \"max_temp\", \"min_temp\"]\n",
    "for f in files:\n",
    "    # take city and state from filename\n",
    "    file_name = str(f).split('/')\n",
    "    city, state = file_name[-1].split('.')[0].replace(\"+\", \" \").split(',')\n",
    "    \n",
    "    # read csv and rename columns\n",
    "    df_part = pd.read_csv(f)\n",
    "    cols = df_part.columns.to_list()\n",
    "    cols[0:3] = names\n",
    "    df_part.columns = cols\n",
    "    \n",
    "    # drop other unused colums and add city, state\n",
    "    (df_parts\n",
    "     .append(\n",
    "         df_part\n",
    "         .drop(df_part.columns[3:], axis=1)\n",
    "         .assign(city=city, state=state)))\n",
    "\n",
    "# concat tables to create df\n",
    "df = pd.concat(df_parts, ignore_index=True, axis=0)"
   ]
  },
  {
   "cell_type": "code",
   "execution_count": 29,
   "metadata": {},
   "outputs": [
    {
     "name": "stdout",
     "output_type": "stream",
     "text": [
      "1.9 ms ± 21.2 μs per loop (mean ± std. dev. of 7 runs, 1,000 loops each)\n"
     ]
    }
   ],
   "source": [
    "%%timeit\n",
    "# Does the data for each city and state start and end at (roughly) the same \n",
    "# time? How do you know?\n",
    "df.groupby([\"state\", \"city\"]).agg(min=(\"date_time\", \"min\"), max=(\"date_time\", \"max\"))"
   ]
  },
  {
   "cell_type": "code",
   "execution_count": 30,
   "metadata": {},
   "outputs": [
    {
     "name": "stdout",
     "output_type": "stream",
     "text": [
      "1.11 ms ± 19.8 μs per loop (mean ± std. dev. of 7 runs, 1,000 loops each)\n"
     ]
    }
   ],
   "source": [
    "%%timeit\n",
    "# What is the lowest minimum temperature recorded for each city in the data set?\n",
    "df.groupby([\"state\", \"city\"]).agg(lowest_temp=(\"min_temp\", \"min\"))"
   ]
  },
  {
   "cell_type": "code",
   "execution_count": 31,
   "metadata": {},
   "outputs": [
    {
     "name": "stdout",
     "output_type": "stream",
     "text": [
      "833 μs ± 12.7 μs per loop (mean ± std. dev. of 7 runs, 1,000 loops each)\n"
     ]
    }
   ],
   "source": [
    "%%timeit\n",
    "# What is the highest maximum temperature recorded in each state in the data set?\n",
    "df.groupby(\"state\").agg(highest_temp=(\"max_temp\", \"max\"))"
   ]
  },
  {
   "cell_type": "code",
   "execution_count": 32,
   "metadata": {},
   "outputs": [
    {
     "name": "stdout",
     "output_type": "stream",
     "text": [
      "1.53 ms ± 15.8 μs per loop (mean ± std. dev. of 7 runs, 1,000 loops each)\n"
     ]
    }
   ],
   "source": [
    "%%timeit\n",
    "# What is the average difference in temperature (i.e., max – min) for each of the\n",
    "# cities in our data set\n",
    "(\n",
    "    df\n",
    "    .assign(delta=(df[\"max_temp\"] - df[\"min_temp\"]))\n",
    "    .groupby([\"state\", \"city\"])\n",
    "    .agg(mean_delta=(\"delta\", \"mean\"))\n",
    ")"
   ]
  },
  {
   "cell_type": "code",
   "execution_count": 35,
   "metadata": {},
   "outputs": [
    {
     "name": "stdout",
     "output_type": "stream",
     "text": [
      "31.5 ms ± 1.1 ms per loop (mean ± std. dev. of 7 runs, 10 loops each)\n"
     ]
    }
   ],
   "source": [
    "%%timeit\n",
    "import polars as pl\n",
    "from pathlib import Path\n",
    "path = \"data/weather\"\n",
    "files = Path(path).glob('*.csv')\n",
    "\n",
    "df_parts = []\n",
    "for file in files:\n",
    "    file_name = str(file).split('/')\n",
    "    city, state = file_name[-1].split('.')[0].replace(\"+\", \" \").split(',')\n",
    "    df_part = (\n",
    "            pl\n",
    "            .scan_csv(file, try_parse_dates=True)\n",
    "            .select(\n",
    "                pl.col(\"date_time\"), \n",
    "                pl.col(\"^[a-z,+]+_maxtempC$\").alias(\"max_temp\"), \n",
    "                pl.col(\"^[a-z,+]+_mintempC$\").alias(\"min_temp\"))\n",
    "            .with_columns(\n",
    "                pl.lit(city).alias(\"city\"), \n",
    "                pl.lit(state).alias(\"state\"))\n",
    "        )\n",
    "    df_parts.append(df_part)\n",
    "\n",
    "df = pl.concat(df_parts).collect()"
   ]
  },
  {
   "cell_type": "code",
   "execution_count": 36,
   "metadata": {},
   "outputs": [
    {
     "name": "stdout",
     "output_type": "stream",
     "text": [
      "855 μs ± 12.2 μs per loop (mean ± std. dev. of 7 runs, 1,000 loops each)\n"
     ]
    }
   ],
   "source": [
    "%%timeit\n",
    "# Does the data for each city and state start and end at (roughly) the same \n",
    "# time? How do you know?\n",
    "(\n",
    "    df\n",
    "    .group_by(pl.col(\"state\"), pl.col(\"city\"))\n",
    "    .agg(\n",
    "        pl.min(\"date_time\").alias(\"min\"), \n",
    "        pl.max(\"date_time\").alias(\"max\")\n",
    "    )\n",
    ")\n"
   ]
  },
  {
   "cell_type": "code",
   "execution_count": 37,
   "metadata": {},
   "outputs": [
    {
     "name": "stdout",
     "output_type": "stream",
     "text": [
      "826 μs ± 11.9 μs per loop (mean ± std. dev. of 7 runs, 1,000 loops each)\n"
     ]
    }
   ],
   "source": [
    "%%timeit\n",
    "# What is the lowest minimum temperature recorded for each city in the data set?\n",
    "df.group_by(pl.col(\"state\"), pl.col(\"city\")).agg(pl.min(\"min_temp\").alias(\"min\"))"
   ]
  },
  {
   "cell_type": "code",
   "execution_count": 38,
   "metadata": {},
   "outputs": [
    {
     "name": "stdout",
     "output_type": "stream",
     "text": [
      "825 μs ± 10.5 μs per loop (mean ± std. dev. of 7 runs, 1,000 loops each)\n"
     ]
    }
   ],
   "source": [
    "%%timeit\n",
    "# What is the highest maximum temperature recorded in each state in the data set?\n",
    "df.group_by(pl.col(\"state\"), pl.col(\"city\")).agg(pl.max(\"max_temp\").alias(\"max\"))"
   ]
  },
  {
   "cell_type": "code",
   "execution_count": 39,
   "metadata": {},
   "outputs": [
    {
     "name": "stdout",
     "output_type": "stream",
     "text": [
      "1.42 ms ± 13.6 μs per loop (mean ± std. dev. of 7 runs, 1,000 loops each)\n"
     ]
    }
   ],
   "source": [
    "%%timeit\n",
    "# What is the average difference in temperature (i.e., max – min) for each of the\n",
    "# cities in our data set\n",
    "(\n",
    "    df\n",
    "    .with_columns((pl.col(\"max_temp\") - pl.col(\"min_temp\")).alias(\"delta\"))\n",
    "    .group_by(pl.col(\"state\"), pl.col(\"city\"))\n",
    "    .agg(pl.mean(\"delta\").alias(\"mean\"))\n",
    ")"
   ]
  },
  {
   "cell_type": "code",
   "execution_count": 41,
   "metadata": {},
   "outputs": [
    {
     "name": "stdout",
     "output_type": "stream",
     "text": [
      "6.7 ms ± 72 μs per loop (mean ± std. dev. of 7 runs, 100 loops each)\n"
     ]
    }
   ],
   "source": [
    "%%timeit\n",
    "import pyarrow as pa\n",
    "import pyarrow.csv\n",
    "\n",
    "from pathlib import Path\n",
    "path = \"data/weather\"\n",
    "files = list(Path(path).glob('*.csv'))\n",
    "\n",
    "df_parts = []\n",
    "for file in files:\n",
    "    # take city and state from filename\n",
    "    file_name = str(file).split('/')\n",
    "    city, state = file_name[-1].split('.')[0].replace(\"+\", \" \").split(',')\n",
    "\n",
    "    table = pyarrow.csv.read_csv(file)\n",
    "    df_parts.append(\n",
    "        table\n",
    "        .drop_columns(table.column_names[3:])\n",
    "        .rename_columns([\"date_time\", \"max_temp\", \"min_temp\"])\n",
    "        .append_column(\"city\", [[pa.scalar(city)]*table.num_rows])\n",
    "        .append_column(\"state\", [[pa.scalar(state)]*table.num_rows])\n",
    "    )\n",
    "df = pa.concat_tables(df_parts)"
   ]
  },
  {
   "cell_type": "code",
   "execution_count": null,
   "metadata": {},
   "outputs": [],
   "source": [
    "# import pyarrow.parquet as pq\n",
    "# pq.write_table(table, 'example.parquet')"
   ]
  },
  {
   "cell_type": "code",
   "execution_count": 42,
   "metadata": {},
   "outputs": [
    {
     "name": "stdout",
     "output_type": "stream",
     "text": [
      "206 μs ± 2.34 μs per loop (mean ± std. dev. of 7 runs, 1,000 loops each)\n"
     ]
    }
   ],
   "source": [
    "%%timeit\n",
    "# Does the data for each city and state start and end at (roughly) the same \n",
    "# time? How do you know?\n",
    "(\n",
    "    df\n",
    "    .group_by([\"state\",\"city\"])\n",
    "    .aggregate([(\"date_time\", \"min\"), (\"date_time\", \"max\")]\n",
    "    )\n",
    ")"
   ]
  },
  {
   "cell_type": "code",
   "execution_count": 43,
   "metadata": {},
   "outputs": [
    {
     "name": "stdout",
     "output_type": "stream",
     "text": [
      "190 μs ± 910 ns per loop (mean ± std. dev. of 7 runs, 10,000 loops each)\n"
     ]
    }
   ],
   "source": [
    "%%timeit\n",
    "# What is the lowest minimum temperature recorded for each city in the data set?\n",
    "df.group_by([\"state\",\"city\"]).aggregate([(\"min_temp\", \"min\")])"
   ]
  },
  {
   "cell_type": "code",
   "execution_count": 44,
   "metadata": {},
   "outputs": [
    {
     "name": "stdout",
     "output_type": "stream",
     "text": [
      "191 μs ± 3.78 μs per loop (mean ± std. dev. of 7 runs, 10,000 loops each)\n"
     ]
    }
   ],
   "source": [
    "%%timeit\n",
    "# What is the highest maximum temperature recorded in each state in the data set?\n",
    "df.group_by([\"state\",\"city\"]).aggregate([(\"max_temp\", \"max\")])"
   ]
  },
  {
   "cell_type": "code",
   "execution_count": 45,
   "metadata": {},
   "outputs": [
    {
     "name": "stdout",
     "output_type": "stream",
     "text": [
      "216 μs ± 1.37 μs per loop (mean ± std. dev. of 7 runs, 1,000 loops each)\n"
     ]
    }
   ],
   "source": [
    "%%timeit\n",
    "# What is the average difference in temperature (i.e., max – min) for each of the\n",
    "# cities in our data set\n",
    "import pyarrow.compute as pc\n",
    "pc.subtract(df[\"max_temp\"], df[\"min_temp\"])\n",
    "(\n",
    "    df\n",
    "    .append_column(\n",
    "        pa.field(\"delta\", pa.int64()), \n",
    "        pc.subtract(df[\"max_temp\"], df[\"min_temp\"])\n",
    "    )\n",
    "    .group_by([\"state\",\"city\"])\n",
    "    .aggregate([(\"delta\", \"mean\")])\n",
    ")"
   ]
  },
  {
   "cell_type": "code",
   "execution_count": null,
   "metadata": {},
   "outputs": [],
   "source": []
  }
 ],
 "metadata": {
  "kernelspec": {
   "display_name": "Python 3",
   "language": "python",
   "name": "python3"
  },
  "language_info": {
   "codemirror_mode": {
    "name": "ipython",
    "version": 3
   },
   "file_extension": ".py",
   "mimetype": "text/x-python",
   "name": "python",
   "nbconvert_exporter": "python",
   "pygments_lexer": "ipython3",
   "version": "3.12.8"
  }
 },
 "nbformat": 4,
 "nbformat_minor": 2
}
