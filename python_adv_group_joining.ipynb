{
 "cells": [
  {
   "cell_type": "code",
   "execution_count": 28,
   "metadata": {},
   "outputs": [
    {
     "name": "stdout",
     "output_type": "stream",
     "text": [
      "11.5 ms ± 201 μs per loop (mean ± std. dev. of 7 runs, 100 loops each)\n"
     ]
    }
   ],
   "source": [
    "%%timeit\n",
    "# Take the eight CSV files and turn them into a data frame.\n",
    "\n",
    "# We are only interested in the first three columns from each CSV file: the date\n",
    "# and time, the max temperature, and the min temperature.\n",
    "\n",
    "# Add city and state columns that contain the city and state from the filename\n",
    "# and allow us to distinguish between rows.\n",
    "\n",
    "\n",
    "import pandas as pd\n",
    "from pathlib import Path\n",
    "path = \"data/weather\"\n",
    "files = Path(path).glob('*.csv')\n",
    "\n",
    "df_parts = []\n",
    "names = [\"date_time\", \"max_temp\", \"min_temp\"]\n",
    "for f in files:\n",
    "    # take city and state from filename\n",
    "    file_name = str(f).split('/')\n",
    "    city, state = file_name[-1].split('.')[0].replace(\"+\", \" \").split(',')\n",
    "    \n",
    "    # read csv and rename columns\n",
    "    df_part = pd.read_csv(f)\n",
    "    cols = df_part.columns.to_list()\n",
    "    cols[0:3] = names\n",
    "    df_part.columns = cols\n",
    "    \n",
    "    # drop other unused colums and add city, state\n",
    "    (df_parts\n",
    "     .append(\n",
    "         df_part\n",
    "         .drop(df_part.columns[3:], axis=1)\n",
    "         .assign(city=city, state=state)))\n",
    "\n",
    "# concat tables to create df\n",
    "df = pd.concat(df_parts, ignore_index=True, axis=0)"
   ]
  },
  {
   "cell_type": "code",
   "execution_count": 29,
   "metadata": {},
   "outputs": [
    {
     "name": "stdout",
     "output_type": "stream",
     "text": [
      "1.9 ms ± 21.2 μs per loop (mean ± std. dev. of 7 runs, 1,000 loops each)\n"
     ]
    }
   ],
   "source": [
    "%%timeit\n",
    "# Does the data for each city and state start and end at (roughly) the same \n",
    "# time? How do you know?\n",
    "df.groupby([\"state\", \"city\"]).agg(min=(\"date_time\", \"min\"), max=(\"date_time\", \"max\"))"
   ]
  },
  {
   "cell_type": "code",
   "execution_count": 30,
   "metadata": {},
   "outputs": [
    {
     "name": "stdout",
     "output_type": "stream",
     "text": [
      "1.11 ms ± 19.8 μs per loop (mean ± std. dev. of 7 runs, 1,000 loops each)\n"
     ]
    }
   ],
   "source": [
    "%%timeit\n",
    "# What is the lowest minimum temperature recorded for each city in the data set?\n",
    "df.groupby([\"state\", \"city\"]).agg(lowest_temp=(\"min_temp\", \"min\"))"
   ]
  },
  {
   "cell_type": "code",
   "execution_count": 31,
   "metadata": {},
   "outputs": [
    {
     "name": "stdout",
     "output_type": "stream",
     "text": [
      "833 μs ± 12.7 μs per loop (mean ± std. dev. of 7 runs, 1,000 loops each)\n"
     ]
    }
   ],
   "source": [
    "%%timeit\n",
    "# What is the highest maximum temperature recorded in each state in the data set?\n",
    "df.groupby(\"state\").agg(highest_temp=(\"max_temp\", \"max\"))"
   ]
  },
  {
   "cell_type": "code",
   "execution_count": 32,
   "metadata": {},
   "outputs": [
    {
     "name": "stdout",
     "output_type": "stream",
     "text": [
      "1.53 ms ± 15.8 μs per loop (mean ± std. dev. of 7 runs, 1,000 loops each)\n"
     ]
    }
   ],
   "source": [
    "%%timeit\n",
    "# What is the average difference in temperature (i.e., max – min) for each of the\n",
    "# cities in our data set\n",
    "(\n",
    "    df\n",
    "    .assign(delta=(df[\"max_temp\"] - df[\"min_temp\"]))\n",
    "    .groupby([\"state\", \"city\"])\n",
    "    .agg(mean_delta=(\"delta\", \"mean\"))\n",
    ")"
   ]
  },
  {
   "cell_type": "code",
   "execution_count": 35,
   "metadata": {},
   "outputs": [
    {
     "name": "stdout",
     "output_type": "stream",
     "text": [
      "31.5 ms ± 1.1 ms per loop (mean ± std. dev. of 7 runs, 10 loops each)\n"
     ]
    }
   ],
   "source": [
    "%%timeit\n",
    "import polars as pl\n",
    "from pathlib import Path\n",
    "path = \"data/weather\"\n",
    "files = Path(path).glob('*.csv')\n",
    "\n",
    "df_parts = []\n",
    "for file in files:\n",
    "    file_name = str(file).split('/')\n",
    "    city, state = file_name[-1].split('.')[0].replace(\"+\", \" \").split(',')\n",
    "    df_part = (\n",
    "            pl\n",
    "            .scan_csv(file, try_parse_dates=True)\n",
    "            .select(\n",
    "                pl.col(\"date_time\"), \n",
    "                pl.col(\"^[a-z,+]+_maxtempC$\").alias(\"max_temp\"), \n",
    "                pl.col(\"^[a-z,+]+_mintempC$\").alias(\"min_temp\"))\n",
    "            .with_columns(\n",
    "                pl.lit(city).alias(\"city\"), \n",
    "                pl.lit(state).alias(\"state\"))\n",
    "        )\n",
    "    df_parts.append(df_part)\n",
    "\n",
    "df = pl.concat(df_parts).collect()"
   ]
  },
  {
   "cell_type": "code",
   "execution_count": 36,
   "metadata": {},
   "outputs": [
    {
     "name": "stdout",
     "output_type": "stream",
     "text": [
      "855 μs ± 12.2 μs per loop (mean ± std. dev. of 7 runs, 1,000 loops each)\n"
     ]
    }
   ],
   "source": [
    "%%timeit\n",
    "# Does the data for each city and state start and end at (roughly) the same \n",
    "# time? How do you know?\n",
    "(\n",
    "    df\n",
    "    .group_by(pl.col(\"state\"), pl.col(\"city\"))\n",
    "    .agg(\n",
    "        pl.min(\"date_time\").alias(\"min\"), \n",
    "        pl.max(\"date_time\").alias(\"max\")\n",
    "    )\n",
    ")\n"
   ]
  },
  {
   "cell_type": "code",
   "execution_count": 37,
   "metadata": {},
   "outputs": [
    {
     "name": "stdout",
     "output_type": "stream",
     "text": [
      "826 μs ± 11.9 μs per loop (mean ± std. dev. of 7 runs, 1,000 loops each)\n"
     ]
    }
   ],
   "source": [
    "%%timeit\n",
    "# What is the lowest minimum temperature recorded for each city in the data set?\n",
    "df.group_by(pl.col(\"state\"), pl.col(\"city\")).agg(pl.min(\"min_temp\").alias(\"min\"))"
   ]
  },
  {
   "cell_type": "code",
   "execution_count": 38,
   "metadata": {},
   "outputs": [
    {
     "name": "stdout",
     "output_type": "stream",
     "text": [
      "825 μs ± 10.5 μs per loop (mean ± std. dev. of 7 runs, 1,000 loops each)\n"
     ]
    }
   ],
   "source": [
    "%%timeit\n",
    "# What is the highest maximum temperature recorded in each state in the data set?\n",
    "df.group_by(pl.col(\"state\"), pl.col(\"city\")).agg(pl.max(\"max_temp\").alias(\"max\"))"
   ]
  },
  {
   "cell_type": "code",
   "execution_count": 39,
   "metadata": {},
   "outputs": [
    {
     "name": "stdout",
     "output_type": "stream",
     "text": [
      "1.42 ms ± 13.6 μs per loop (mean ± std. dev. of 7 runs, 1,000 loops each)\n"
     ]
    }
   ],
   "source": [
    "%%timeit\n",
    "# What is the average difference in temperature (i.e., max – min) for each of the\n",
    "# cities in our data set\n",
    "(\n",
    "    df\n",
    "    .with_columns((pl.col(\"max_temp\") - pl.col(\"min_temp\")).alias(\"delta\"))\n",
    "    .group_by(pl.col(\"state\"), pl.col(\"city\"))\n",
    "    .agg(pl.mean(\"delta\").alias(\"mean\"))\n",
    ")"
   ]
  },
  {
   "cell_type": "code",
   "execution_count": 41,
   "metadata": {},
   "outputs": [
    {
     "name": "stdout",
     "output_type": "stream",
     "text": [
      "6.7 ms ± 72 μs per loop (mean ± std. dev. of 7 runs, 100 loops each)\n"
     ]
    }
   ],
   "source": [
    "%%timeit\n",
    "import pyarrow as pa\n",
    "import pyarrow.csv\n",
    "\n",
    "from pathlib import Path\n",
    "path = \"data/weather\"\n",
    "files = list(Path(path).glob('*.csv'))\n",
    "\n",
    "df_parts = []\n",
    "for file in files:\n",
    "    # take city and state from filename\n",
    "    file_name = str(file).split('/')\n",
    "    city, state = file_name[-1].split('.')[0].replace(\"+\", \" \").split(',')\n",
    "\n",
    "    table = pyarrow.csv.read_csv(file)\n",
    "    df_parts.append(\n",
    "        table\n",
    "        .drop_columns(table.column_names[3:])\n",
    "        .rename_columns([\"date_time\", \"max_temp\", \"min_temp\"])\n",
    "        .append_column(\"city\", [[pa.scalar(city)]*table.num_rows])\n",
    "        .append_column(\"state\", [[pa.scalar(state)]*table.num_rows])\n",
    "    )\n",
    "df = pa.concat_tables(df_parts)"
   ]
  },
  {
   "cell_type": "code",
   "execution_count": null,
   "metadata": {},
   "outputs": [],
   "source": [
    "# import pyarrow.parquet as pq\n",
    "# pq.write_table(table, 'example.parquet')"
   ]
  },
  {
   "cell_type": "code",
   "execution_count": 42,
   "metadata": {},
   "outputs": [
    {
     "name": "stdout",
     "output_type": "stream",
     "text": [
      "206 μs ± 2.34 μs per loop (mean ± std. dev. of 7 runs, 1,000 loops each)\n"
     ]
    }
   ],
   "source": [
    "%%timeit\n",
    "# Does the data for each city and state start and end at (roughly) the same \n",
    "# time? How do you know?\n",
    "(\n",
    "    df\n",
    "    .group_by([\"state\",\"city\"])\n",
    "    .aggregate([(\"date_time\", \"min\"), (\"date_time\", \"max\")]\n",
    "    )\n",
    ")"
   ]
  },
  {
   "cell_type": "code",
   "execution_count": null,
   "metadata": {},
   "outputs": [
    {
     "name": "stdout",
     "output_type": "stream",
     "text": [
      "190 μs ± 910 ns per loop (mean ± std. dev. of 7 runs, 10,000 loops each)\n"
     ]
    }
   ],
   "source": [
    "%%timeit\n",
    "# What is the lowest minimum temperature recorded for each city in the data set?\n",
    "df.group_by([\"city\"]).aggregate([(\"min_temp\", \"min\")])"
   ]
  },
  {
   "cell_type": "code",
   "execution_count": null,
   "metadata": {},
   "outputs": [
    {
     "name": "stdout",
     "output_type": "stream",
     "text": [
      "191 μs ± 3.78 μs per loop (mean ± std. dev. of 7 runs, 10,000 loops each)\n"
     ]
    }
   ],
   "source": [
    "%%timeit\n",
    "# What is the highest maximum temperature recorded in each state in the data set?\n",
    "df.group_by([\"state\"]).aggregate([(\"max_temp\", \"max\")])"
   ]
  },
  {
   "cell_type": "code",
   "execution_count": 45,
   "metadata": {},
   "outputs": [
    {
     "name": "stdout",
     "output_type": "stream",
     "text": [
      "216 μs ± 1.37 μs per loop (mean ± std. dev. of 7 runs, 1,000 loops each)\n"
     ]
    }
   ],
   "source": [
    "%%timeit\n",
    "# What is the average difference in temperature (i.e., max – min) for each of the\n",
    "# cities in our data set\n",
    "import pyarrow.compute as pc\n",
    "pc.subtract(df[\"max_temp\"], df[\"min_temp\"])\n",
    "(\n",
    "    df\n",
    "    .append_column(\n",
    "        pa.field(\"delta\", pa.int64()), \n",
    "        pc.subtract(df[\"max_temp\"], df[\"min_temp\"])\n",
    "    )\n",
    "    .group_by([\"state\",\"city\"])\n",
    "    .aggregate([(\"delta\", \"mean\")])\n",
    ")"
   ]
  },
  {
   "cell_type": "markdown",
   "metadata": {},
   "source": [
    "SAT scores, revisited"
   ]
  },
  {
   "cell_type": "code",
   "execution_count": 78,
   "metadata": {},
   "outputs": [],
   "source": [
    "import pandas as pd\n",
    "# Read in the scores file (sat-scores.csv). This time, you want the following \n",
    "# columns\n",
    "\n",
    "columns = [\"Year\", \"State.Code\", \"Total.Math\", \"Family Income.Less than 20k.Math\",\n",
    "\"Family Income.Between 20-40k.Math\", \"Family Income.Between 40-60k.Math\",\n",
    "\"Family Income.Between 60-80k.Math\", \"Family Income.Between 80-100k.Math\",\n",
    "\"Family Income.More than 100k.Math\"]\n",
    "\n",
    "# Rename the income-related column names to something shorter\n",
    "\n",
    "new_names = [\"Year\", \"State.Code\", \"Total.Math\", \"income<20k\", \"20k<income<40k\", \n",
    "        \"40k<income<60k\", \"60k<income<80k\", \"80k<income<100k\", \"income>100k\"]\n",
    "cols = dict(zip(columns, new_names))\n",
    "\n",
    "df = pd.read_csv(\"data/sat-scores.csv\", usecols=columns).rename(columns=cols)[new_names]"
   ]
  },
  {
   "cell_type": "code",
   "execution_count": 47,
   "metadata": {},
   "outputs": [],
   "source": [
    "# Find the average SAT math score for each income level, grouped and then\n",
    "# sorted by year\n",
    "df1 = (\n",
    "    df\n",
    "    .drop(columns=[\"State.Code\", \"Total.Math\"])\n",
    "    .groupby(\"Year\").agg(\"mean\")\n",
    "    .sort_index(ascending=True)\n",
    ")\n"
   ]
  },
  {
   "cell_type": "code",
   "execution_count": 107,
   "metadata": {},
   "outputs": [
    {
     "data": {
      "text/html": [
       "<div>\n",
       "<style scoped>\n",
       "    .dataframe tbody tr th:only-of-type {\n",
       "        vertical-align: middle;\n",
       "    }\n",
       "\n",
       "    .dataframe tbody tr th {\n",
       "        vertical-align: top;\n",
       "    }\n",
       "\n",
       "    .dataframe thead th {\n",
       "        text-align: right;\n",
       "    }\n",
       "</style>\n",
       "<table border=\"1\" class=\"dataframe\">\n",
       "  <thead>\n",
       "    <tr style=\"text-align: right;\">\n",
       "      <th></th>\n",
       "      <th>(20, 40) vs (0, 20)</th>\n",
       "      <th>(40, 60) vs (20, 40)</th>\n",
       "      <th>(60, 80) vs (40, 60)</th>\n",
       "      <th>(80, 100) vs (60, 80)</th>\n",
       "      <th>(100, ) vs (80, 100)</th>\n",
       "    </tr>\n",
       "    <tr>\n",
       "      <th>Year</th>\n",
       "      <th></th>\n",
       "      <th></th>\n",
       "      <th></th>\n",
       "      <th></th>\n",
       "      <th></th>\n",
       "    </tr>\n",
       "  </thead>\n",
       "  <tbody>\n",
       "    <tr>\n",
       "      <th>2005</th>\n",
       "      <td>False</td>\n",
       "      <td>False</td>\n",
       "      <td>False</td>\n",
       "      <td>False</td>\n",
       "      <td>False</td>\n",
       "    </tr>\n",
       "    <tr>\n",
       "      <th>2006</th>\n",
       "      <td>False</td>\n",
       "      <td>False</td>\n",
       "      <td>False</td>\n",
       "      <td>False</td>\n",
       "      <td>False</td>\n",
       "    </tr>\n",
       "    <tr>\n",
       "      <th>2007</th>\n",
       "      <td>False</td>\n",
       "      <td>False</td>\n",
       "      <td>False</td>\n",
       "      <td>False</td>\n",
       "      <td>False</td>\n",
       "    </tr>\n",
       "    <tr>\n",
       "      <th>2008</th>\n",
       "      <td>False</td>\n",
       "      <td>False</td>\n",
       "      <td>False</td>\n",
       "      <td>False</td>\n",
       "      <td>False</td>\n",
       "    </tr>\n",
       "    <tr>\n",
       "      <th>2009</th>\n",
       "      <td>False</td>\n",
       "      <td>False</td>\n",
       "      <td>False</td>\n",
       "      <td>False</td>\n",
       "      <td>False</td>\n",
       "    </tr>\n",
       "    <tr>\n",
       "      <th>2010</th>\n",
       "      <td>False</td>\n",
       "      <td>False</td>\n",
       "      <td>False</td>\n",
       "      <td>False</td>\n",
       "      <td>False</td>\n",
       "    </tr>\n",
       "    <tr>\n",
       "      <th>2011</th>\n",
       "      <td>False</td>\n",
       "      <td>False</td>\n",
       "      <td>False</td>\n",
       "      <td>False</td>\n",
       "      <td>False</td>\n",
       "    </tr>\n",
       "    <tr>\n",
       "      <th>2012</th>\n",
       "      <td>False</td>\n",
       "      <td>False</td>\n",
       "      <td>False</td>\n",
       "      <td>False</td>\n",
       "      <td>False</td>\n",
       "    </tr>\n",
       "    <tr>\n",
       "      <th>2013</th>\n",
       "      <td>False</td>\n",
       "      <td>False</td>\n",
       "      <td>False</td>\n",
       "      <td>False</td>\n",
       "      <td>False</td>\n",
       "    </tr>\n",
       "    <tr>\n",
       "      <th>2014</th>\n",
       "      <td>False</td>\n",
       "      <td>False</td>\n",
       "      <td>False</td>\n",
       "      <td>False</td>\n",
       "      <td>False</td>\n",
       "    </tr>\n",
       "    <tr>\n",
       "      <th>2015</th>\n",
       "      <td>False</td>\n",
       "      <td>False</td>\n",
       "      <td>False</td>\n",
       "      <td>False</td>\n",
       "      <td>False</td>\n",
       "    </tr>\n",
       "  </tbody>\n",
       "</table>\n",
       "</div>"
      ],
      "text/plain": [
       "      (20, 40) vs (0, 20)  (40, 60) vs (20, 40)  (60, 80) vs (40, 60)  \\\n",
       "Year                                                                    \n",
       "2005                False                 False                 False   \n",
       "2006                False                 False                 False   \n",
       "2007                False                 False                 False   \n",
       "2008                False                 False                 False   \n",
       "2009                False                 False                 False   \n",
       "2010                False                 False                 False   \n",
       "2011                False                 False                 False   \n",
       "2012                False                 False                 False   \n",
       "2013                False                 False                 False   \n",
       "2014                False                 False                 False   \n",
       "2015                False                 False                 False   \n",
       "\n",
       "      (80, 100) vs (60, 80)  (100, ) vs (80, 100)  \n",
       "Year                                               \n",
       "2005                  False                 False  \n",
       "2006                  False                 False  \n",
       "2007                  False                 False  \n",
       "2008                  False                 False  \n",
       "2009                  False                 False  \n",
       "2010                  False                 False  \n",
       "2011                  False                 False  \n",
       "2012                  False                 False  \n",
       "2013                  False                 False  \n",
       "2014                  False                 False  \n",
       "2015                  False                 False  "
      ]
     },
     "execution_count": 107,
     "metadata": {},
     "output_type": "execute_result"
    }
   ],
   "source": [
    "# For each year in the data set, determine how much better each income group\n",
    "# did, on average, than the next-poorer group of students. Do you see\n",
    "# any income group that did worse, in any year, than the next-poorer students\n",
    "\n",
    "df2 = df1.shift(-1, axis=1)\n",
    "new_names = [\"(20, 40) vs (0, 20)\", \"(40, 60) vs (20, 40)\", \n",
    "             \"(60, 80) vs (40, 60)\", \"(80, 100) vs (60, 80)\", \n",
    "             \"(100, ) vs (80, 100)\"]\n",
    "diff = (df2 - df1).dropna(axis=1)\n",
    "diff.columns = new_names\n",
    "diff < 0"
   ]
  },
  {
   "cell_type": "code",
   "execution_count": 51,
   "metadata": {},
   "outputs": [
    {
     "data": {
      "text/plain": [
       "'(20, 40) vs (0, 20)'"
      ]
     },
     "execution_count": 51,
     "metadata": {},
     "output_type": "execute_result"
    }
   ],
   "source": [
    "# Which income bracket, on average, had the greatest advantage over the next-\n",
    "# poorer income bracket?\n",
    "diff.mean(axis=0).idxmax()\n"
   ]
  },
  {
   "cell_type": "code",
   "execution_count": 124,
   "metadata": {},
   "outputs": [
    {
     "data": {
      "text/plain": [
       "State.Code\n",
       "ND    341.909091\n",
       "WY    246.454545\n",
       "DC    208.818182\n",
       "SD    157.000000\n",
       "MS    140.000000\n",
       "Name: delta, dtype: float64"
      ]
     },
     "execution_count": 124,
     "metadata": {},
     "output_type": "execute_result"
    }
   ],
   "source": [
    "# Which five states have the greatest gap in SAT math scores between the richest\n",
    "# and poorest students?\n",
    "(\n",
    "    df\n",
    "    .assign(delta=df[\"income>100k\"] - df[\"income<20k\"])\n",
    "    .groupby(\"State.Code\")[\"delta\"]\n",
    "    .mean()\n",
    "    .sort_values(ascending=False)[:5]\n",
    ")"
   ]
  },
  {
   "cell_type": "code",
   "execution_count": 135,
   "metadata": {},
   "outputs": [],
   "source": [
    "import polars as pl\n",
    "# Read in the scores file (sat-scores.csv). This time, you want the following \n",
    "# columns\n",
    "\n",
    "columns = [\"Year\", \"State.Code\", \"Total.Math\", \"Family Income.Less than 20k.Math\",\n",
    "\"Family Income.Between 20-40k.Math\", \"Family Income.Between 40-60k.Math\",\n",
    "\"Family Income.Between 60-80k.Math\", \"Family Income.Between 80-100k.Math\",\n",
    "\"Family Income.More than 100k.Math\"]\n",
    "\n",
    "# Rename the income-related column names to something shorter\n",
    "\n",
    "new_names = [\"Year\", \"State.Code\", \"Total.Math\", \"income<20k\", \"20k<income<40k\", \n",
    "        \"40k<income<60k\", \"60k<income<80k\", \"80k<income<100k\", \"income>100k\"]\n",
    "cols = dict(zip(columns, new_names))\n",
    "\n",
    "df = pl.read_csv(\"data/sat-scores.csv\", columns=columns).rename(cols)[new_names]"
   ]
  },
  {
   "cell_type": "code",
   "execution_count": 143,
   "metadata": {},
   "outputs": [],
   "source": [
    "# Find the average SAT math score for each income level, grouped and then\n",
    "# sorted by year\n",
    "df1 = (\n",
    "    df\n",
    "    .drop([\"State.Code\", \"Total.Math\"])\n",
    "    .group_by(\"Year\").mean()\n",
    "    .sort(by=\"Year\", descending=False)\n",
    ")"
   ]
  },
  {
   "cell_type": "code",
   "execution_count": 186,
   "metadata": {},
   "outputs": [
    {
     "data": {
      "text/html": [
       "<div><style>\n",
       ".dataframe > thead > tr,\n",
       ".dataframe > tbody > tr {\n",
       "  text-align: right;\n",
       "  white-space: pre-wrap;\n",
       "}\n",
       "</style>\n",
       "<small>shape: (11, 5)</small><table border=\"1\" class=\"dataframe\"><thead><tr><th>(20, 40) vs (0, 20)</th><th>(40, 60) vs (20, 40)</th><th>(60, 80) vs (40, 60)</th><th>(80, 100) vs (60, 80)</th><th>(100, ) vs (80, 100)</th></tr><tr><td>bool</td><td>bool</td><td>bool</td><td>bool</td><td>bool</td></tr></thead><tbody><tr><td>false</td><td>false</td><td>false</td><td>false</td><td>false</td></tr><tr><td>false</td><td>false</td><td>false</td><td>false</td><td>false</td></tr><tr><td>false</td><td>false</td><td>false</td><td>false</td><td>false</td></tr><tr><td>false</td><td>false</td><td>false</td><td>false</td><td>false</td></tr><tr><td>false</td><td>false</td><td>false</td><td>false</td><td>false</td></tr><tr><td>&hellip;</td><td>&hellip;</td><td>&hellip;</td><td>&hellip;</td><td>&hellip;</td></tr><tr><td>false</td><td>false</td><td>false</td><td>false</td><td>false</td></tr><tr><td>false</td><td>false</td><td>false</td><td>false</td><td>false</td></tr><tr><td>false</td><td>false</td><td>false</td><td>false</td><td>false</td></tr><tr><td>false</td><td>false</td><td>false</td><td>false</td><td>false</td></tr><tr><td>false</td><td>false</td><td>false</td><td>false</td><td>false</td></tr></tbody></table></div>"
      ],
      "text/plain": [
       "shape: (11, 5)\n",
       "┌───────────────────────┬──────────────────┬──────────────────────┬──────────────┬─────────────────┐\n",
       "│ (20, 40) vs (0, 20)   ┆ (40, 60) vs (20, ┆ (60, 80) vs (40, 60) ┆ (80, 100) vs ┆ (100, ) vs (80, │\n",
       "│ ---                   ┆ 40)              ┆ ---                  ┆ (60, 80)     ┆ 100)            │\n",
       "│ bool                  ┆ ---              ┆ bool                 ┆ ---          ┆ ---             │\n",
       "│                       ┆ bool             ┆                      ┆ bool         ┆ bool            │\n",
       "╞═══════════════════════╪══════════════════╪══════════════════════╪══════════════╪═════════════════╡\n",
       "│ false                 ┆ false            ┆ false                ┆ false        ┆ false           │\n",
       "│ false                 ┆ false            ┆ false                ┆ false        ┆ false           │\n",
       "│ false                 ┆ false            ┆ false                ┆ false        ┆ false           │\n",
       "│ false                 ┆ false            ┆ false                ┆ false        ┆ false           │\n",
       "│ false                 ┆ false            ┆ false                ┆ false        ┆ false           │\n",
       "│ …                     ┆ …                ┆ …                    ┆ …            ┆ …               │\n",
       "│ false                 ┆ false            ┆ false                ┆ false        ┆ false           │\n",
       "│ false                 ┆ false            ┆ false                ┆ false        ┆ false           │\n",
       "│ false                 ┆ false            ┆ false                ┆ false        ┆ false           │\n",
       "│ false                 ┆ false            ┆ false                ┆ false        ┆ false           │\n",
       "│ false                 ┆ false            ┆ false                ┆ false        ┆ false           │\n",
       "└───────────────────────┴──────────────────┴──────────────────────┴──────────────┴─────────────────┘"
      ]
     },
     "execution_count": 186,
     "metadata": {},
     "output_type": "execute_result"
    }
   ],
   "source": [
    "# For each year in the data set, determine how much better each income group\n",
    "# did, on average, than the next-poorer group of students. Do you see\n",
    "# any income group that did worse, in any year, than the next-poorer students\n",
    "\n",
    "import polars.selectors as cs\n",
    "new_names = [\"(20, 40) vs (0, 20)\", \"(40, 60) vs (20, 40)\", \n",
    "             \"(60, 80) vs (40, 60)\", \"(80, 100) vs (60, 80)\", \n",
    "             \"(100, ) vs (80, 100)\"]\n",
    "\n",
    "tmp = df1.drop(\"Year\").transpose()\n",
    "diff = (tmp.shift(-1) - tmp).transpose().drop(cs.by_index(-1))\n",
    "diff.columns = new_names\n",
    "diff < 0"
   ]
  },
  {
   "cell_type": "code",
   "execution_count": null,
   "metadata": {},
   "outputs": [
    {
     "data": {
      "text/html": [
       "<div><style>\n",
       ".dataframe > thead > tr,\n",
       ".dataframe > tbody > tr {\n",
       "  text-align: right;\n",
       "  white-space: pre-wrap;\n",
       "}\n",
       "</style>\n",
       "<small>shape: (1, 2)</small><table border=\"1\" class=\"dataframe\"><thead><tr><th>column</th><th>column_0</th></tr><tr><td>str</td><td>f64</td></tr></thead><tbody><tr><td>&quot;(20, 40) vs (0, 20)&quot;</td><td>38.517944</td></tr></tbody></table></div>"
      ],
      "text/plain": [
       "shape: (1, 2)\n",
       "┌─────────────────────┬───────────┐\n",
       "│ column              ┆ column_0  │\n",
       "│ ---                 ┆ ---       │\n",
       "│ str                 ┆ f64       │\n",
       "╞═════════════════════╪═══════════╡\n",
       "│ (20, 40) vs (0, 20) ┆ 38.517944 │\n",
       "└─────────────────────┴───────────┘"
      ]
     },
     "execution_count": 212,
     "metadata": {},
     "output_type": "execute_result"
    }
   ],
   "source": [
    "# Which income bracket, on average, had the greatest advantage over the next-\n",
    "# poorer income bracket?\n",
    "(\n",
    "    diff\n",
    "    .mean()\n",
    "    .transpose(include_header=True)\n",
    "    .sort(by=\"column_0\", descending=True)[:1]\n",
    ")"
   ]
  },
  {
   "cell_type": "code",
   "execution_count": 221,
   "metadata": {},
   "outputs": [
    {
     "data": {
      "text/html": [
       "<div><style>\n",
       ".dataframe > thead > tr,\n",
       ".dataframe > tbody > tr {\n",
       "  text-align: right;\n",
       "  white-space: pre-wrap;\n",
       "}\n",
       "</style>\n",
       "<small>shape: (5, 2)</small><table border=\"1\" class=\"dataframe\"><thead><tr><th>State.Code</th><th>delta</th></tr><tr><td>str</td><td>f64</td></tr></thead><tbody><tr><td>&quot;ND&quot;</td><td>341.909091</td></tr><tr><td>&quot;WY&quot;</td><td>246.454545</td></tr><tr><td>&quot;DC&quot;</td><td>208.818182</td></tr><tr><td>&quot;SD&quot;</td><td>157.0</td></tr><tr><td>&quot;MS&quot;</td><td>140.0</td></tr></tbody></table></div>"
      ],
      "text/plain": [
       "shape: (5, 2)\n",
       "┌────────────┬────────────┐\n",
       "│ State.Code ┆ delta      │\n",
       "│ ---        ┆ ---        │\n",
       "│ str        ┆ f64        │\n",
       "╞════════════╪════════════╡\n",
       "│ ND         ┆ 341.909091 │\n",
       "│ WY         ┆ 246.454545 │\n",
       "│ DC         ┆ 208.818182 │\n",
       "│ SD         ┆ 157.0      │\n",
       "│ MS         ┆ 140.0      │\n",
       "└────────────┴────────────┘"
      ]
     },
     "execution_count": 221,
     "metadata": {},
     "output_type": "execute_result"
    }
   ],
   "source": [
    "# Which five states have the greatest gap in SAT math scores between the richest\n",
    "# and poorest students?\n",
    "(\n",
    "    df\n",
    "    .with_columns((pl.col(\"income>100k\") - pl.col(\"income<20k\")).alias(\"delta\"))\n",
    "    .group_by(\"State.Code\")\n",
    "    .agg(pl.col(\"delta\").mean())\n",
    "    .sort(by=\"delta\", descending=True)[:5]\n",
    ")"
   ]
  },
  {
   "cell_type": "code",
   "execution_count": null,
   "metadata": {},
   "outputs": [],
   "source": []
  }
 ],
 "metadata": {
  "kernelspec": {
   "display_name": "Python 3",
   "language": "python",
   "name": "python3"
  },
  "language_info": {
   "codemirror_mode": {
    "name": "ipython",
    "version": 3
   },
   "file_extension": ".py",
   "mimetype": "text/x-python",
   "name": "python",
   "nbconvert_exporter": "python",
   "pygments_lexer": "ipython3",
   "version": "3.12.8"
  }
 },
 "nbformat": 4,
 "nbformat_minor": 2
}
