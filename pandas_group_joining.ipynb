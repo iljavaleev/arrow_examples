{
 "cells": [
  {
   "cell_type": "code",
   "execution_count": 2,
   "metadata": {},
   "outputs": [],
   "source": [
    "import pandas as pd\n",
    "import numpy as np\n",
    "import polars as pl\n"
   ]
  },
  {
   "cell_type": "code",
   "execution_count": 40,
   "metadata": {},
   "outputs": [],
   "source": [
    "df = pd.read_csv('data/nyc_taxi_2019-01.csv', \n",
    "                 usecols=['passenger_count', 'trip_distance', 'total_amount'])"
   ]
  },
  {
   "cell_type": "code",
   "execution_count": 3,
   "metadata": {},
   "outputs": [],
   "source": [
    "df = pl.read_csv('data/nyc_taxi_2019-01.csv', \n",
    "                 columns=['passenger_count', 'trip_distance', 'total_amount'])"
   ]
  },
  {
   "cell_type": "code",
   "execution_count": 41,
   "metadata": {},
   "outputs": [
    {
     "name": "stdout",
     "output_type": "stream",
     "text": [
      "748 ms ± 12.2 ms per loop (mean ± std. dev. of 7 runs, 1 loop each)\n"
     ]
    }
   ],
   "source": [
    "%%timeit\n",
    "# the average cost of the 20 longest (in distance) taxirides in January 2019 (descending)\n",
    "(\n",
    "    df\n",
    "    .sort_values(by=[\"trip_distance\"], ascending=False)[:20][\"total_amount\"]\n",
    "    .mean()\n",
    ")"
   ]
  },
  {
   "cell_type": "code",
   "execution_count": 21,
   "metadata": {},
   "outputs": [
    {
     "name": "stdout",
     "output_type": "stream",
     "text": [
      "178 ms ± 1.76 ms per loop (mean ± std. dev. of 7 runs, 10 loops each)\n"
     ]
    }
   ],
   "source": [
    "%%timeit\n",
    "(\n",
    "    df\n",
    "    .sort(by=[\"trip_distance\"], descending=True)[:20]\n",
    "    .select(pl.col(\"total_amount\"))\n",
    "    .mean()\n",
    ")"
   ]
  },
  {
   "cell_type": "code",
   "execution_count": 42,
   "metadata": {},
   "outputs": [
    {
     "name": "stdout",
     "output_type": "stream",
     "text": [
      "719 ms ± 14.9 ms per loop (mean ± std. dev. of 7 runs, 1 loop each)\n"
     ]
    }
   ],
   "source": [
    "%%timeit\n",
    "# the average cost of the 20 longest (in distance) taxirides in January 2019 (ascending)\n",
    "(\n",
    "    df\n",
    "    .sort_values(by=[\"trip_distance\"])[-20:][\"total_amount\"]\n",
    "    .mean()\n",
    ")"
   ]
  },
  {
   "cell_type": "code",
   "execution_count": 22,
   "metadata": {},
   "outputs": [
    {
     "name": "stdout",
     "output_type": "stream",
     "text": [
      "173 ms ± 1.93 ms per loop (mean ± std. dev. of 7 runs, 10 loops each)\n"
     ]
    }
   ],
   "source": [
    "%%timeit\n",
    "(\n",
    "    df\n",
    "    .sort(by=[\"trip_distance\"], descending=False)[-20:]\n",
    "    .select(pl.col(\"total_amount\"))\n",
    "    .mean()\n",
    ")"
   ]
  },
  {
   "cell_type": "code",
   "execution_count": 43,
   "metadata": {},
   "outputs": [
    {
     "name": "stdout",
     "output_type": "stream",
     "text": [
      "344 ms ± 14 ms per loop (mean ± std. dev. of 7 runs, 1 loop each)\n"
     ]
    }
   ],
   "source": [
    "%%timeit\n",
    "# Sort by ascending passenger count and descending trip distance\n",
    "# Average price paid for the top 50 rides\n",
    "\n",
    "(\n",
    "    df\n",
    "    .sort_values(\n",
    "        by=[\"passenger_count\", \"trip_distance\"], \n",
    "        ascending=[True, False])[:50][\"total_amount\"]\n",
    "    .mean()\n",
    ")"
   ]
  },
  {
   "cell_type": "code",
   "execution_count": 25,
   "metadata": {},
   "outputs": [
    {
     "name": "stdout",
     "output_type": "stream",
     "text": [
      "257 ms ± 4.91 ms per loop (mean ± std. dev. of 7 runs, 1 loop each)\n"
     ]
    }
   ],
   "source": [
    "%%timeit\n",
    "(\n",
    "    df\n",
    "    .sort(by=[\"passenger_count\", \"trip_distance\"], descending=[False, True])[:50]\n",
    "    .select(pl.col(\"total_amount\"))\n",
    "    .mean()\n",
    ")"
   ]
  },
  {
   "cell_type": "code",
   "execution_count": 44,
   "metadata": {},
   "outputs": [
    {
     "name": "stdout",
     "output_type": "stream",
     "text": [
      "1.17 s ± 27.9 ms per loop (mean ± std. dev. of 7 runs, 1 loop each)\n"
     ]
    }
   ],
   "source": [
    "%%timeit\n",
    "# In which five rides did people pay the most per mile? \n",
    "# How far did people go on those trips?\n",
    "(\n",
    "    df\n",
    "    .replace(0, np.nan)\n",
    "    .dropna()\n",
    "    .assign(cost_per_mile=df[\"total_amount\"]/df[\"trip_distance\"])\n",
    "    .sort_values(by=\"cost_per_mile\", ascending=False)[:5]\n",
    "    [[\"trip_distance\", \"cost_per_mile\"]]\n",
    ")"
   ]
  },
  {
   "cell_type": "code",
   "execution_count": 5,
   "metadata": {},
   "outputs": [
    {
     "name": "stdout",
     "output_type": "stream",
     "text": [
      "197 ms ± 4.9 ms per loop (mean ± std. dev. of 7 runs, 1 loop each)\n"
     ]
    }
   ],
   "source": [
    "%%timeit\n",
    "(\n",
    "    df.filter((pl.col(\"total_amount\") != 0) & (pl.col(\"trip_distance\") != 0))\n",
    "    .with_columns(\n",
    "        (pl.col(\"total_amount\")/pl.col(\"trip_distance\")).alias(\"cost_per_mile\"))\n",
    "    .sort(by=\"cost_per_mile\", descending=True)[:5]\n",
    "    .select(\"trip_distance\", \"cost_per_mile\")\n",
    ")"
   ]
  },
  {
   "cell_type": "code",
   "execution_count": 46,
   "metadata": {},
   "outputs": [
    {
     "name": "stdout",
     "output_type": "stream",
     "text": [
      "1.01 s ± 24.8 ms per loop (mean ± std. dev. of 7 runs, 1 loop each)\n"
     ]
    }
   ],
   "source": [
    "%%timeit\n",
    "# Assume that multipassenger rides are split evenly among the passengers.\n",
    "# In which 10 multipassenger rides did each individual pay the greatest amount?\n",
    "\n",
    "(\n",
    "    df[(df['total_amount'] != 0) & (df['passenger_count'] != 0)]\n",
    "    .assign(cost_per_passenger=df[\"total_amount\"]/df[\"passenger_count\"])\n",
    "    .sort_values(by=\"cost_per_passenger\", ascending=False)[:10]\n",
    ")"
   ]
  },
  {
   "cell_type": "code",
   "execution_count": 7,
   "metadata": {},
   "outputs": [
    {
     "name": "stdout",
     "output_type": "stream",
     "text": [
      "182 ms ± 5.29 ms per loop (mean ± std. dev. of 7 runs, 1 loop each)\n"
     ]
    }
   ],
   "source": [
    "%%timeit\n",
    "(\n",
    "    df.filter((pl.col(\"total_amount\") != 0) & (pl.col(\"passenger_count\") != 0))\n",
    "    .with_columns(\n",
    "        (pl.col(\"total_amount\")/pl.col(\"passenger_count\")).alias(\"cost_per_passenger\"))\n",
    "    .sort(by=\"cost_per_passenger\", descending=True)[:10]\n",
    ")"
   ]
  },
  {
   "cell_type": "code",
   "execution_count": 47,
   "metadata": {},
   "outputs": [],
   "source": [
    "df=None"
   ]
  },
  {
   "cell_type": "code",
   "execution_count": 38,
   "metadata": {},
   "outputs": [],
   "source": [
    "import pyarrow as pa\n",
    "import pyarrow.csv\n",
    "import pyarrow.compute"
   ]
  },
  {
   "cell_type": "code",
   "execution_count": null,
   "metadata": {},
   "outputs": [],
   "source": [
    "co = pa.csv.ConvertOptions(include_columns=['passenger_count', 'trip_distance', 'total_amount'])\n",
    "df = pa.csv.read_csv('data/nyc_taxi_2019-01.csv', convert_options=co)\n"
   ]
  },
  {
   "cell_type": "code",
   "execution_count": null,
   "metadata": {},
   "outputs": [
    {
     "name": "stdout",
     "output_type": "stream",
     "text": [
      "1.14 s ± 27.6 ms per loop (mean ± std. dev. of 7 runs, 1 loop each)\n"
     ]
    }
   ],
   "source": [
    "%%timeit\n",
    "pa.compute.mean(\n",
    "    pa.compute.take(\n",
    "    df,\n",
    "    pa.compute.sort_indices(df, sort_keys=[(\"trip_distance\", \"descending\")])\n",
    "    )[\"total_amount\"][:20]\n",
    ")"
   ]
  },
  {
   "cell_type": "markdown",
   "metadata": {},
   "source": [
    "# Part 2"
   ]
  },
  {
   "cell_type": "code",
   "execution_count": 8,
   "metadata": {},
   "outputs": [],
   "source": [
    "df = pd.read_csv('data/nyc_taxi_2019-01.csv', \n",
    "                 usecols=['passenger_count', 'trip_distance', 'total_amount'])"
   ]
  },
  {
   "cell_type": "code",
   "execution_count": 25,
   "metadata": {},
   "outputs": [],
   "source": [
    "df = pl.read_csv('data/nyc_taxi_2019-01.csv', \n",
    "                 columns=['passenger_count', 'trip_distance', 'total_amount'])"
   ]
  },
  {
   "cell_type": "code",
   "execution_count": 39,
   "metadata": {},
   "outputs": [],
   "source": [
    "co = pa.csv.ConvertOptions(include_columns=['passenger_count', 'trip_distance', 'total_amount'])\n",
    "df = pa.csv.read_csv('data/nyc_taxi_2019-01.csv', convert_options=co)"
   ]
  },
  {
   "cell_type": "code",
   "execution_count": 22,
   "metadata": {},
   "outputs": [
    {
     "name": "stdout",
     "output_type": "stream",
     "text": [
      "88.1 ms ± 153 μs per loop (mean ± std. dev. of 7 runs, 10 loops each)\n"
     ]
    }
   ],
   "source": [
    "%%timeit\n",
    "# For each number of passengers, find the mean cost of a taxi ride. Sort this\n",
    "# result from lowest (i.e., cheapest) to highest (i.e., most expensive)\n",
    "\n",
    "(\n",
    "    df.groupby(\"passenger_count\")\n",
    "    .agg(mean_cost=(\"total_amount\", \"mean\"))\n",
    "    .sort_values(by=\"mean_cost\", ascending=True)\n",
    ")"
   ]
  },
  {
   "cell_type": "code",
   "execution_count": null,
   "metadata": {},
   "outputs": [
    {
     "name": "stdout",
     "output_type": "stream",
     "text": [
      "14.9 ms ± 631 μs per loop (mean ± std. dev. of 7 runs, 100 loops each)\n"
     ]
    }
   ],
   "source": [
    "%%timeit\n",
    "(\n",
    "    df.group_by(pl.col(\"passenger_count\"))\n",
    "    .agg(pl.col(\"total_amount\").mean().alias(\"mean_cost\"))\n",
    "    .sort(by=\"mean_cost\")\n",
    ")"
   ]
  },
  {
   "cell_type": "code",
   "execution_count": 46,
   "metadata": {},
   "outputs": [
    {
     "name": "stdout",
     "output_type": "stream",
     "text": [
      "8.39 ms ± 31.5 μs per loop (mean ± std. dev. of 7 runs, 100 loops each)\n"
     ]
    }
   ],
   "source": [
    "%%timeit\n",
    "(\n",
    "    df.group_by(\"passenger_count\")\n",
    "    .aggregate([(\"total_amount\", \"mean\")])\n",
    "    .sort_by([(\"total_amount_mean\", \"descending\")])\n",
    ")"
   ]
  },
  {
   "cell_type": "code",
   "execution_count": 23,
   "metadata": {},
   "outputs": [
    {
     "name": "stdout",
     "output_type": "stream",
     "text": [
      "88.9 ms ± 1.13 ms per loop (mean ± std. dev. of 7 runs, 10 loops each)\n"
     ]
    }
   ],
   "source": [
    "%%timeit\n",
    "# Sort again by increasing the number of passengers\n",
    "(\n",
    "    df.groupby(\"passenger_count\")\n",
    "    .agg(mean_cost=(\"total_amount\", \"mean\"))\n",
    "    .sort_values(by=[\"passenger_count\"], ascending=True)\n",
    ")"
   ]
  },
  {
   "cell_type": "code",
   "execution_count": null,
   "metadata": {},
   "outputs": [
    {
     "name": "stdout",
     "output_type": "stream",
     "text": [
      "14.4 ms ± 311 μs per loop (mean ± std. dev. of 7 runs, 100 loops each)\n"
     ]
    }
   ],
   "source": [
    "%%timeit\n",
    "(\n",
    "    df.group_by(pl.col(\"passenger_count\"))\n",
    "    .agg(pl.col(\"total_amount\").mean().alias(\"mean_cost\"))\n",
    "    .sort(by=\"passenger_count\")\n",
    ")"
   ]
  },
  {
   "cell_type": "code",
   "execution_count": 47,
   "metadata": {},
   "outputs": [
    {
     "name": "stdout",
     "output_type": "stream",
     "text": [
      "8.67 ms ± 386 μs per loop (mean ± std. dev. of 7 runs, 100 loops each)\n"
     ]
    }
   ],
   "source": [
    "%%timeit\n",
    "(\n",
    "    df.group_by(\"passenger_count\")\n",
    "    .aggregate([(\"total_amount\", \"mean\")])\n",
    "    .sort_by([(\"passenger_count\", \"descending\")])\n",
    ")"
   ]
  },
  {
   "cell_type": "code",
   "execution_count": null,
   "metadata": {},
   "outputs": [
    {
     "name": "stdout",
     "output_type": "stream",
     "text": [
      "201 ms ± 3.06 ms per loop (mean ± std. dev. of 7 runs, 1 loop each)\n"
     ]
    }
   ],
   "source": [
    "%%timeit\n",
    "# Create a new column, trip_distance_group in which the values are short (< 2\n",
    "# miles), medium ( 2 miles and 10 miles), and long (> 10 miles). What is the\n",
    "# average number of passengers per trip length category? Sort this result from\n",
    "# highest (most passengers) to lowest (fewest passengers)\n",
    "\n",
    "(\n",
    "    df\n",
    "    .assign(\n",
    "        trip_distance_group = pd.cut(df['trip_distance'], \n",
    "        bins=[0, 2, 10, float(\"inf\")], \n",
    "        labels=['short', 'medium', 'long'], \n",
    "        include_lowest=True))\n",
    "    .groupby(\"trip_distance_group\", observed=True)\n",
    "    .agg(mean_pass=(\"passenger_count\", \"mean\"))\n",
    "    .sort_values(by=\"mean_pass\", ascending=False)\n",
    " )\n",
    " "
   ]
  },
  {
   "cell_type": "code",
   "execution_count": 36,
   "metadata": {},
   "outputs": [
    {
     "name": "stdout",
     "output_type": "stream",
     "text": [
      "294 ms ± 5.66 ms per loop (mean ± std. dev. of 7 runs, 1 loop each)\n"
     ]
    }
   ],
   "source": [
    "%%timeit\n",
    "(\n",
    "    df.with_columns(\n",
    "        pl.col(\"trip_distance\")\n",
    "        .cut([2, 10], labels=[\"short\", \"medium\", \"long\"])\n",
    "        .alias(\"trip_distance_group\"))\n",
    "    .group_by(pl.col(\"trip_distance_group\"))\n",
    "    .agg(pl.col(\"passenger_count\").mean().alias(\"mean_pass\"))\n",
    "    .sort(by=\"mean_pass\")\n",
    ")"
   ]
  },
  {
   "cell_type": "code",
   "execution_count": null,
   "metadata": {},
   "outputs": [],
   "source": []
  }
 ],
 "metadata": {
  "kernelspec": {
   "display_name": "Python 3",
   "language": "python",
   "name": "python3"
  },
  "language_info": {
   "codemirror_mode": {
    "name": "ipython",
    "version": 3
   },
   "file_extension": ".py",
   "mimetype": "text/x-python",
   "name": "python",
   "nbconvert_exporter": "python",
   "pygments_lexer": "ipython3",
   "version": "3.12.8"
  }
 },
 "nbformat": 4,
 "nbformat_minor": 2
}
